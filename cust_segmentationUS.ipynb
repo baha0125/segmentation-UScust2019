{
  "nbformat": 4,
  "nbformat_minor": 0,
  "metadata": {
    "colab": {
      "provenance": []
    },
    "kernelspec": {
      "name": "python3",
      "display_name": "Python 3"
    },
    "language_info": {
      "name": "python"
    }
  },
  "cells": [
    {
      "cell_type": "code",
      "execution_count": 9,
      "metadata": {
        "id": "FECH7wNDOyuY"
      },
      "outputs": [],
      "source": [
        "import pandas as pd\n",
        "import numpy as np\n",
        "import matplotlib.pyplot as plt\n",
        "import seaborn as sns\n",
        "import plotly.express as px\n",
        "import zipfile\n",
        "from scipy.stats.mstats import trimmed_var\n",
        "from sklearn.cluster import KMeans\n",
        "from sklearn.decomposition import PCA\n",
        "from sklearn.metrics import silhouette_score\n",
        "from sklearn.pipeline import make_pipeline\n",
        "from sklearn.preprocessing import StandardScaler"
      ]
    },
    {
      "cell_type": "markdown",
      "source": [
        "# Load data"
      ],
      "metadata": {
        "id": "LHeEwFtZ9lxn"
      }
    },
    {
      "cell_type": "markdown",
      "source": [
        "To understand all features of this dataset, you can read: [code book](https://sda.berkeley.edu/sdaweb/docs/scfcomb2019/DOC/hcbk.htm)"
      ],
      "metadata": {
        "id": "hNt3kWCvPQjZ"
      }
    },
    {
      "cell_type": "code",
      "source": [
        "!mkdir ol-data\n",
        "!wget https://github.com/bahategar/segmentation-UScust2019/raw/main/dataset/scfp2019.zip -P ./ol-data/"
      ],
      "metadata": {
        "colab": {
          "base_uri": "https://localhost:8080/"
        },
        "id": "bE3Wpf4O_sjW",
        "outputId": "fcff98c8-676b-4b9d-fe93-14b13b3eb988"
      },
      "execution_count": 10,
      "outputs": [
        {
          "output_type": "stream",
          "name": "stdout",
          "text": [
            "mkdir: cannot create directory ‘ol-data’: File exists\n",
            "--2022-09-28 16:51:36--  https://github.com/bahategar/segmentation-UScust2019/raw/main/dataset/scfp2019.zip\n",
            "Resolving github.com (github.com)... 140.82.112.3\n",
            "Connecting to github.com (github.com)|140.82.112.3|:443... connected.\n",
            "HTTP request sent, awaiting response... 302 Found\n",
            "Location: https://raw.githubusercontent.com/bahategar/segmentation-UScust2019/main/dataset/scfp2019.zip [following]\n",
            "--2022-09-28 16:51:36--  https://raw.githubusercontent.com/bahategar/segmentation-UScust2019/main/dataset/scfp2019.zip\n",
            "Resolving raw.githubusercontent.com (raw.githubusercontent.com)... 185.199.108.133, 185.199.109.133, 185.199.110.133, ...\n",
            "Connecting to raw.githubusercontent.com (raw.githubusercontent.com)|185.199.108.133|:443... connected.\n",
            "HTTP request sent, awaiting response... 200 OK\n",
            "Length: 2635565 (2.5M) [application/zip]\n",
            "Saving to: ‘./ol-data/scfp2019.zip.1’\n",
            "\n",
            "scfp2019.zip.1      100%[===================>]   2.51M  --.-KB/s    in 0.06s   \n",
            "\n",
            "2022-09-28 16:51:36 (38.7 MB/s) - ‘./ol-data/scfp2019.zip.1’ saved [2635565/2635565]\n",
            "\n"
          ]
        }
      ]
    },
    {
      "cell_type": "code",
      "source": [
        "# Load dataset\n",
        "\n",
        "with zipfile.ZipFile('/content/ol-data/scfp2019.zip') as z:\n",
        "  with z.open('SCFP2019.csv') as f:\n",
        "    df = pd.read_csv(f, encoding=\"ISO-8859-1\")\n",
        "\n",
        "df.head()"
      ],
      "metadata": {
        "colab": {
          "base_uri": "https://localhost:8080/",
          "height": 236
        },
        "id": "5SMzgtmMAM0n",
        "outputId": "43ce6911-4ef0-4731-ca63-60fd4dd36bd9"
      },
      "execution_count": 11,
      "outputs": [
        {
          "output_type": "execute_result",
          "data": {
            "text/plain": [
              "   YY1  Y1          WGT  HHSEX  AGE  AGECL  EDUC  EDCL  MARRIED  KIDS  ...  \\\n",
              "0    1  11  6119.779308      2   75      6    12     4        2     0  ...   \n",
              "1    1  12  4712.374912      2   75      6    12     4        2     0  ...   \n",
              "2    1  13  5145.224455      2   75      6    12     4        2     0  ...   \n",
              "3    1  14  5297.663412      2   75      6    12     4        2     0  ...   \n",
              "4    1  15  4761.812371      2   75      6    12     4        2     0  ...   \n",
              "\n",
              "   NWCAT  INCCAT  ASSETCAT  NINCCAT  NINC2CAT  NWPCTLECAT  INCPCTLECAT  \\\n",
              "0      5       3         6        3         2          10            6   \n",
              "1      5       3         6        3         1          10            5   \n",
              "2      5       3         6        3         1          10            5   \n",
              "3      5       2         6        2         1          10            4   \n",
              "4      5       3         6        3         1          10            5   \n",
              "\n",
              "   NINCPCTLECAT  INCQRTCAT  NINCQRTCAT  \n",
              "0             6          3           3  \n",
              "1             5          2           2  \n",
              "2             5          2           2  \n",
              "3             4          2           2  \n",
              "4             5          2           2  \n",
              "\n",
              "[5 rows x 351 columns]"
            ],
            "text/html": [
              "\n",
              "  <div id=\"df-89f8af77-c78b-4e1a-9e18-2705488e7593\">\n",
              "    <div class=\"colab-df-container\">\n",
              "      <div>\n",
              "<style scoped>\n",
              "    .dataframe tbody tr th:only-of-type {\n",
              "        vertical-align: middle;\n",
              "    }\n",
              "\n",
              "    .dataframe tbody tr th {\n",
              "        vertical-align: top;\n",
              "    }\n",
              "\n",
              "    .dataframe thead th {\n",
              "        text-align: right;\n",
              "    }\n",
              "</style>\n",
              "<table border=\"1\" class=\"dataframe\">\n",
              "  <thead>\n",
              "    <tr style=\"text-align: right;\">\n",
              "      <th></th>\n",
              "      <th>YY1</th>\n",
              "      <th>Y1</th>\n",
              "      <th>WGT</th>\n",
              "      <th>HHSEX</th>\n",
              "      <th>AGE</th>\n",
              "      <th>AGECL</th>\n",
              "      <th>EDUC</th>\n",
              "      <th>EDCL</th>\n",
              "      <th>MARRIED</th>\n",
              "      <th>KIDS</th>\n",
              "      <th>...</th>\n",
              "      <th>NWCAT</th>\n",
              "      <th>INCCAT</th>\n",
              "      <th>ASSETCAT</th>\n",
              "      <th>NINCCAT</th>\n",
              "      <th>NINC2CAT</th>\n",
              "      <th>NWPCTLECAT</th>\n",
              "      <th>INCPCTLECAT</th>\n",
              "      <th>NINCPCTLECAT</th>\n",
              "      <th>INCQRTCAT</th>\n",
              "      <th>NINCQRTCAT</th>\n",
              "    </tr>\n",
              "  </thead>\n",
              "  <tbody>\n",
              "    <tr>\n",
              "      <th>0</th>\n",
              "      <td>1</td>\n",
              "      <td>11</td>\n",
              "      <td>6119.779308</td>\n",
              "      <td>2</td>\n",
              "      <td>75</td>\n",
              "      <td>6</td>\n",
              "      <td>12</td>\n",
              "      <td>4</td>\n",
              "      <td>2</td>\n",
              "      <td>0</td>\n",
              "      <td>...</td>\n",
              "      <td>5</td>\n",
              "      <td>3</td>\n",
              "      <td>6</td>\n",
              "      <td>3</td>\n",
              "      <td>2</td>\n",
              "      <td>10</td>\n",
              "      <td>6</td>\n",
              "      <td>6</td>\n",
              "      <td>3</td>\n",
              "      <td>3</td>\n",
              "    </tr>\n",
              "    <tr>\n",
              "      <th>1</th>\n",
              "      <td>1</td>\n",
              "      <td>12</td>\n",
              "      <td>4712.374912</td>\n",
              "      <td>2</td>\n",
              "      <td>75</td>\n",
              "      <td>6</td>\n",
              "      <td>12</td>\n",
              "      <td>4</td>\n",
              "      <td>2</td>\n",
              "      <td>0</td>\n",
              "      <td>...</td>\n",
              "      <td>5</td>\n",
              "      <td>3</td>\n",
              "      <td>6</td>\n",
              "      <td>3</td>\n",
              "      <td>1</td>\n",
              "      <td>10</td>\n",
              "      <td>5</td>\n",
              "      <td>5</td>\n",
              "      <td>2</td>\n",
              "      <td>2</td>\n",
              "    </tr>\n",
              "    <tr>\n",
              "      <th>2</th>\n",
              "      <td>1</td>\n",
              "      <td>13</td>\n",
              "      <td>5145.224455</td>\n",
              "      <td>2</td>\n",
              "      <td>75</td>\n",
              "      <td>6</td>\n",
              "      <td>12</td>\n",
              "      <td>4</td>\n",
              "      <td>2</td>\n",
              "      <td>0</td>\n",
              "      <td>...</td>\n",
              "      <td>5</td>\n",
              "      <td>3</td>\n",
              "      <td>6</td>\n",
              "      <td>3</td>\n",
              "      <td>1</td>\n",
              "      <td>10</td>\n",
              "      <td>5</td>\n",
              "      <td>5</td>\n",
              "      <td>2</td>\n",
              "      <td>2</td>\n",
              "    </tr>\n",
              "    <tr>\n",
              "      <th>3</th>\n",
              "      <td>1</td>\n",
              "      <td>14</td>\n",
              "      <td>5297.663412</td>\n",
              "      <td>2</td>\n",
              "      <td>75</td>\n",
              "      <td>6</td>\n",
              "      <td>12</td>\n",
              "      <td>4</td>\n",
              "      <td>2</td>\n",
              "      <td>0</td>\n",
              "      <td>...</td>\n",
              "      <td>5</td>\n",
              "      <td>2</td>\n",
              "      <td>6</td>\n",
              "      <td>2</td>\n",
              "      <td>1</td>\n",
              "      <td>10</td>\n",
              "      <td>4</td>\n",
              "      <td>4</td>\n",
              "      <td>2</td>\n",
              "      <td>2</td>\n",
              "    </tr>\n",
              "    <tr>\n",
              "      <th>4</th>\n",
              "      <td>1</td>\n",
              "      <td>15</td>\n",
              "      <td>4761.812371</td>\n",
              "      <td>2</td>\n",
              "      <td>75</td>\n",
              "      <td>6</td>\n",
              "      <td>12</td>\n",
              "      <td>4</td>\n",
              "      <td>2</td>\n",
              "      <td>0</td>\n",
              "      <td>...</td>\n",
              "      <td>5</td>\n",
              "      <td>3</td>\n",
              "      <td>6</td>\n",
              "      <td>3</td>\n",
              "      <td>1</td>\n",
              "      <td>10</td>\n",
              "      <td>5</td>\n",
              "      <td>5</td>\n",
              "      <td>2</td>\n",
              "      <td>2</td>\n",
              "    </tr>\n",
              "  </tbody>\n",
              "</table>\n",
              "<p>5 rows × 351 columns</p>\n",
              "</div>\n",
              "      <button class=\"colab-df-convert\" onclick=\"convertToInteractive('df-89f8af77-c78b-4e1a-9e18-2705488e7593')\"\n",
              "              title=\"Convert this dataframe to an interactive table.\"\n",
              "              style=\"display:none;\">\n",
              "        \n",
              "  <svg xmlns=\"http://www.w3.org/2000/svg\" height=\"24px\"viewBox=\"0 0 24 24\"\n",
              "       width=\"24px\">\n",
              "    <path d=\"M0 0h24v24H0V0z\" fill=\"none\"/>\n",
              "    <path d=\"M18.56 5.44l.94 2.06.94-2.06 2.06-.94-2.06-.94-.94-2.06-.94 2.06-2.06.94zm-11 1L8.5 8.5l.94-2.06 2.06-.94-2.06-.94L8.5 2.5l-.94 2.06-2.06.94zm10 10l.94 2.06.94-2.06 2.06-.94-2.06-.94-.94-2.06-.94 2.06-2.06.94z\"/><path d=\"M17.41 7.96l-1.37-1.37c-.4-.4-.92-.59-1.43-.59-.52 0-1.04.2-1.43.59L10.3 9.45l-7.72 7.72c-.78.78-.78 2.05 0 2.83L4 21.41c.39.39.9.59 1.41.59.51 0 1.02-.2 1.41-.59l7.78-7.78 2.81-2.81c.8-.78.8-2.07 0-2.86zM5.41 20L4 18.59l7.72-7.72 1.47 1.35L5.41 20z\"/>\n",
              "  </svg>\n",
              "      </button>\n",
              "      \n",
              "  <style>\n",
              "    .colab-df-container {\n",
              "      display:flex;\n",
              "      flex-wrap:wrap;\n",
              "      gap: 12px;\n",
              "    }\n",
              "\n",
              "    .colab-df-convert {\n",
              "      background-color: #E8F0FE;\n",
              "      border: none;\n",
              "      border-radius: 50%;\n",
              "      cursor: pointer;\n",
              "      display: none;\n",
              "      fill: #1967D2;\n",
              "      height: 32px;\n",
              "      padding: 0 0 0 0;\n",
              "      width: 32px;\n",
              "    }\n",
              "\n",
              "    .colab-df-convert:hover {\n",
              "      background-color: #E2EBFA;\n",
              "      box-shadow: 0px 1px 2px rgba(60, 64, 67, 0.3), 0px 1px 3px 1px rgba(60, 64, 67, 0.15);\n",
              "      fill: #174EA6;\n",
              "    }\n",
              "\n",
              "    [theme=dark] .colab-df-convert {\n",
              "      background-color: #3B4455;\n",
              "      fill: #D2E3FC;\n",
              "    }\n",
              "\n",
              "    [theme=dark] .colab-df-convert:hover {\n",
              "      background-color: #434B5C;\n",
              "      box-shadow: 0px 1px 3px 1px rgba(0, 0, 0, 0.15);\n",
              "      filter: drop-shadow(0px 1px 2px rgba(0, 0, 0, 0.3));\n",
              "      fill: #FFFFFF;\n",
              "    }\n",
              "  </style>\n",
              "\n",
              "      <script>\n",
              "        const buttonEl =\n",
              "          document.querySelector('#df-89f8af77-c78b-4e1a-9e18-2705488e7593 button.colab-df-convert');\n",
              "        buttonEl.style.display =\n",
              "          google.colab.kernel.accessAllowed ? 'block' : 'none';\n",
              "\n",
              "        async function convertToInteractive(key) {\n",
              "          const element = document.querySelector('#df-89f8af77-c78b-4e1a-9e18-2705488e7593');\n",
              "          const dataTable =\n",
              "            await google.colab.kernel.invokeFunction('convertToInteractive',\n",
              "                                                     [key], {});\n",
              "          if (!dataTable) return;\n",
              "\n",
              "          const docLinkHtml = 'Like what you see? Visit the ' +\n",
              "            '<a target=\"_blank\" href=https://colab.research.google.com/notebooks/data_table.ipynb>data table notebook</a>'\n",
              "            + ' to learn more about interactive tables.';\n",
              "          element.innerHTML = '';\n",
              "          dataTable['output_type'] = 'display_data';\n",
              "          await google.colab.output.renderOutput(dataTable, element);\n",
              "          const docLink = document.createElement('div');\n",
              "          docLink.innerHTML = docLinkHtml;\n",
              "          element.appendChild(docLink);\n",
              "        }\n",
              "      </script>\n",
              "    </div>\n",
              "  </div>\n",
              "  "
            ]
          },
          "metadata": {},
          "execution_count": 11
        }
      ]
    },
    {
      "cell_type": "markdown",
      "source": [
        "For this project, we're going to focung on households that have \"been turned down for credit or feared being denied credit in the past 5 years.\" and have net worth less than 3 million.\n",
        "\n",
        "According to reference of dataset, TURNFEAR column represent household that has been turned down for credit or feared being deined credit in the past 5 years with label:\n",
        "- yes: 1\n",
        "- no: 0"
      ],
      "metadata": {
        "id": "znHtatKaQq3I"
      }
    },
    {
      "cell_type": "code",
      "source": [
        "# slicing dataset that have TURNFEAR value 1\n",
        "df_fear = df[(df[\"TURNFEAR\"] == 1) & (df['NETWORTH'] < 3e6)]\n",
        "print('df_fear shape: {}'.format(df_fear.shape))\n",
        "df_fear.head()"
      ],
      "metadata": {
        "colab": {
          "base_uri": "https://localhost:8080/",
          "height": 253
        },
        "id": "xwRe1HzYRk1R",
        "outputId": "6afd3a66-4969-45f2-e00b-6dc4060920fa"
      },
      "execution_count": 12,
      "outputs": [
        {
          "output_type": "stream",
          "name": "stdout",
          "text": [
            "df_fear shape: (4458, 351)\n"
          ]
        },
        {
          "output_type": "execute_result",
          "data": {
            "text/plain": [
              "   YY1  Y1          WGT  HHSEX  AGE  AGECL  EDUC  EDCL  MARRIED  KIDS  ...  \\\n",
              "5    2  21  3790.476607      1   50      3     8     2        1     3  ...   \n",
              "6    2  22  3798.868505      1   50      3     8     2        1     3  ...   \n",
              "7    2  23  3799.468393      1   50      3     8     2        1     3  ...   \n",
              "8    2  24  3788.076005      1   50      3     8     2        1     3  ...   \n",
              "9    2  25  3793.066589      1   50      3     8     2        1     3  ...   \n",
              "\n",
              "   NWCAT  INCCAT  ASSETCAT  NINCCAT  NINC2CAT  NWPCTLECAT  INCPCTLECAT  \\\n",
              "5      1       2         1        2         1           1            4   \n",
              "6      1       2         1        2         1           1            4   \n",
              "7      1       2         1        2         1           1            4   \n",
              "8      1       2         1        2         1           1            4   \n",
              "9      1       2         1        2         1           1            4   \n",
              "\n",
              "   NINCPCTLECAT  INCQRTCAT  NINCQRTCAT  \n",
              "5             4          2           2  \n",
              "6             3          2           2  \n",
              "7             4          2           2  \n",
              "8             4          2           2  \n",
              "9             4          2           2  \n",
              "\n",
              "[5 rows x 351 columns]"
            ],
            "text/html": [
              "\n",
              "  <div id=\"df-5f8da5bc-d625-4566-8d99-32261ecb8fb4\">\n",
              "    <div class=\"colab-df-container\">\n",
              "      <div>\n",
              "<style scoped>\n",
              "    .dataframe tbody tr th:only-of-type {\n",
              "        vertical-align: middle;\n",
              "    }\n",
              "\n",
              "    .dataframe tbody tr th {\n",
              "        vertical-align: top;\n",
              "    }\n",
              "\n",
              "    .dataframe thead th {\n",
              "        text-align: right;\n",
              "    }\n",
              "</style>\n",
              "<table border=\"1\" class=\"dataframe\">\n",
              "  <thead>\n",
              "    <tr style=\"text-align: right;\">\n",
              "      <th></th>\n",
              "      <th>YY1</th>\n",
              "      <th>Y1</th>\n",
              "      <th>WGT</th>\n",
              "      <th>HHSEX</th>\n",
              "      <th>AGE</th>\n",
              "      <th>AGECL</th>\n",
              "      <th>EDUC</th>\n",
              "      <th>EDCL</th>\n",
              "      <th>MARRIED</th>\n",
              "      <th>KIDS</th>\n",
              "      <th>...</th>\n",
              "      <th>NWCAT</th>\n",
              "      <th>INCCAT</th>\n",
              "      <th>ASSETCAT</th>\n",
              "      <th>NINCCAT</th>\n",
              "      <th>NINC2CAT</th>\n",
              "      <th>NWPCTLECAT</th>\n",
              "      <th>INCPCTLECAT</th>\n",
              "      <th>NINCPCTLECAT</th>\n",
              "      <th>INCQRTCAT</th>\n",
              "      <th>NINCQRTCAT</th>\n",
              "    </tr>\n",
              "  </thead>\n",
              "  <tbody>\n",
              "    <tr>\n",
              "      <th>5</th>\n",
              "      <td>2</td>\n",
              "      <td>21</td>\n",
              "      <td>3790.476607</td>\n",
              "      <td>1</td>\n",
              "      <td>50</td>\n",
              "      <td>3</td>\n",
              "      <td>8</td>\n",
              "      <td>2</td>\n",
              "      <td>1</td>\n",
              "      <td>3</td>\n",
              "      <td>...</td>\n",
              "      <td>1</td>\n",
              "      <td>2</td>\n",
              "      <td>1</td>\n",
              "      <td>2</td>\n",
              "      <td>1</td>\n",
              "      <td>1</td>\n",
              "      <td>4</td>\n",
              "      <td>4</td>\n",
              "      <td>2</td>\n",
              "      <td>2</td>\n",
              "    </tr>\n",
              "    <tr>\n",
              "      <th>6</th>\n",
              "      <td>2</td>\n",
              "      <td>22</td>\n",
              "      <td>3798.868505</td>\n",
              "      <td>1</td>\n",
              "      <td>50</td>\n",
              "      <td>3</td>\n",
              "      <td>8</td>\n",
              "      <td>2</td>\n",
              "      <td>1</td>\n",
              "      <td>3</td>\n",
              "      <td>...</td>\n",
              "      <td>1</td>\n",
              "      <td>2</td>\n",
              "      <td>1</td>\n",
              "      <td>2</td>\n",
              "      <td>1</td>\n",
              "      <td>1</td>\n",
              "      <td>4</td>\n",
              "      <td>3</td>\n",
              "      <td>2</td>\n",
              "      <td>2</td>\n",
              "    </tr>\n",
              "    <tr>\n",
              "      <th>7</th>\n",
              "      <td>2</td>\n",
              "      <td>23</td>\n",
              "      <td>3799.468393</td>\n",
              "      <td>1</td>\n",
              "      <td>50</td>\n",
              "      <td>3</td>\n",
              "      <td>8</td>\n",
              "      <td>2</td>\n",
              "      <td>1</td>\n",
              "      <td>3</td>\n",
              "      <td>...</td>\n",
              "      <td>1</td>\n",
              "      <td>2</td>\n",
              "      <td>1</td>\n",
              "      <td>2</td>\n",
              "      <td>1</td>\n",
              "      <td>1</td>\n",
              "      <td>4</td>\n",
              "      <td>4</td>\n",
              "      <td>2</td>\n",
              "      <td>2</td>\n",
              "    </tr>\n",
              "    <tr>\n",
              "      <th>8</th>\n",
              "      <td>2</td>\n",
              "      <td>24</td>\n",
              "      <td>3788.076005</td>\n",
              "      <td>1</td>\n",
              "      <td>50</td>\n",
              "      <td>3</td>\n",
              "      <td>8</td>\n",
              "      <td>2</td>\n",
              "      <td>1</td>\n",
              "      <td>3</td>\n",
              "      <td>...</td>\n",
              "      <td>1</td>\n",
              "      <td>2</td>\n",
              "      <td>1</td>\n",
              "      <td>2</td>\n",
              "      <td>1</td>\n",
              "      <td>1</td>\n",
              "      <td>4</td>\n",
              "      <td>4</td>\n",
              "      <td>2</td>\n",
              "      <td>2</td>\n",
              "    </tr>\n",
              "    <tr>\n",
              "      <th>9</th>\n",
              "      <td>2</td>\n",
              "      <td>25</td>\n",
              "      <td>3793.066589</td>\n",
              "      <td>1</td>\n",
              "      <td>50</td>\n",
              "      <td>3</td>\n",
              "      <td>8</td>\n",
              "      <td>2</td>\n",
              "      <td>1</td>\n",
              "      <td>3</td>\n",
              "      <td>...</td>\n",
              "      <td>1</td>\n",
              "      <td>2</td>\n",
              "      <td>1</td>\n",
              "      <td>2</td>\n",
              "      <td>1</td>\n",
              "      <td>1</td>\n",
              "      <td>4</td>\n",
              "      <td>4</td>\n",
              "      <td>2</td>\n",
              "      <td>2</td>\n",
              "    </tr>\n",
              "  </tbody>\n",
              "</table>\n",
              "<p>5 rows × 351 columns</p>\n",
              "</div>\n",
              "      <button class=\"colab-df-convert\" onclick=\"convertToInteractive('df-5f8da5bc-d625-4566-8d99-32261ecb8fb4')\"\n",
              "              title=\"Convert this dataframe to an interactive table.\"\n",
              "              style=\"display:none;\">\n",
              "        \n",
              "  <svg xmlns=\"http://www.w3.org/2000/svg\" height=\"24px\"viewBox=\"0 0 24 24\"\n",
              "       width=\"24px\">\n",
              "    <path d=\"M0 0h24v24H0V0z\" fill=\"none\"/>\n",
              "    <path d=\"M18.56 5.44l.94 2.06.94-2.06 2.06-.94-2.06-.94-.94-2.06-.94 2.06-2.06.94zm-11 1L8.5 8.5l.94-2.06 2.06-.94-2.06-.94L8.5 2.5l-.94 2.06-2.06.94zm10 10l.94 2.06.94-2.06 2.06-.94-2.06-.94-.94-2.06-.94 2.06-2.06.94z\"/><path d=\"M17.41 7.96l-1.37-1.37c-.4-.4-.92-.59-1.43-.59-.52 0-1.04.2-1.43.59L10.3 9.45l-7.72 7.72c-.78.78-.78 2.05 0 2.83L4 21.41c.39.39.9.59 1.41.59.51 0 1.02-.2 1.41-.59l7.78-7.78 2.81-2.81c.8-.78.8-2.07 0-2.86zM5.41 20L4 18.59l7.72-7.72 1.47 1.35L5.41 20z\"/>\n",
              "  </svg>\n",
              "      </button>\n",
              "      \n",
              "  <style>\n",
              "    .colab-df-container {\n",
              "      display:flex;\n",
              "      flex-wrap:wrap;\n",
              "      gap: 12px;\n",
              "    }\n",
              "\n",
              "    .colab-df-convert {\n",
              "      background-color: #E8F0FE;\n",
              "      border: none;\n",
              "      border-radius: 50%;\n",
              "      cursor: pointer;\n",
              "      display: none;\n",
              "      fill: #1967D2;\n",
              "      height: 32px;\n",
              "      padding: 0 0 0 0;\n",
              "      width: 32px;\n",
              "    }\n",
              "\n",
              "    .colab-df-convert:hover {\n",
              "      background-color: #E2EBFA;\n",
              "      box-shadow: 0px 1px 2px rgba(60, 64, 67, 0.3), 0px 1px 3px 1px rgba(60, 64, 67, 0.15);\n",
              "      fill: #174EA6;\n",
              "    }\n",
              "\n",
              "    [theme=dark] .colab-df-convert {\n",
              "      background-color: #3B4455;\n",
              "      fill: #D2E3FC;\n",
              "    }\n",
              "\n",
              "    [theme=dark] .colab-df-convert:hover {\n",
              "      background-color: #434B5C;\n",
              "      box-shadow: 0px 1px 3px 1px rgba(0, 0, 0, 0.15);\n",
              "      filter: drop-shadow(0px 1px 2px rgba(0, 0, 0, 0.3));\n",
              "      fill: #FFFFFF;\n",
              "    }\n",
              "  </style>\n",
              "\n",
              "      <script>\n",
              "        const buttonEl =\n",
              "          document.querySelector('#df-5f8da5bc-d625-4566-8d99-32261ecb8fb4 button.colab-df-convert');\n",
              "        buttonEl.style.display =\n",
              "          google.colab.kernel.accessAllowed ? 'block' : 'none';\n",
              "\n",
              "        async function convertToInteractive(key) {\n",
              "          const element = document.querySelector('#df-5f8da5bc-d625-4566-8d99-32261ecb8fb4');\n",
              "          const dataTable =\n",
              "            await google.colab.kernel.invokeFunction('convertToInteractive',\n",
              "                                                     [key], {});\n",
              "          if (!dataTable) return;\n",
              "\n",
              "          const docLinkHtml = 'Like what you see? Visit the ' +\n",
              "            '<a target=\"_blank\" href=https://colab.research.google.com/notebooks/data_table.ipynb>data table notebook</a>'\n",
              "            + ' to learn more about interactive tables.';\n",
              "          element.innerHTML = '';\n",
              "          dataTable['output_type'] = 'display_data';\n",
              "          await google.colab.output.renderOutput(dataTable, element);\n",
              "          const docLink = document.createElement('div');\n",
              "          docLink.innerHTML = docLinkHtml;\n",
              "          element.appendChild(docLink);\n",
              "        }\n",
              "      </script>\n",
              "    </div>\n",
              "  </div>\n",
              "  "
            ]
          },
          "metadata": {},
          "execution_count": 12
        }
      ]
    },
    {
      "cell_type": "markdown",
      "source": [
        "# Explore"
      ],
      "metadata": {
        "id": "Q5MiZ6fjSLYT"
      }
    },
    {
      "cell_type": "markdown",
      "source": [
        "## Age"
      ],
      "metadata": {
        "id": "dqKweqizbdoN"
      }
    },
    {
      "cell_type": "code",
      "source": [
        "age_groups = df_fear['AGECL'].unique()\n",
        "age_groups"
      ],
      "metadata": {
        "colab": {
          "base_uri": "https://localhost:8080/"
        },
        "id": "KHlYzIzRSQ4_",
        "outputId": "283c127a-96ff-41f6-d5cd-3255ca81d668"
      },
      "execution_count": 13,
      "outputs": [
        {
          "output_type": "execute_result",
          "data": {
            "text/plain": [
              "array([3, 5, 1, 2, 4, 6])"
            ]
          },
          "metadata": {},
          "execution_count": 13
        }
      ]
    },
    {
      "cell_type": "markdown",
      "source": [
        "According to reference, AGECL is age group of the reference person with label and value:\n",
        "- 1; label < 35\n",
        "- 2; label 35-44\n",
        "- 3; label 45-54\n",
        "- 4; label 55-64\n",
        "- 5; label 65-74\n",
        "- 6; label >= 75"
      ],
      "metadata": {
        "id": "MRtmJx41Seq1"
      }
    },
    {
      "cell_type": "code",
      "source": [
        "age_group = {1: 'Under 35', \n",
        "             2: '35-44',\n",
        "             3: '45-54',\n",
        "             4: '55-64',\n",
        "             5: '65-74',\n",
        "             6: '75 or older'}\n",
        "\n",
        "df_agecl_fear = df_fear['AGECL'].replace(age_group).value_counts()\n",
        "df_agecl_fear = pd.DataFrame({'TURNFEAR': [1 for i in range (len(df_agecl_fear))],\n",
        "                              'AGECL': list(df_agecl_fear.index),\n",
        "                              'frequency':list(df_agecl_fear.values)})\n",
        "df_agecl_nofear = df[df['TURNFEAR'] == 0]\n",
        "df_agecl_nofear = df_agecl_nofear['INCCAT'].replace(age_group).value_counts()\n",
        "df_agecl_nofear = pd.DataFrame({'TURNFEAR': [0 for i in range(len(df_agecl_nofear))],\n",
        "                                'AGECL': list(df_agecl_nofear.index),\n",
        "                                'frequency':list(df_agecl_nofear.values)})\n",
        "\n",
        "age_cl = pd.concat([df_agecl_nofear, df_agecl_fear], axis=0, ignore_index=True)\n",
        "\n",
        "\n",
        "age_cl.head()"
      ],
      "metadata": {
        "colab": {
          "base_uri": "https://localhost:8080/",
          "height": 206
        },
        "id": "Of3yLpIoS1iT",
        "outputId": "f87db05c-856f-44a4-fbf4-124a9eefe46a"
      },
      "execution_count": 14,
      "outputs": [
        {
          "output_type": "execute_result",
          "data": {
            "text/plain": [
              "   TURNFEAR        AGECL  frequency\n",
              "0         0  75 or older       7213\n",
              "1         0        55-64       4242\n",
              "2         0        45-54       3473\n",
              "3         0     Under 35       3405\n",
              "4         0        35-44       3298"
            ],
            "text/html": [
              "\n",
              "  <div id=\"df-fda94edf-6c4a-45cf-8c46-0623ef72af83\">\n",
              "    <div class=\"colab-df-container\">\n",
              "      <div>\n",
              "<style scoped>\n",
              "    .dataframe tbody tr th:only-of-type {\n",
              "        vertical-align: middle;\n",
              "    }\n",
              "\n",
              "    .dataframe tbody tr th {\n",
              "        vertical-align: top;\n",
              "    }\n",
              "\n",
              "    .dataframe thead th {\n",
              "        text-align: right;\n",
              "    }\n",
              "</style>\n",
              "<table border=\"1\" class=\"dataframe\">\n",
              "  <thead>\n",
              "    <tr style=\"text-align: right;\">\n",
              "      <th></th>\n",
              "      <th>TURNFEAR</th>\n",
              "      <th>AGECL</th>\n",
              "      <th>frequency</th>\n",
              "    </tr>\n",
              "  </thead>\n",
              "  <tbody>\n",
              "    <tr>\n",
              "      <th>0</th>\n",
              "      <td>0</td>\n",
              "      <td>75 or older</td>\n",
              "      <td>7213</td>\n",
              "    </tr>\n",
              "    <tr>\n",
              "      <th>1</th>\n",
              "      <td>0</td>\n",
              "      <td>55-64</td>\n",
              "      <td>4242</td>\n",
              "    </tr>\n",
              "    <tr>\n",
              "      <th>2</th>\n",
              "      <td>0</td>\n",
              "      <td>45-54</td>\n",
              "      <td>3473</td>\n",
              "    </tr>\n",
              "    <tr>\n",
              "      <th>3</th>\n",
              "      <td>0</td>\n",
              "      <td>Under 35</td>\n",
              "      <td>3405</td>\n",
              "    </tr>\n",
              "    <tr>\n",
              "      <th>4</th>\n",
              "      <td>0</td>\n",
              "      <td>35-44</td>\n",
              "      <td>3298</td>\n",
              "    </tr>\n",
              "  </tbody>\n",
              "</table>\n",
              "</div>\n",
              "      <button class=\"colab-df-convert\" onclick=\"convertToInteractive('df-fda94edf-6c4a-45cf-8c46-0623ef72af83')\"\n",
              "              title=\"Convert this dataframe to an interactive table.\"\n",
              "              style=\"display:none;\">\n",
              "        \n",
              "  <svg xmlns=\"http://www.w3.org/2000/svg\" height=\"24px\"viewBox=\"0 0 24 24\"\n",
              "       width=\"24px\">\n",
              "    <path d=\"M0 0h24v24H0V0z\" fill=\"none\"/>\n",
              "    <path d=\"M18.56 5.44l.94 2.06.94-2.06 2.06-.94-2.06-.94-.94-2.06-.94 2.06-2.06.94zm-11 1L8.5 8.5l.94-2.06 2.06-.94-2.06-.94L8.5 2.5l-.94 2.06-2.06.94zm10 10l.94 2.06.94-2.06 2.06-.94-2.06-.94-.94-2.06-.94 2.06-2.06.94z\"/><path d=\"M17.41 7.96l-1.37-1.37c-.4-.4-.92-.59-1.43-.59-.52 0-1.04.2-1.43.59L10.3 9.45l-7.72 7.72c-.78.78-.78 2.05 0 2.83L4 21.41c.39.39.9.59 1.41.59.51 0 1.02-.2 1.41-.59l7.78-7.78 2.81-2.81c.8-.78.8-2.07 0-2.86zM5.41 20L4 18.59l7.72-7.72 1.47 1.35L5.41 20z\"/>\n",
              "  </svg>\n",
              "      </button>\n",
              "      \n",
              "  <style>\n",
              "    .colab-df-container {\n",
              "      display:flex;\n",
              "      flex-wrap:wrap;\n",
              "      gap: 12px;\n",
              "    }\n",
              "\n",
              "    .colab-df-convert {\n",
              "      background-color: #E8F0FE;\n",
              "      border: none;\n",
              "      border-radius: 50%;\n",
              "      cursor: pointer;\n",
              "      display: none;\n",
              "      fill: #1967D2;\n",
              "      height: 32px;\n",
              "      padding: 0 0 0 0;\n",
              "      width: 32px;\n",
              "    }\n",
              "\n",
              "    .colab-df-convert:hover {\n",
              "      background-color: #E2EBFA;\n",
              "      box-shadow: 0px 1px 2px rgba(60, 64, 67, 0.3), 0px 1px 3px 1px rgba(60, 64, 67, 0.15);\n",
              "      fill: #174EA6;\n",
              "    }\n",
              "\n",
              "    [theme=dark] .colab-df-convert {\n",
              "      background-color: #3B4455;\n",
              "      fill: #D2E3FC;\n",
              "    }\n",
              "\n",
              "    [theme=dark] .colab-df-convert:hover {\n",
              "      background-color: #434B5C;\n",
              "      box-shadow: 0px 1px 3px 1px rgba(0, 0, 0, 0.15);\n",
              "      filter: drop-shadow(0px 1px 2px rgba(0, 0, 0, 0.3));\n",
              "      fill: #FFFFFF;\n",
              "    }\n",
              "  </style>\n",
              "\n",
              "      <script>\n",
              "        const buttonEl =\n",
              "          document.querySelector('#df-fda94edf-6c4a-45cf-8c46-0623ef72af83 button.colab-df-convert');\n",
              "        buttonEl.style.display =\n",
              "          google.colab.kernel.accessAllowed ? 'block' : 'none';\n",
              "\n",
              "        async function convertToInteractive(key) {\n",
              "          const element = document.querySelector('#df-fda94edf-6c4a-45cf-8c46-0623ef72af83');\n",
              "          const dataTable =\n",
              "            await google.colab.kernel.invokeFunction('convertToInteractive',\n",
              "                                                     [key], {});\n",
              "          if (!dataTable) return;\n",
              "\n",
              "          const docLinkHtml = 'Like what you see? Visit the ' +\n",
              "            '<a target=\"_blank\" href=https://colab.research.google.com/notebooks/data_table.ipynb>data table notebook</a>'\n",
              "            + ' to learn more about interactive tables.';\n",
              "          element.innerHTML = '';\n",
              "          dataTable['output_type'] = 'display_data';\n",
              "          await google.colab.output.renderOutput(dataTable, element);\n",
              "          const docLink = document.createElement('div');\n",
              "          docLink.innerHTML = docLinkHtml;\n",
              "          element.appendChild(docLink);\n",
              "        }\n",
              "      </script>\n",
              "    </div>\n",
              "  </div>\n",
              "  "
            ]
          },
          "metadata": {},
          "execution_count": 14
        }
      ]
    },
    {
      "cell_type": "code",
      "source": [
        "plt.figure(figsize=(15,6))\n",
        "sns.barplot(data=age_cl, x='AGECL', y='frequency', hue='TURNFEAR')\n",
        "plt.title('Credit Fearful: Age Groups')\n",
        "plt.xlabel('Age group')\n",
        "plt.ylabel('Frequency (count)')\n",
        "plt.show()"
      ],
      "metadata": {
        "colab": {
          "base_uri": "https://localhost:8080/",
          "height": 404
        },
        "id": "CwBdKhhyTsWz",
        "outputId": "3a75d865-6f7b-490d-f956-88ad359d567b"
      },
      "execution_count": 15,
      "outputs": [
        {
          "output_type": "display_data",
          "data": {
            "text/plain": [
              "<Figure size 1080x432 with 1 Axes>"
            ],
            "image/png": "[encoded data removed]"
          },
          "metadata": {
            "needs_background": "light"
          }
        }
      ]
    },
    {
      "cell_type": "code",
      "source": [
        "plt.figure(figsize=(15,6))\n",
        "plt.title('Age Distribution; Credit Fearful')\n",
        "df_fear['AGE'].plot.hist(bins=10)\n",
        "plt.xlabel('Age')\n",
        "plt.ylabel('frequency')\n",
        "plt.show()"
      ],
      "metadata": {
        "id": "Q31RtnN-UwG-",
        "colab": {
          "base_uri": "https://localhost:8080/",
          "height": 404
        },
        "outputId": "bdad40fe-bb1d-4ab8-9b6b-58c507152f98"
      },
      "execution_count": 16,
      "outputs": [
        {
          "output_type": "display_data",
          "data": {
            "text/plain": [
              "<Figure size 1080x432 with 1 Axes>"
            ],
            "image/png": "[encoded data removed]"
          },
          "metadata": {
            "needs_background": "light"
          }
        }
      ]
    },
    {
      "cell_type": "markdown",
      "source": [
        "## Race\n"
      ],
      "metadata": {
        "id": "-o8v2_4N--bP"
      }
    },
    {
      "cell_type": "code",
      "source": [
        "race_groups = df_fear['RACE'].unique()\n",
        "race_groups"
      ],
      "metadata": {
        "colab": {
          "base_uri": "https://localhost:8080/"
        },
        "id": "I_v2MUPG_ChE",
        "outputId": "aefe92c3-67d4-48fc-91aa-c7ce9885113f"
      },
      "execution_count": 17,
      "outputs": [
        {
          "output_type": "execute_result",
          "data": {
            "text/plain": [
              "array([1, 3, 2, 5])"
            ]
          },
          "metadata": {},
          "execution_count": 17
        }
      ]
    },
    {
      "cell_type": "markdown",
      "source": [
        "According to the reference of database:\n",
        "- 1: white non-Hispanic\n",
        "- 2: black/African American\n",
        "- 3: Hispanic\n",
        "- 5: Other"
      ],
      "metadata": {
        "id": "lNB80Tav_V6q"
      }
    },
    {
      "cell_type": "code",
      "source": [
        "race_groups = {1:'White non-Hispanic',\n",
        "               2:'Black/African American',\n",
        "               3: 'Hispanic',\n",
        "               5: 'Other'}\n",
        "\n",
        "race_cl = df_fear['RACE'].replace(race_groups)"
      ],
      "metadata": {
        "id": "rO1qeplj_iHJ"
      },
      "execution_count": 18,
      "outputs": []
    },
    {
      "cell_type": "code",
      "source": [
        "plt.figure(figsize=(15, 6))\n",
        "(race_cl.value_counts(normalize=True) * 100).plot(kind='barh')\n",
        "plt.xlabel('frequency (%)')\n",
        "plt.ylabel('race')\n",
        "plt.show()"
      ],
      "metadata": {
        "colab": {
          "base_uri": "https://localhost:8080/",
          "height": 388
        },
        "id": "ZFPdG29i_8AN",
        "outputId": "70651ec7-61b0-4a54-d6ad-8b87467aa252"
      },
      "execution_count": 19,
      "outputs": [
        {
          "output_type": "display_data",
          "data": {
            "text/plain": [
              "<Figure size 1080x432 with 1 Axes>"
            ],
            "image/png": "[encoded data removed]"
          },
          "metadata": {
            "needs_background": "light"
          }
        }
      ]
    },
    {
      "cell_type": "markdown",
      "source": [
        "Notes: The 2020 U.S. Census shows that more than 50% of populations in U.S. is white people ( [reference](https://en.wikipedia.org/wiki/Race_and_ethnicity_in_the_United_States) ), so it make sense that the highest of frequency than others."
      ],
      "metadata": {
        "id": "Z9EVUlbdD4iB"
      }
    },
    {
      "cell_type": "markdown",
      "source": [
        "## Background"
      ],
      "metadata": {
        "id": "nH5JBUuNIi8t"
      }
    },
    {
      "cell_type": "markdown",
      "source": [
        "According to the reference of database:\n",
        "\n",
        "- -1: Less than 1st grade\n",
        "- 1: 1st, 2nd, 3rd, or 4th grade\n",
        "- 2: 5th or 6th grade\n",
        "- 3: 7th or 8th grade\n",
        "- 4: 9th grade\n",
        "- 5: 10th grade\n",
        "- 6: 11th grade\n",
        "- 7: 12th grade\n",
        "- 8: High school graduate - high school diploma or equivalent\n",
        "- 9: Some college but no degree\n",
        "- 10: Associate degree in college - occupation/vocation program\n",
        "- 11: Associate degree in college - academic program\n",
        "- 12: Bachelor's degree\n",
        "- 13: Master's degree\n",
        "- 14: Doctorate or professional school degree"
      ],
      "metadata": {
        "id": "y0F96K0j8k4o"
      }
    },
    {
      "cell_type": "code",
      "source": [
        "df_educ_fear = df_fear['EDUC'].value_counts(normalize=True)\n",
        "df_educ_fear = pd.DataFrame({'TURNFEAR':[1 for i in range(len(df_educ_fear))],\n",
        "                              'EDUC':list(df_educ_fear.index),\n",
        "                              'frequency':list(df_educ_fear.values)})\n",
        "df_educ_nofear = df[df['TURNFEAR'] == 0]\n",
        "df_educ_nofear = df_educ_nofear['EDUC'].value_counts(normalize=True)\n",
        "df_educ_nofear = pd.DataFrame({'TURNFEAR':[0 for i in range(len(df_educ_nofear))],\n",
        "                              'EDUC':list(df_educ_nofear.index),\n",
        "                              'frequency':list(df_educ_nofear.values)})\n",
        "educ_groups = {-1:'< 1st grade',\n",
        "               1: '1st, 2nd, 3rd, or 4th grade',\n",
        "               2: '5th or 6th grade',\n",
        "               3: '7th or 8th grade',\n",
        "               4: '9th grade',\n",
        "               5: '10th grade',\n",
        "               6: '11th grade',\n",
        "               7: '12th grade',\n",
        "               8: 'High schoold graduate',\n",
        "               9: 'Some college (no degree)',\n",
        "               10: 'Vocation program',\n",
        "               11: 'Academic program',\n",
        "               12: 'Bachelor degree',\n",
        "               13: 'Master degree',\n",
        "               14: 'Doctorate degree'}\n",
        "df_educ = pd.concat([df_educ_nofear, df_educ_fear], axis=0, ignore_index=True)\n",
        "df_educ['EDUC'] = df_educ['EDUC'].replace(educ_groups)\n",
        "\n",
        "df_educ.head()"
      ],
      "metadata": {
        "colab": {
          "base_uri": "https://localhost:8080/",
          "height": 206
        },
        "id": "rrseQLCTInxU",
        "outputId": "315505d1-a40f-457b-e741-3010c46ba523"
      },
      "execution_count": 20,
      "outputs": [
        {
          "output_type": "execute_result",
          "data": {
            "text/plain": [
              "   TURNFEAR                      EDUC  frequency\n",
              "0         0           Bachelor degree   0.257481\n",
              "1         0     High schoold graduate   0.192029\n",
              "2         0             Master degree   0.149823\n",
              "3         0  Some college (no degree)   0.129833\n",
              "4         0          Doctorate degree   0.096117"
            ],
            "text/html": [
              "\n",
              "  <div id=\"df-952f309f-dbfa-479d-8082-5afed0b076a6\">\n",
              "    <div class=\"colab-df-container\">\n",
              "      <div>\n",
              "<style scoped>\n",
              "    .dataframe tbody tr th:only-of-type {\n",
              "        vertical-align: middle;\n",
              "    }\n",
              "\n",
              "    .dataframe tbody tr th {\n",
              "        vertical-align: top;\n",
              "    }\n",
              "\n",
              "    .dataframe thead th {\n",
              "        text-align: right;\n",
              "    }\n",
              "</style>\n",
              "<table border=\"1\" class=\"dataframe\">\n",
              "  <thead>\n",
              "    <tr style=\"text-align: right;\">\n",
              "      <th></th>\n",
              "      <th>TURNFEAR</th>\n",
              "      <th>EDUC</th>\n",
              "      <th>frequency</th>\n",
              "    </tr>\n",
              "  </thead>\n",
              "  <tbody>\n",
              "    <tr>\n",
              "      <th>0</th>\n",
              "      <td>0</td>\n",
              "      <td>Bachelor degree</td>\n",
              "      <td>0.257481</td>\n",
              "    </tr>\n",
              "    <tr>\n",
              "      <th>1</th>\n",
              "      <td>0</td>\n",
              "      <td>High schoold graduate</td>\n",
              "      <td>0.192029</td>\n",
              "    </tr>\n",
              "    <tr>\n",
              "      <th>2</th>\n",
              "      <td>0</td>\n",
              "      <td>Master degree</td>\n",
              "      <td>0.149823</td>\n",
              "    </tr>\n",
              "    <tr>\n",
              "      <th>3</th>\n",
              "      <td>0</td>\n",
              "      <td>Some college (no degree)</td>\n",
              "      <td>0.129833</td>\n",
              "    </tr>\n",
              "    <tr>\n",
              "      <th>4</th>\n",
              "      <td>0</td>\n",
              "      <td>Doctorate degree</td>\n",
              "      <td>0.096117</td>\n",
              "    </tr>\n",
              "  </tbody>\n",
              "</table>\n",
              "</div>\n",
              "      <button class=\"colab-df-convert\" onclick=\"convertToInteractive('df-952f309f-dbfa-479d-8082-5afed0b076a6')\"\n",
              "              title=\"Convert this dataframe to an interactive table.\"\n",
              "              style=\"display:none;\">\n",
              "        \n",
              "  <svg xmlns=\"http://www.w3.org/2000/svg\" height=\"24px\"viewBox=\"0 0 24 24\"\n",
              "       width=\"24px\">\n",
              "    <path d=\"M0 0h24v24H0V0z\" fill=\"none\"/>\n",
              "    <path d=\"M18.56 5.44l.94 2.06.94-2.06 2.06-.94-2.06-.94-.94-2.06-.94 2.06-2.06.94zm-11 1L8.5 8.5l.94-2.06 2.06-.94-2.06-.94L8.5 2.5l-.94 2.06-2.06.94zm10 10l.94 2.06.94-2.06 2.06-.94-2.06-.94-.94-2.06-.94 2.06-2.06.94z\"/><path d=\"M17.41 7.96l-1.37-1.37c-.4-.4-.92-.59-1.43-.59-.52 0-1.04.2-1.43.59L10.3 9.45l-7.72 7.72c-.78.78-.78 2.05 0 2.83L4 21.41c.39.39.9.59 1.41.59.51 0 1.02-.2 1.41-.59l7.78-7.78 2.81-2.81c.8-.78.8-2.07 0-2.86zM5.41 20L4 18.59l7.72-7.72 1.47 1.35L5.41 20z\"/>\n",
              "  </svg>\n",
              "      </button>\n",
              "      \n",
              "  <style>\n",
              "    .colab-df-container {\n",
              "      display:flex;\n",
              "      flex-wrap:wrap;\n",
              "      gap: 12px;\n",
              "    }\n",
              "\n",
              "    .colab-df-convert {\n",
              "      background-color: #E8F0FE;\n",
              "      border: none;\n",
              "      border-radius: 50%;\n",
              "      cursor: pointer;\n",
              "      display: none;\n",
              "      fill: #1967D2;\n",
              "      height: 32px;\n",
              "      padding: 0 0 0 0;\n",
              "      width: 32px;\n",
              "    }\n",
              "\n",
              "    .colab-df-convert:hover {\n",
              "      background-color: #E2EBFA;\n",
              "      box-shadow: 0px 1px 2px rgba(60, 64, 67, 0.3), 0px 1px 3px 1px rgba(60, 64, 67, 0.15);\n",
              "      fill: #174EA6;\n",
              "    }\n",
              "\n",
              "    [theme=dark] .colab-df-convert {\n",
              "      background-color: #3B4455;\n",
              "      fill: #D2E3FC;\n",
              "    }\n",
              "\n",
              "    [theme=dark] .colab-df-convert:hover {\n",
              "      background-color: #434B5C;\n",
              "      box-shadow: 0px 1px 3px 1px rgba(0, 0, 0, 0.15);\n",
              "      filter: drop-shadow(0px 1px 2px rgba(0, 0, 0, 0.3));\n",
              "      fill: #FFFFFF;\n",
              "    }\n",
              "  </style>\n",
              "\n",
              "      <script>\n",
              "        const buttonEl =\n",
              "          document.querySelector('#df-952f309f-dbfa-479d-8082-5afed0b076a6 button.colab-df-convert');\n",
              "        buttonEl.style.display =\n",
              "          google.colab.kernel.accessAllowed ? 'block' : 'none';\n",
              "\n",
              "        async function convertToInteractive(key) {\n",
              "          const element = document.querySelector('#df-952f309f-dbfa-479d-8082-5afed0b076a6');\n",
              "          const dataTable =\n",
              "            await google.colab.kernel.invokeFunction('convertToInteractive',\n",
              "                                                     [key], {});\n",
              "          if (!dataTable) return;\n",
              "\n",
              "          const docLinkHtml = 'Like what you see? Visit the ' +\n",
              "            '<a target=\"_blank\" href=https://colab.research.google.com/notebooks/data_table.ipynb>data table notebook</a>'\n",
              "            + ' to learn more about interactive tables.';\n",
              "          element.innerHTML = '';\n",
              "          dataTable['output_type'] = 'display_data';\n",
              "          await google.colab.output.renderOutput(dataTable, element);\n",
              "          const docLink = document.createElement('div');\n",
              "          docLink.innerHTML = docLinkHtml;\n",
              "          element.appendChild(docLink);\n",
              "        }\n",
              "      </script>\n",
              "    </div>\n",
              "  </div>\n",
              "  "
            ]
          },
          "metadata": {},
          "execution_count": 20
        }
      ]
    },
    {
      "cell_type": "code",
      "source": [
        "plt.figure(figsize=(15,6))\n",
        "sns.barplot(data=df_educ, y='EDUC', x='frequency', hue=\"TURNFEAR\")\n",
        "plt.xlabel(\"Education Level\")\n",
        "plt.ylabel(\"Frequency (%)\")\n",
        "plt.title(\"Educational Attainment: Credit Fearful vs. Non-fearful\");"
      ],
      "metadata": {
        "colab": {
          "base_uri": "https://localhost:8080/",
          "height": 404
        },
        "id": "3bnV2aqsIqb2",
        "outputId": "35f4b232-c1bc-4f1c-c6f6-b086916a3927"
      },
      "execution_count": 21,
      "outputs": [
        {
          "output_type": "display_data",
          "data": {
            "text/plain": [
              "<Figure size 1080x432 with 1 Axes>"
            ],
            "image/png": "[encoded data removed]"
          },
          "metadata": {
            "needs_background": "light"
          }
        }
      ]
    },
    {
      "cell_type": "markdown",
      "source": [
        "## Assets and Debt"
      ],
      "metadata": {
        "id": "Jwd7ZWpNFI3l"
      }
    },
    {
      "cell_type": "code",
      "source": [
        "cols = ['ASSET', 'HOUSES', 'INCOME', 'DEBT']\n",
        "corr = df_fear[cols].corr()\n",
        "corr.style.background_gradient(axis=None)"
      ],
      "metadata": {
        "colab": {
          "base_uri": "https://localhost:8080/",
          "height": 175
        },
        "id": "ivjADJaGFGck",
        "outputId": "490b1c37-474a-457d-e80d-46c31f952291"
      },
      "execution_count": 22,
      "outputs": [
        {
          "output_type": "execute_result",
          "data": {
            "text/plain": [
              "<pandas.io.formats.style.Styler at 0x7fb4c1b5fe90>"
            ],
            "text/html": [
              "<style type=\"text/css\">\n",
              "#T_d4a0f_row0_col0, #T_d4a0f_row1_col1, #T_d4a0f_row2_col2, #T_d4a0f_row3_col3 {\n",
              "  background-color: #023858;\n",
              "  color: #f1f1f1;\n",
              "}\n",
              "#T_d4a0f_row0_col1, #T_d4a0f_row1_col0 {\n",
              "  background-color: #3991c1;\n",
              "  color: #f1f1f1;\n",
              "}\n",
              "#T_d4a0f_row0_col2, #T_d4a0f_row2_col0 {\n",
              "  background-color: #d2d3e7;\n",
              "  color: #000000;\n",
              "}\n",
              "#T_d4a0f_row0_col3, #T_d4a0f_row3_col0 {\n",
              "  background-color: #a5bddb;\n",
              "  color: #000000;\n",
              "}\n",
              "#T_d4a0f_row1_col2, #T_d4a0f_row2_col1 {\n",
              "  background-color: #fff7fb;\n",
              "  color: #000000;\n",
              "}\n",
              "#T_d4a0f_row1_col3, #T_d4a0f_row3_col1 {\n",
              "  background-color: #8bb2d4;\n",
              "  color: #000000;\n",
              "}\n",
              "#T_d4a0f_row2_col3, #T_d4a0f_row3_col2 {\n",
              "  background-color: #dad9ea;\n",
              "  color: #000000;\n",
              "}\n",
              "</style>\n",
              "<table id=\"T_d4a0f_\" class=\"dataframe\">\n",
              "  <thead>\n",
              "    <tr>\n",
              "      <th class=\"blank level0\" >&nbsp;</th>\n",
              "      <th class=\"col_heading level0 col0\" >ASSET</th>\n",
              "      <th class=\"col_heading level0 col1\" >HOUSES</th>\n",
              "      <th class=\"col_heading level0 col2\" >INCOME</th>\n",
              "      <th class=\"col_heading level0 col3\" >DEBT</th>\n",
              "    </tr>\n",
              "  </thead>\n",
              "  <tbody>\n",
              "    <tr>\n",
              "      <th id=\"T_d4a0f_level0_row0\" class=\"row_heading level0 row0\" >ASSET</th>\n",
              "      <td id=\"T_d4a0f_row0_col0\" class=\"data row0 col0\" >1.000000</td>\n",
              "      <td id=\"T_d4a0f_row0_col1\" class=\"data row0 col1\" >0.796078</td>\n",
              "      <td id=\"T_d4a0f_row0_col2\" class=\"data row0 col2\" >0.592485</td>\n",
              "      <td id=\"T_d4a0f_row0_col3\" class=\"data row0 col3\" >0.666234</td>\n",
              "    </tr>\n",
              "    <tr>\n",
              "      <th id=\"T_d4a0f_level0_row1\" class=\"row_heading level0 row1\" >HOUSES</th>\n",
              "      <td id=\"T_d4a0f_row1_col0\" class=\"data row1 col0\" >0.796078</td>\n",
              "      <td id=\"T_d4a0f_row1_col1\" class=\"data row1 col1\" >1.000000</td>\n",
              "      <td id=\"T_d4a0f_row1_col2\" class=\"data row1 col2\" >0.464240</td>\n",
              "      <td id=\"T_d4a0f_row1_col3\" class=\"data row1 col3\" >0.702564</td>\n",
              "    </tr>\n",
              "    <tr>\n",
              "      <th id=\"T_d4a0f_level0_row2\" class=\"row_heading level0 row2\" >INCOME</th>\n",
              "      <td id=\"T_d4a0f_row2_col0\" class=\"data row2 col0\" >0.592485</td>\n",
              "      <td id=\"T_d4a0f_row2_col1\" class=\"data row2 col1\" >0.464240</td>\n",
              "      <td id=\"T_d4a0f_row2_col2\" class=\"data row2 col2\" >1.000000</td>\n",
              "      <td id=\"T_d4a0f_row2_col3\" class=\"data row2 col3\" >0.574042</td>\n",
              "    </tr>\n",
              "    <tr>\n",
              "      <th id=\"T_d4a0f_level0_row3\" class=\"row_heading level0 row3\" >DEBT</th>\n",
              "      <td id=\"T_d4a0f_row3_col0\" class=\"data row3 col0\" >0.666234</td>\n",
              "      <td id=\"T_d4a0f_row3_col1\" class=\"data row3 col1\" >0.702564</td>\n",
              "      <td id=\"T_d4a0f_row3_col2\" class=\"data row3 col2\" >0.574042</td>\n",
              "      <td id=\"T_d4a0f_row3_col3\" class=\"data row3 col3\" >1.000000</td>\n",
              "    </tr>\n",
              "  </tbody>\n",
              "</table>\n"
            ]
          },
          "metadata": {},
          "execution_count": 22
        }
      ]
    },
    {
      "cell_type": "code",
      "source": [
        "# Scatter plot ASSET vs DEBT\n",
        "plt.figure(figsize=(15, 6))\n",
        "df_fear[['ASSET','DEBT']].plot(kind='scatter', x='ASSET', y='DEBT')\n",
        "plt.title('Scatter Plot Asset vs Debt')\n",
        "plt.xlabel('ASSET (x 10^6)')\n",
        "plt.ylabel('DEBT (x 10^6)')\n",
        "plt.show()"
      ],
      "metadata": {
        "colab": {
          "base_uri": "https://localhost:8080/",
          "height": 312
        },
        "id": "-hGJGmmmYzdP",
        "outputId": "01659cb2-e913-4aef-f455-5ed114b602f2"
      },
      "execution_count": 23,
      "outputs": [
        {
          "output_type": "display_data",
          "data": {
            "text/plain": [
              "<Figure size 1080x432 with 0 Axes>"
            ]
          },
          "metadata": {}
        },
        {
          "output_type": "display_data",
          "data": {
            "text/plain": [
              "<Figure size 432x288 with 1 Axes>"
            ],
            "image/png": "[encoded data removed]"
          },
          "metadata": {
            "needs_background": "light"
          }
        }
      ]
    },
    {
      "cell_type": "code",
      "source": [
        "# Scatter plot ASSET vs HOUSES\n",
        "plt.figure(figsize=(15, 6))\n",
        "df_fear[['ASSET','HOUSES']].plot(kind='scatter', x='ASSET', y='HOUSES')\n",
        "plt.title('Scatter Plot Asset vs Houses')\n",
        "plt.xlabel('ASSET (x 10^6)')\n",
        "plt.ylabel('HOUSES (x 10^6)')\n",
        "plt.show()"
      ],
      "metadata": {
        "colab": {
          "base_uri": "https://localhost:8080/",
          "height": 312
        },
        "id": "9jCE_S7ZZb4H",
        "outputId": "9c4f23a4-e404-4bea-9144-d630d20683b4"
      },
      "execution_count": 24,
      "outputs": [
        {
          "output_type": "display_data",
          "data": {
            "text/plain": [
              "<Figure size 1080x432 with 0 Axes>"
            ]
          },
          "metadata": {}
        },
        {
          "output_type": "display_data",
          "data": {
            "text/plain": [
              "<Figure size 432x288 with 1 Axes>"
            ],
            "image/png": "[encoded data removed]"
          },
          "metadata": {
            "needs_background": "light"
          }
        }
      ]
    },
    {
      "cell_type": "code",
      "source": [
        "# Scatter plot ASSET vs HOUSES\n",
        "plt.figure(figsize=(15, 6))\n",
        "df_fear[['DEBT','HOUSES']].plot(kind='scatter', x='DEBT', y='HOUSES')\n",
        "plt.title('Scatter Plot Debt vs Houses')\n",
        "plt.xlabel('DEBT(x 10^6)')\n",
        "plt.ylabel('HOUSES (x 10^6)')\n",
        "plt.show()"
      ],
      "metadata": {
        "colab": {
          "base_uri": "https://localhost:8080/",
          "height": 312
        },
        "id": "9DgNIGmjalw5",
        "outputId": "393a489d-a16d-499e-fd57-5ae3a8a5ea77"
      },
      "execution_count": 25,
      "outputs": [
        {
          "output_type": "display_data",
          "data": {
            "text/plain": [
              "<Figure size 1080x432 with 0 Axes>"
            ]
          },
          "metadata": {}
        },
        {
          "output_type": "display_data",
          "data": {
            "text/plain": [
              "<Figure size 432x288 with 1 Axes>"
            ],
            "image/png": "[encoded data removed]"
          },
          "metadata": {
            "needs_background": "light"
          }
        }
      ]
    },
    {
      "cell_type": "markdown",
      "source": [
        "## Top 5 Features with the Largest Variance"
      ],
      "metadata": {
        "id": "omVoU1XoYvsm"
      }
    },
    {
      "cell_type": "code",
      "source": [
        "top_five_feat = df_fear.apply(trimmed_var, limits=(0.15, 0.15)).sort_values(ascending=False).head(5)\n",
        "\n",
        "fig = px.bar(x=top_five_feat, y=top_five_feat.index, orientation='h', title='Top 5 High Variance Features')\n",
        "fig.update_layout(xaxis_title='Variance', yaxis_title='Features')\n",
        "fig.show()"
      ],
      "metadata": {
        "colab": {
          "base_uri": "https://localhost:8080/",
          "height": 542
        },
        "id": "kg8kvtgdcZ7j",
        "outputId": "a464f8e5-7539-4c5c-cf93-49d1b2c3dfa8"
      },
      "execution_count": 26,
      "outputs": [
        {
          "output_type": "display_data",
          "data": {
            "text/html": [
              "<html>\n",
              "<head><meta charset=\"utf-8\" /></head>\n",
              "<body>\n",
              "    <div>            <script src=\"https://cdnjs.cloudflare.com/ajax/libs/mathjax/2.7.5/MathJax.js?config=TeX-AMS-MML_SVG\"></script><script type=\"text/javascript\">if (window.MathJax) {MathJax.Hub.Config({SVG: {font: \"STIX-Web\"}});}</script>                <script type=\"text/javascript\">window.PlotlyConfig = {MathJaxConfig: 'local'};</script>\n",
              "        <script src=\"https://cdn.plot.ly/plotly-2.8.3.min.js\"></script>                <div id=\"b32e4249-d02f-4782-94b1-9b4167563e4e\" class=\"plotly-graph-div\" style=\"height:525px; width:100%;\"></div>            <script type=\"text/javascript\">                                    window.PLOTLYENV=window.PLOTLYENV || {};                                    if (document.getElementById(\"b32e4249-d02f-4782-94b1-9b4167563e4e\")) {                    Plotly.newPlot(                        \"b32e4249-d02f-4782-94b1-9b4167563e4e\",                        [{\"alignmentgroup\":\"True\",\"hovertemplate\":\"x=%{x}<br>y=%{y}<extra></extra>\",\"legendgroup\":\"\",\"marker\":{\"color\":\"#636efa\",\"pattern\":{\"shape\":\"\"}},\"name\":\"\",\"offsetgroup\":\"\",\"orientation\":\"h\",\"showlegend\":false,\"textposition\":\"auto\",\"x\":[7270722512.231372,5256463770.012036,3013696081.0213814,1822293878.6575568,1546519182.8573968],\"xaxis\":\"x\",\"y\":[\"ASSET\",\"NFIN\",\"HOUSES\",\"DEBT\",\"NETWORTH\"],\"yaxis\":\"y\",\"type\":\"bar\"}],                        {\"template\":{\"data\":{\"bar\":[{\"error_x\":{\"color\":\"#2a3f5f\"},\"error_y\":{\"color\":\"#2a3f5f\"},\"marker\":{\"line\":{\"color\":\"#E5ECF6\",\"width\":0.5},\"pattern\":{\"fillmode\":\"overlay\",\"size\":10,\"solidity\":0.2}},\"type\":\"bar\"}],\"barpolar\":[{\"marker\":{\"line\":{\"color\":\"#E5ECF6\",\"width\":0.5},\"pattern\":{\"fillmode\":\"overlay\",\"size\":10,\"solidity\":0.2}},\"type\":\"barpolar\"}],\"carpet\":[{\"aaxis\":{\"endlinecolor\":\"#2a3f5f\",\"gridcolor\":\"white\",\"linecolor\":\"white\",\"minorgridcolor\":\"white\",\"startlinecolor\":\"#2a3f5f\"},\"baxis\":{\"endlinecolor\":\"#2a3f5f\",\"gridcolor\":\"white\",\"linecolor\":\"white\",\"minorgridcolor\":\"white\",\"startlinecolor\":\"#2a3f5f\"},\"type\":\"carpet\"}],\"choropleth\":[{\"colorbar\":{\"outlinewidth\":0,\"ticks\":\"\"},\"type\":\"choropleth\"}],\"contour\":[{\"colorbar\":{\"outlinewidth\":0,\"ticks\":\"\"},\"colorscale\":[[0.0,\"#0d0887\"],[0.1111111111111111,\"#46039f\"],[0.2222222222222222,\"#7201a8\"],[0.3333333333333333,\"#9c179e\"],[0.4444444444444444,\"#bd3786\"],[0.5555555555555556,\"#d8576b\"],[0.6666666666666666,\"#ed7953\"],[0.7777777777777778,\"#fb9f3a\"],[0.8888888888888888,\"#fdca26\"],[1.0,\"#f0f921\"]],\"type\":\"contour\"}],\"contourcarpet\":[{\"colorbar\":{\"outlinewidth\":0,\"ticks\":\"\"},\"type\":\"contourcarpet\"}],\"heatmap\":[{\"colorbar\":{\"outlinewidth\":0,\"ticks\":\"\"},\"colorscale\":[[0.0,\"#0d0887\"],[0.1111111111111111,\"#46039f\"],[0.2222222222222222,\"#7201a8\"],[0.3333333333333333,\"#9c179e\"],[0.4444444444444444,\"#bd3786\"],[0.5555555555555556,\"#d8576b\"],[0.6666666666666666,\"#ed7953\"],[0.7777777777777778,\"#fb9f3a\"],[0.8888888888888888,\"#fdca26\"],[1.0,\"#f0f921\"]],\"type\":\"heatmap\"}],\"heatmapgl\":[{\"colorbar\":{\"outlinewidth\":0,\"ticks\":\"\"},\"colorscale\":[[0.0,\"#0d0887\"],[0.1111111111111111,\"#46039f\"],[0.2222222222222222,\"#7201a8\"],[0.3333333333333333,\"#9c179e\"],[0.4444444444444444,\"#bd3786\"],[0.5555555555555556,\"#d8576b\"],[0.6666666666666666,\"#ed7953\"],[0.7777777777777778,\"#fb9f3a\"],[0.8888888888888888,\"#fdca26\"],[1.0,\"#f0f921\"]],\"type\":\"heatmapgl\"}],\"histogram\":[{\"marker\":{\"pattern\":{\"fillmode\":\"overlay\",\"size\":10,\"solidity\":0.2}},\"type\":\"histogram\"}],\"histogram2d\":[{\"colorbar\":{\"outlinewidth\":0,\"ticks\":\"\"},\"colorscale\":[[0.0,\"#0d0887\"],[0.1111111111111111,\"#46039f\"],[0.2222222222222222,\"#7201a8\"],[0.3333333333333333,\"#9c179e\"],[0.4444444444444444,\"#bd3786\"],[0.5555555555555556,\"#d8576b\"],[0.6666666666666666,\"#ed7953\"],[0.7777777777777778,\"#fb9f3a\"],[0.8888888888888888,\"#fdca26\"],[1.0,\"#f0f921\"]],\"type\":\"histogram2d\"}],\"histogram2dcontour\":[{\"colorbar\":{\"outlinewidth\":0,\"ticks\":\"\"},\"colorscale\":[[0.0,\"#0d0887\"],[0.1111111111111111,\"#46039f\"],[0.2222222222222222,\"#7201a8\"],[0.3333333333333333,\"#9c179e\"],[0.4444444444444444,\"#bd3786\"],[0.5555555555555556,\"#d8576b\"],[0.6666666666666666,\"#ed7953\"],[0.7777777777777778,\"#fb9f3a\"],[0.8888888888888888,\"#fdca26\"],[1.0,\"#f0f921\"]],\"type\":\"histogram2dcontour\"}],\"mesh3d\":[{\"colorbar\":{\"outlinewidth\":0,\"ticks\":\"\"},\"type\":\"mesh3d\"}],\"parcoords\":[{\"line\":{\"colorbar\":{\"outlinewidth\":0,\"ticks\":\"\"}},\"type\":\"parcoords\"}],\"pie\":[{\"automargin\":true,\"type\":\"pie\"}],\"scatter\":[{\"marker\":{\"colorbar\":{\"outlinewidth\":0,\"ticks\":\"\"}},\"type\":\"scatter\"}],\"scatter3d\":[{\"line\":{\"colorbar\":{\"outlinewidth\":0,\"ticks\":\"\"}},\"marker\":{\"colorbar\":{\"outlinewidth\":0,\"ticks\":\"\"}},\"type\":\"scatter3d\"}],\"scattercarpet\":[{\"marker\":{\"colorbar\":{\"outlinewidth\":0,\"ticks\":\"\"}},\"type\":\"scattercarpet\"}],\"scattergeo\":[{\"marker\":{\"colorbar\":{\"outlinewidth\":0,\"ticks\":\"\"}},\"type\":\"scattergeo\"}],\"scattergl\":[{\"marker\":{\"colorbar\":{\"outlinewidth\":0,\"ticks\":\"\"}},\"type\":\"scattergl\"}],\"scattermapbox\":[{\"marker\":{\"colorbar\":{\"outlinewidth\":0,\"ticks\":\"\"}},\"type\":\"scattermapbox\"}],\"scatterpolar\":[{\"marker\":{\"colorbar\":{\"outlinewidth\":0,\"ticks\":\"\"}},\"type\":\"scatterpolar\"}],\"scatterpolargl\":[{\"marker\":{\"colorbar\":{\"outlinewidth\":0,\"ticks\":\"\"}},\"type\":\"scatterpolargl\"}],\"scatterternary\":[{\"marker\":{\"colorbar\":{\"outlinewidth\":0,\"ticks\":\"\"}},\"type\":\"scatterternary\"}],\"surface\":[{\"colorbar\":{\"outlinewidth\":0,\"ticks\":\"\"},\"colorscale\":[[0.0,\"#0d0887\"],[0.1111111111111111,\"#46039f\"],[0.2222222222222222,\"#7201a8\"],[0.3333333333333333,\"#9c179e\"],[0.4444444444444444,\"#bd3786\"],[0.5555555555555556,\"#d8576b\"],[0.6666666666666666,\"#ed7953\"],[0.7777777777777778,\"#fb9f3a\"],[0.8888888888888888,\"#fdca26\"],[1.0,\"#f0f921\"]],\"type\":\"surface\"}],\"table\":[{\"cells\":{\"fill\":{\"color\":\"#EBF0F8\"},\"line\":{\"color\":\"white\"}},\"header\":{\"fill\":{\"color\":\"#C8D4E3\"},\"line\":{\"color\":\"white\"}},\"type\":\"table\"}]},\"layout\":{\"annotationdefaults\":{\"arrowcolor\":\"#2a3f5f\",\"arrowhead\":0,\"arrowwidth\":1},\"autotypenumbers\":\"strict\",\"coloraxis\":{\"colorbar\":{\"outlinewidth\":0,\"ticks\":\"\"}},\"colorscale\":{\"diverging\":[[0,\"#8e0152\"],[0.1,\"#c51b7d\"],[0.2,\"#de77ae\"],[0.3,\"#f1b6da\"],[0.4,\"#fde0ef\"],[0.5,\"#f7f7f7\"],[0.6,\"#e6f5d0\"],[0.7,\"#b8e186\"],[0.8,\"#7fbc41\"],[0.9,\"#4d9221\"],[1,\"#276419\"]],\"sequential\":[[0.0,\"#0d0887\"],[0.1111111111111111,\"#46039f\"],[0.2222222222222222,\"#7201a8\"],[0.3333333333333333,\"#9c179e\"],[0.4444444444444444,\"#bd3786\"],[0.5555555555555556,\"#d8576b\"],[0.6666666666666666,\"#ed7953\"],[0.7777777777777778,\"#fb9f3a\"],[0.8888888888888888,\"#fdca26\"],[1.0,\"#f0f921\"]],\"sequentialminus\":[[0.0,\"#0d0887\"],[0.1111111111111111,\"#46039f\"],[0.2222222222222222,\"#7201a8\"],[0.3333333333333333,\"#9c179e\"],[0.4444444444444444,\"#bd3786\"],[0.5555555555555556,\"#d8576b\"],[0.6666666666666666,\"#ed7953\"],[0.7777777777777778,\"#fb9f3a\"],[0.8888888888888888,\"#fdca26\"],[1.0,\"#f0f921\"]]},\"colorway\":[\"#636efa\",\"#EF553B\",\"#00cc96\",\"#ab63fa\",\"#FFA15A\",\"#19d3f3\",\"#FF6692\",\"#B6E880\",\"#FF97FF\",\"#FECB52\"],\"font\":{\"color\":\"#2a3f5f\"},\"geo\":{\"bgcolor\":\"white\",\"lakecolor\":\"white\",\"landcolor\":\"#E5ECF6\",\"showlakes\":true,\"showland\":true,\"subunitcolor\":\"white\"},\"hoverlabel\":{\"align\":\"left\"},\"hovermode\":\"closest\",\"mapbox\":{\"style\":\"light\"},\"paper_bgcolor\":\"white\",\"plot_bgcolor\":\"#E5ECF6\",\"polar\":{\"angularaxis\":{\"gridcolor\":\"white\",\"linecolor\":\"white\",\"ticks\":\"\"},\"bgcolor\":\"#E5ECF6\",\"radialaxis\":{\"gridcolor\":\"white\",\"linecolor\":\"white\",\"ticks\":\"\"}},\"scene\":{\"xaxis\":{\"backgroundcolor\":\"#E5ECF6\",\"gridcolor\":\"white\",\"gridwidth\":2,\"linecolor\":\"white\",\"showbackground\":true,\"ticks\":\"\",\"zerolinecolor\":\"white\"},\"yaxis\":{\"backgroundcolor\":\"#E5ECF6\",\"gridcolor\":\"white\",\"gridwidth\":2,\"linecolor\":\"white\",\"showbackground\":true,\"ticks\":\"\",\"zerolinecolor\":\"white\"},\"zaxis\":{\"backgroundcolor\":\"#E5ECF6\",\"gridcolor\":\"white\",\"gridwidth\":2,\"linecolor\":\"white\",\"showbackground\":true,\"ticks\":\"\",\"zerolinecolor\":\"white\"}},\"shapedefaults\":{\"line\":{\"color\":\"#2a3f5f\"}},\"ternary\":{\"aaxis\":{\"gridcolor\":\"white\",\"linecolor\":\"white\",\"ticks\":\"\"},\"baxis\":{\"gridcolor\":\"white\",\"linecolor\":\"white\",\"ticks\":\"\"},\"bgcolor\":\"#E5ECF6\",\"caxis\":{\"gridcolor\":\"white\",\"linecolor\":\"white\",\"ticks\":\"\"}},\"title\":{\"x\":0.05},\"xaxis\":{\"automargin\":true,\"gridcolor\":\"white\",\"linecolor\":\"white\",\"ticks\":\"\",\"title\":{\"standoff\":15},\"zerolinecolor\":\"white\",\"zerolinewidth\":2},\"yaxis\":{\"automargin\":true,\"gridcolor\":\"white\",\"linecolor\":\"white\",\"ticks\":\"\",\"title\":{\"standoff\":15},\"zerolinecolor\":\"white\",\"zerolinewidth\":2}}},\"xaxis\":{\"anchor\":\"y\",\"domain\":[0.0,1.0],\"title\":{\"text\":\"Variance\"}},\"yaxis\":{\"anchor\":\"x\",\"domain\":[0.0,1.0],\"title\":{\"text\":\"Features\"}},\"legend\":{\"tracegroupgap\":0},\"title\":{\"text\":\"Top 5 High Variance Features\"},\"barmode\":\"relative\"},                        {\"responsive\": true}                    ).then(function(){\n",
              "                            \n",
              "var gd = document.getElementById('b32e4249-d02f-4782-94b1-9b4167563e4e');\n",
              "var x = new MutationObserver(function (mutations, observer) {{\n",
              "        var display = window.getComputedStyle(gd).display;\n",
              "        if (!display || display === 'none') {{\n",
              "            console.log([gd, 'removed!']);\n",
              "            Plotly.purge(gd);\n",
              "            observer.disconnect();\n",
              "        }}\n",
              "}});\n",
              "\n",
              "// Listen for the removal of the full notebook cells\n",
              "var notebookContainer = gd.closest('#notebook-container');\n",
              "if (notebookContainer) {{\n",
              "    x.observe(notebookContainer, {childList: true});\n",
              "}}\n",
              "\n",
              "// Listen for the clearing of the current output cell\n",
              "var outputEl = gd.closest('.output');\n",
              "if (outputEl) {{\n",
              "    x.observe(outputEl, {childList: true});\n",
              "}}\n",
              "\n",
              "                        })                };                            </script>        </div>\n",
              "</body>\n",
              "</html>"
            ]
          },
          "metadata": {}
        }
      ]
    },
    {
      "cell_type": "markdown",
      "source": [
        "# Building Model"
      ],
      "metadata": {
        "id": "28I4a3sucao6"
      }
    },
    {
      "cell_type": "code",
      "source": [
        "X = df_fear[top_five_feat.index]\n",
        "X.describe().loc[['mean','std']]"
      ],
      "metadata": {
        "colab": {
          "base_uri": "https://localhost:8080/",
          "height": 112
        },
        "id": "DFdLiF5Jb3f0",
        "outputId": "21999db0-63ec-4647-8560-e67284c22da0"
      },
      "execution_count": 27,
      "outputs": [
        {
          "output_type": "execute_result",
          "data": {
            "text/plain": [
              "              ASSET           NFIN         HOUSES           DEBT  \\\n",
              "mean  173846.537236  135538.796546   83517.743383   76476.321220   \n",
              "std   388708.458176  312711.011757  189622.551462  145526.176485   \n",
              "\n",
              "           NETWORTH  \n",
              "mean   97370.216016  \n",
              "std   311284.564233  "
            ],
            "text/html": [
              "\n",
              "  <div id=\"df-40ad8b50-1a61-4f36-b0b3-805553e93d1a\">\n",
              "    <div class=\"colab-df-container\">\n",
              "      <div>\n",
              "<style scoped>\n",
              "    .dataframe tbody tr th:only-of-type {\n",
              "        vertical-align: middle;\n",
              "    }\n",
              "\n",
              "    .dataframe tbody tr th {\n",
              "        vertical-align: top;\n",
              "    }\n",
              "\n",
              "    .dataframe thead th {\n",
              "        text-align: right;\n",
              "    }\n",
              "</style>\n",
              "<table border=\"1\" class=\"dataframe\">\n",
              "  <thead>\n",
              "    <tr style=\"text-align: right;\">\n",
              "      <th></th>\n",
              "      <th>ASSET</th>\n",
              "      <th>NFIN</th>\n",
              "      <th>HOUSES</th>\n",
              "      <th>DEBT</th>\n",
              "      <th>NETWORTH</th>\n",
              "    </tr>\n",
              "  </thead>\n",
              "  <tbody>\n",
              "    <tr>\n",
              "      <th>mean</th>\n",
              "      <td>173846.537236</td>\n",
              "      <td>135538.796546</td>\n",
              "      <td>83517.743383</td>\n",
              "      <td>76476.321220</td>\n",
              "      <td>97370.216016</td>\n",
              "    </tr>\n",
              "    <tr>\n",
              "      <th>std</th>\n",
              "      <td>388708.458176</td>\n",
              "      <td>312711.011757</td>\n",
              "      <td>189622.551462</td>\n",
              "      <td>145526.176485</td>\n",
              "      <td>311284.564233</td>\n",
              "    </tr>\n",
              "  </tbody>\n",
              "</table>\n",
              "</div>\n",
              "      <button class=\"colab-df-convert\" onclick=\"convertToInteractive('df-40ad8b50-1a61-4f36-b0b3-805553e93d1a')\"\n",
              "              title=\"Convert this dataframe to an interactive table.\"\n",
              "              style=\"display:none;\">\n",
              "        \n",
              "  <svg xmlns=\"http://www.w3.org/2000/svg\" height=\"24px\"viewBox=\"0 0 24 24\"\n",
              "       width=\"24px\">\n",
              "    <path d=\"M0 0h24v24H0V0z\" fill=\"none\"/>\n",
              "    <path d=\"M18.56 5.44l.94 2.06.94-2.06 2.06-.94-2.06-.94-.94-2.06-.94 2.06-2.06.94zm-11 1L8.5 8.5l.94-2.06 2.06-.94-2.06-.94L8.5 2.5l-.94 2.06-2.06.94zm10 10l.94 2.06.94-2.06 2.06-.94-2.06-.94-.94-2.06-.94 2.06-2.06.94z\"/><path d=\"M17.41 7.96l-1.37-1.37c-.4-.4-.92-.59-1.43-.59-.52 0-1.04.2-1.43.59L10.3 9.45l-7.72 7.72c-.78.78-.78 2.05 0 2.83L4 21.41c.39.39.9.59 1.41.59.51 0 1.02-.2 1.41-.59l7.78-7.78 2.81-2.81c.8-.78.8-2.07 0-2.86zM5.41 20L4 18.59l7.72-7.72 1.47 1.35L5.41 20z\"/>\n",
              "  </svg>\n",
              "      </button>\n",
              "      \n",
              "  <style>\n",
              "    .colab-df-container {\n",
              "      display:flex;\n",
              "      flex-wrap:wrap;\n",
              "      gap: 12px;\n",
              "    }\n",
              "\n",
              "    .colab-df-convert {\n",
              "      background-color: #E8F0FE;\n",
              "      border: none;\n",
              "      border-radius: 50%;\n",
              "      cursor: pointer;\n",
              "      display: none;\n",
              "      fill: #1967D2;\n",
              "      height: 32px;\n",
              "      padding: 0 0 0 0;\n",
              "      width: 32px;\n",
              "    }\n",
              "\n",
              "    .colab-df-convert:hover {\n",
              "      background-color: #E2EBFA;\n",
              "      box-shadow: 0px 1px 2px rgba(60, 64, 67, 0.3), 0px 1px 3px 1px rgba(60, 64, 67, 0.15);\n",
              "      fill: #174EA6;\n",
              "    }\n",
              "\n",
              "    [theme=dark] .colab-df-convert {\n",
              "      background-color: #3B4455;\n",
              "      fill: #D2E3FC;\n",
              "    }\n",
              "\n",
              "    [theme=dark] .colab-df-convert:hover {\n",
              "      background-color: #434B5C;\n",
              "      box-shadow: 0px 1px 3px 1px rgba(0, 0, 0, 0.15);\n",
              "      filter: drop-shadow(0px 1px 2px rgba(0, 0, 0, 0.3));\n",
              "      fill: #FFFFFF;\n",
              "    }\n",
              "  </style>\n",
              "\n",
              "      <script>\n",
              "        const buttonEl =\n",
              "          document.querySelector('#df-40ad8b50-1a61-4f36-b0b3-805553e93d1a button.colab-df-convert');\n",
              "        buttonEl.style.display =\n",
              "          google.colab.kernel.accessAllowed ? 'block' : 'none';\n",
              "\n",
              "        async function convertToInteractive(key) {\n",
              "          const element = document.querySelector('#df-40ad8b50-1a61-4f36-b0b3-805553e93d1a');\n",
              "          const dataTable =\n",
              "            await google.colab.kernel.invokeFunction('convertToInteractive',\n",
              "                                                     [key], {});\n",
              "          if (!dataTable) return;\n",
              "\n",
              "          const docLinkHtml = 'Like what you see? Visit the ' +\n",
              "            '<a target=\"_blank\" href=https://colab.research.google.com/notebooks/data_table.ipynb>data table notebook</a>'\n",
              "            + ' to learn more about interactive tables.';\n",
              "          element.innerHTML = '';\n",
              "          dataTable['output_type'] = 'display_data';\n",
              "          await google.colab.output.renderOutput(dataTable, element);\n",
              "          const docLink = document.createElement('div');\n",
              "          docLink.innerHTML = docLinkHtml;\n",
              "          element.appendChild(docLink);\n",
              "        }\n",
              "      </script>\n",
              "    </div>\n",
              "  </div>\n",
              "  "
            ]
          },
          "metadata": {},
          "execution_count": 27
        }
      ]
    },
    {
      "cell_type": "code",
      "source": [
        "# standardization\n",
        "scaler = StandardScaler()\n",
        "\n",
        "# transform data\n",
        "X_scaled = scaler.fit_transform(X)\n",
        "X_scaled = pd.DataFrame(X_scaled, columns=X.columns)\n",
        "X_scaled.describe().loc[['mean', 'std']]"
      ],
      "metadata": {
        "colab": {
          "base_uri": "https://localhost:8080/",
          "height": 112
        },
        "id": "rAbbjf6aem_g",
        "outputId": "954fea2f-fb88-4e32-9de3-2f3b01de9b50"
      },
      "execution_count": 28,
      "outputs": [
        {
          "output_type": "execute_result",
          "data": {
            "text/plain": [
              "             ASSET          NFIN        HOUSES          DEBT      NETWORTH\n",
              "mean  4.781580e-17  1.434474e-17 -9.563159e-18 -5.100352e-17  3.506492e-17\n",
              "std   1.000112e+00  1.000112e+00  1.000112e+00  1.000112e+00  1.000112e+00"
            ],
            "text/html": [
              "\n",
              "  <div id=\"df-8b0deb1f-2473-4632-b517-15c559efb417\">\n",
              "    <div class=\"colab-df-container\">\n",
              "      <div>\n",
              "<style scoped>\n",
              "    .dataframe tbody tr th:only-of-type {\n",
              "        vertical-align: middle;\n",
              "    }\n",
              "\n",
              "    .dataframe tbody tr th {\n",
              "        vertical-align: top;\n",
              "    }\n",
              "\n",
              "    .dataframe thead th {\n",
              "        text-align: right;\n",
              "    }\n",
              "</style>\n",
              "<table border=\"1\" class=\"dataframe\">\n",
              "  <thead>\n",
              "    <tr style=\"text-align: right;\">\n",
              "      <th></th>\n",
              "      <th>ASSET</th>\n",
              "      <th>NFIN</th>\n",
              "      <th>HOUSES</th>\n",
              "      <th>DEBT</th>\n",
              "      <th>NETWORTH</th>\n",
              "    </tr>\n",
              "  </thead>\n",
              "  <tbody>\n",
              "    <tr>\n",
              "      <th>mean</th>\n",
              "      <td>4.781580e-17</td>\n",
              "      <td>1.434474e-17</td>\n",
              "      <td>-9.563159e-18</td>\n",
              "      <td>-5.100352e-17</td>\n",
              "      <td>3.506492e-17</td>\n",
              "    </tr>\n",
              "    <tr>\n",
              "      <th>std</th>\n",
              "      <td>1.000112e+00</td>\n",
              "      <td>1.000112e+00</td>\n",
              "      <td>1.000112e+00</td>\n",
              "      <td>1.000112e+00</td>\n",
              "      <td>1.000112e+00</td>\n",
              "    </tr>\n",
              "  </tbody>\n",
              "</table>\n",
              "</div>\n",
              "      <button class=\"colab-df-convert\" onclick=\"convertToInteractive('df-8b0deb1f-2473-4632-b517-15c559efb417')\"\n",
              "              title=\"Convert this dataframe to an interactive table.\"\n",
              "              style=\"display:none;\">\n",
              "        \n",
              "  <svg xmlns=\"http://www.w3.org/2000/svg\" height=\"24px\"viewBox=\"0 0 24 24\"\n",
              "       width=\"24px\">\n",
              "    <path d=\"M0 0h24v24H0V0z\" fill=\"none\"/>\n",
              "    <path d=\"M18.56 5.44l.94 2.06.94-2.06 2.06-.94-2.06-.94-.94-2.06-.94 2.06-2.06.94zm-11 1L8.5 8.5l.94-2.06 2.06-.94-2.06-.94L8.5 2.5l-.94 2.06-2.06.94zm10 10l.94 2.06.94-2.06 2.06-.94-2.06-.94-.94-2.06-.94 2.06-2.06.94z\"/><path d=\"M17.41 7.96l-1.37-1.37c-.4-.4-.92-.59-1.43-.59-.52 0-1.04.2-1.43.59L10.3 9.45l-7.72 7.72c-.78.78-.78 2.05 0 2.83L4 21.41c.39.39.9.59 1.41.59.51 0 1.02-.2 1.41-.59l7.78-7.78 2.81-2.81c.8-.78.8-2.07 0-2.86zM5.41 20L4 18.59l7.72-7.72 1.47 1.35L5.41 20z\"/>\n",
              "  </svg>\n",
              "      </button>\n",
              "      \n",
              "  <style>\n",
              "    .colab-df-container {\n",
              "      display:flex;\n",
              "      flex-wrap:wrap;\n",
              "      gap: 12px;\n",
              "    }\n",
              "\n",
              "    .colab-df-convert {\n",
              "      background-color: #E8F0FE;\n",
              "      border: none;\n",
              "      border-radius: 50%;\n",
              "      cursor: pointer;\n",
              "      display: none;\n",
              "      fill: #1967D2;\n",
              "      height: 32px;\n",
              "      padding: 0 0 0 0;\n",
              "      width: 32px;\n",
              "    }\n",
              "\n",
              "    .colab-df-convert:hover {\n",
              "      background-color: #E2EBFA;\n",
              "      box-shadow: 0px 1px 2px rgba(60, 64, 67, 0.3), 0px 1px 3px 1px rgba(60, 64, 67, 0.15);\n",
              "      fill: #174EA6;\n",
              "    }\n",
              "\n",
              "    [theme=dark] .colab-df-convert {\n",
              "      background-color: #3B4455;\n",
              "      fill: #D2E3FC;\n",
              "    }\n",
              "\n",
              "    [theme=dark] .colab-df-convert:hover {\n",
              "      background-color: #434B5C;\n",
              "      box-shadow: 0px 1px 3px 1px rgba(0, 0, 0, 0.15);\n",
              "      filter: drop-shadow(0px 1px 2px rgba(0, 0, 0, 0.3));\n",
              "      fill: #FFFFFF;\n",
              "    }\n",
              "  </style>\n",
              "\n",
              "      <script>\n",
              "        const buttonEl =\n",
              "          document.querySelector('#df-8b0deb1f-2473-4632-b517-15c559efb417 button.colab-df-convert');\n",
              "        buttonEl.style.display =\n",
              "          google.colab.kernel.accessAllowed ? 'block' : 'none';\n",
              "\n",
              "        async function convertToInteractive(key) {\n",
              "          const element = document.querySelector('#df-8b0deb1f-2473-4632-b517-15c559efb417');\n",
              "          const dataTable =\n",
              "            await google.colab.kernel.invokeFunction('convertToInteractive',\n",
              "                                                     [key], {});\n",
              "          if (!dataTable) return;\n",
              "\n",
              "          const docLinkHtml = 'Like what you see? Visit the ' +\n",
              "            '<a target=\"_blank\" href=https://colab.research.google.com/notebooks/data_table.ipynb>data table notebook</a>'\n",
              "            + ' to learn more about interactive tables.';\n",
              "          element.innerHTML = '';\n",
              "          dataTable['output_type'] = 'display_data';\n",
              "          await google.colab.output.renderOutput(dataTable, element);\n",
              "          const docLink = document.createElement('div');\n",
              "          docLink.innerHTML = docLinkHtml;\n",
              "          element.appendChild(docLink);\n",
              "        }\n",
              "      </script>\n",
              "    </div>\n",
              "  </div>\n",
              "  "
            ]
          },
          "metadata": {},
          "execution_count": 28
        }
      ]
    },
    {
      "cell_type": "code",
      "source": [
        "# Parameter tunning\n",
        "n_clusters = range(2, 10)\n",
        "inertia_error = list()\n",
        "silhouette_scores = list()\n",
        "\n",
        "for i in n_clusters:\n",
        "  # create model\n",
        "  model = make_pipeline(StandardScaler(), KMeans(n_clusters=i, random_state=42))\n",
        "  # fitting\n",
        "  model.fit(X)\n",
        "  # calculate measurement error\n",
        "  inertia_error.append(model[-1].inertia_)\n",
        "  silhouette_scores.append(silhouette_score(X, model[-1].labels_))\n"
      ],
      "metadata": {
        "id": "kgwP12ZXlUS5"
      },
      "execution_count": 29,
      "outputs": []
    },
    {
      "cell_type": "code",
      "source": [
        "# create line plot of inertia error vs n_cluster\n",
        "fig = px.line(x=n_clusters, y=inertia_error, title='Inertia vs Number of Clusters')\n",
        "fig.update_layout(xaxis_title='number of clusters', yaxis_title='inertia')\n",
        "fig.show()"
      ],
      "metadata": {
        "colab": {
          "base_uri": "https://localhost:8080/",
          "height": 542
        },
        "id": "hkeJ7uTJmiRX",
        "outputId": "781a9a3b-5eed-48bb-e1be-b5b86782b9c2"
      },
      "execution_count": 30,
      "outputs": [
        {
          "output_type": "display_data",
          "data": {
            "text/html": [
              "<html>\n",
              "<head><meta charset=\"utf-8\" /></head>\n",
              "<body>\n",
              "    <div>            <script src=\"https://cdnjs.cloudflare.com/ajax/libs/mathjax/2.7.5/MathJax.js?config=TeX-AMS-MML_SVG\"></script><script type=\"text/javascript\">if (window.MathJax) {MathJax.Hub.Config({SVG: {font: \"STIX-Web\"}});}</script>                <script type=\"text/javascript\">window.PlotlyConfig = {MathJaxConfig: 'local'};</script>\n",
              "        <script src=\"https://cdn.plot.ly/plotly-2.8.3.min.js\"></script>                <div id=\"119b1d8c-fc59-4bd6-be9c-e096d0e12907\" class=\"plotly-graph-div\" style=\"height:525px; width:100%;\"></div>            <script type=\"text/javascript\">                                    window.PLOTLYENV=window.PLOTLYENV || {};                                    if (document.getElementById(\"119b1d8c-fc59-4bd6-be9c-e096d0e12907\")) {                    Plotly.newPlot(                        \"119b1d8c-fc59-4bd6-be9c-e096d0e12907\",                        [{\"hovertemplate\":\"x=%{x}<br>y=%{y}<extra></extra>\",\"legendgroup\":\"\",\"line\":{\"color\":\"#636efa\",\"dash\":\"solid\"},\"marker\":{\"symbol\":\"circle\"},\"mode\":\"lines\",\"name\":\"\",\"orientation\":\"v\",\"showlegend\":false,\"x\":[2,3,4,5,6,7,8,9],\"xaxis\":\"x\",\"y\":[10996.504657887726,6833.55486544304,5400.542303498015,4457.109696177384,3869.2917632049257,3404.5932633192297,3097.671151867697,2692.890070604977],\"yaxis\":\"y\",\"type\":\"scatter\"}],                        {\"template\":{\"data\":{\"bar\":[{\"error_x\":{\"color\":\"#2a3f5f\"},\"error_y\":{\"color\":\"#2a3f5f\"},\"marker\":{\"line\":{\"color\":\"#E5ECF6\",\"width\":0.5},\"pattern\":{\"fillmode\":\"overlay\",\"size\":10,\"solidity\":0.2}},\"type\":\"bar\"}],\"barpolar\":[{\"marker\":{\"line\":{\"color\":\"#E5ECF6\",\"width\":0.5},\"pattern\":{\"fillmode\":\"overlay\",\"size\":10,\"solidity\":0.2}},\"type\":\"barpolar\"}],\"carpet\":[{\"aaxis\":{\"endlinecolor\":\"#2a3f5f\",\"gridcolor\":\"white\",\"linecolor\":\"white\",\"minorgridcolor\":\"white\",\"startlinecolor\":\"#2a3f5f\"},\"baxis\":{\"endlinecolor\":\"#2a3f5f\",\"gridcolor\":\"white\",\"linecolor\":\"white\",\"minorgridcolor\":\"white\",\"startlinecolor\":\"#2a3f5f\"},\"type\":\"carpet\"}],\"choropleth\":[{\"colorbar\":{\"outlinewidth\":0,\"ticks\":\"\"},\"type\":\"choropleth\"}],\"contour\":[{\"colorbar\":{\"outlinewidth\":0,\"ticks\":\"\"},\"colorscale\":[[0.0,\"#0d0887\"],[0.1111111111111111,\"#46039f\"],[0.2222222222222222,\"#7201a8\"],[0.3333333333333333,\"#9c179e\"],[0.4444444444444444,\"#bd3786\"],[0.5555555555555556,\"#d8576b\"],[0.6666666666666666,\"#ed7953\"],[0.7777777777777778,\"#fb9f3a\"],[0.8888888888888888,\"#fdca26\"],[1.0,\"#f0f921\"]],\"type\":\"contour\"}],\"contourcarpet\":[{\"colorbar\":{\"outlinewidth\":0,\"ticks\":\"\"},\"type\":\"contourcarpet\"}],\"heatmap\":[{\"colorbar\":{\"outlinewidth\":0,\"ticks\":\"\"},\"colorscale\":[[0.0,\"#0d0887\"],[0.1111111111111111,\"#46039f\"],[0.2222222222222222,\"#7201a8\"],[0.3333333333333333,\"#9c179e\"],[0.4444444444444444,\"#bd3786\"],[0.5555555555555556,\"#d8576b\"],[0.6666666666666666,\"#ed7953\"],[0.7777777777777778,\"#fb9f3a\"],[0.8888888888888888,\"#fdca26\"],[1.0,\"#f0f921\"]],\"type\":\"heatmap\"}],\"heatmapgl\":[{\"colorbar\":{\"outlinewidth\":0,\"ticks\":\"\"},\"colorscale\":[[0.0,\"#0d0887\"],[0.1111111111111111,\"#46039f\"],[0.2222222222222222,\"#7201a8\"],[0.3333333333333333,\"#9c179e\"],[0.4444444444444444,\"#bd3786\"],[0.5555555555555556,\"#d8576b\"],[0.6666666666666666,\"#ed7953\"],[0.7777777777777778,\"#fb9f3a\"],[0.8888888888888888,\"#fdca26\"],[1.0,\"#f0f921\"]],\"type\":\"heatmapgl\"}],\"histogram\":[{\"marker\":{\"pattern\":{\"fillmode\":\"overlay\",\"size\":10,\"solidity\":0.2}},\"type\":\"histogram\"}],\"histogram2d\":[{\"colorbar\":{\"outlinewidth\":0,\"ticks\":\"\"},\"colorscale\":[[0.0,\"#0d0887\"],[0.1111111111111111,\"#46039f\"],[0.2222222222222222,\"#7201a8\"],[0.3333333333333333,\"#9c179e\"],[0.4444444444444444,\"#bd3786\"],[0.5555555555555556,\"#d8576b\"],[0.6666666666666666,\"#ed7953\"],[0.7777777777777778,\"#fb9f3a\"],[0.8888888888888888,\"#fdca26\"],[1.0,\"#f0f921\"]],\"type\":\"histogram2d\"}],\"histogram2dcontour\":[{\"colorbar\":{\"outlinewidth\":0,\"ticks\":\"\"},\"colorscale\":[[0.0,\"#0d0887\"],[0.1111111111111111,\"#46039f\"],[0.2222222222222222,\"#7201a8\"],[0.3333333333333333,\"#9c179e\"],[0.4444444444444444,\"#bd3786\"],[0.5555555555555556,\"#d8576b\"],[0.6666666666666666,\"#ed7953\"],[0.7777777777777778,\"#fb9f3a\"],[0.8888888888888888,\"#fdca26\"],[1.0,\"#f0f921\"]],\"type\":\"histogram2dcontour\"}],\"mesh3d\":[{\"colorbar\":{\"outlinewidth\":0,\"ticks\":\"\"},\"type\":\"mesh3d\"}],\"parcoords\":[{\"line\":{\"colorbar\":{\"outlinewidth\":0,\"ticks\":\"\"}},\"type\":\"parcoords\"}],\"pie\":[{\"automargin\":true,\"type\":\"pie\"}],\"scatter\":[{\"marker\":{\"colorbar\":{\"outlinewidth\":0,\"ticks\":\"\"}},\"type\":\"scatter\"}],\"scatter3d\":[{\"line\":{\"colorbar\":{\"outlinewidth\":0,\"ticks\":\"\"}},\"marker\":{\"colorbar\":{\"outlinewidth\":0,\"ticks\":\"\"}},\"type\":\"scatter3d\"}],\"scattercarpet\":[{\"marker\":{\"colorbar\":{\"outlinewidth\":0,\"ticks\":\"\"}},\"type\":\"scattercarpet\"}],\"scattergeo\":[{\"marker\":{\"colorbar\":{\"outlinewidth\":0,\"ticks\":\"\"}},\"type\":\"scattergeo\"}],\"scattergl\":[{\"marker\":{\"colorbar\":{\"outlinewidth\":0,\"ticks\":\"\"}},\"type\":\"scattergl\"}],\"scattermapbox\":[{\"marker\":{\"colorbar\":{\"outlinewidth\":0,\"ticks\":\"\"}},\"type\":\"scattermapbox\"}],\"scatterpolar\":[{\"marker\":{\"colorbar\":{\"outlinewidth\":0,\"ticks\":\"\"}},\"type\":\"scatterpolar\"}],\"scatterpolargl\":[{\"marker\":{\"colorbar\":{\"outlinewidth\":0,\"ticks\":\"\"}},\"type\":\"scatterpolargl\"}],\"scatterternary\":[{\"marker\":{\"colorbar\":{\"outlinewidth\":0,\"ticks\":\"\"}},\"type\":\"scatterternary\"}],\"surface\":[{\"colorbar\":{\"outlinewidth\":0,\"ticks\":\"\"},\"colorscale\":[[0.0,\"#0d0887\"],[0.1111111111111111,\"#46039f\"],[0.2222222222222222,\"#7201a8\"],[0.3333333333333333,\"#9c179e\"],[0.4444444444444444,\"#bd3786\"],[0.5555555555555556,\"#d8576b\"],[0.6666666666666666,\"#ed7953\"],[0.7777777777777778,\"#fb9f3a\"],[0.8888888888888888,\"#fdca26\"],[1.0,\"#f0f921\"]],\"type\":\"surface\"}],\"table\":[{\"cells\":{\"fill\":{\"color\":\"#EBF0F8\"},\"line\":{\"color\":\"white\"}},\"header\":{\"fill\":{\"color\":\"#C8D4E3\"},\"line\":{\"color\":\"white\"}},\"type\":\"table\"}]},\"layout\":{\"annotationdefaults\":{\"arrowcolor\":\"#2a3f5f\",\"arrowhead\":0,\"arrowwidth\":1},\"autotypenumbers\":\"strict\",\"coloraxis\":{\"colorbar\":{\"outlinewidth\":0,\"ticks\":\"\"}},\"colorscale\":{\"diverging\":[[0,\"#8e0152\"],[0.1,\"#c51b7d\"],[0.2,\"#de77ae\"],[0.3,\"#f1b6da\"],[0.4,\"#fde0ef\"],[0.5,\"#f7f7f7\"],[0.6,\"#e6f5d0\"],[0.7,\"#b8e186\"],[0.8,\"#7fbc41\"],[0.9,\"#4d9221\"],[1,\"#276419\"]],\"sequential\":[[0.0,\"#0d0887\"],[0.1111111111111111,\"#46039f\"],[0.2222222222222222,\"#7201a8\"],[0.3333333333333333,\"#9c179e\"],[0.4444444444444444,\"#bd3786\"],[0.5555555555555556,\"#d8576b\"],[0.6666666666666666,\"#ed7953\"],[0.7777777777777778,\"#fb9f3a\"],[0.8888888888888888,\"#fdca26\"],[1.0,\"#f0f921\"]],\"sequentialminus\":[[0.0,\"#0d0887\"],[0.1111111111111111,\"#46039f\"],[0.2222222222222222,\"#7201a8\"],[0.3333333333333333,\"#9c179e\"],[0.4444444444444444,\"#bd3786\"],[0.5555555555555556,\"#d8576b\"],[0.6666666666666666,\"#ed7953\"],[0.7777777777777778,\"#fb9f3a\"],[0.8888888888888888,\"#fdca26\"],[1.0,\"#f0f921\"]]},\"colorway\":[\"#636efa\",\"#EF553B\",\"#00cc96\",\"#ab63fa\",\"#FFA15A\",\"#19d3f3\",\"#FF6692\",\"#B6E880\",\"#FF97FF\",\"#FECB52\"],\"font\":{\"color\":\"#2a3f5f\"},\"geo\":{\"bgcolor\":\"white\",\"lakecolor\":\"white\",\"landcolor\":\"#E5ECF6\",\"showlakes\":true,\"showland\":true,\"subunitcolor\":\"white\"},\"hoverlabel\":{\"align\":\"left\"},\"hovermode\":\"closest\",\"mapbox\":{\"style\":\"light\"},\"paper_bgcolor\":\"white\",\"plot_bgcolor\":\"#E5ECF6\",\"polar\":{\"angularaxis\":{\"gridcolor\":\"white\",\"linecolor\":\"white\",\"ticks\":\"\"},\"bgcolor\":\"#E5ECF6\",\"radialaxis\":{\"gridcolor\":\"white\",\"linecolor\":\"white\",\"ticks\":\"\"}},\"scene\":{\"xaxis\":{\"backgroundcolor\":\"#E5ECF6\",\"gridcolor\":\"white\",\"gridwidth\":2,\"linecolor\":\"white\",\"showbackground\":true,\"ticks\":\"\",\"zerolinecolor\":\"white\"},\"yaxis\":{\"backgroundcolor\":\"#E5ECF6\",\"gridcolor\":\"white\",\"gridwidth\":2,\"linecolor\":\"white\",\"showbackground\":true,\"ticks\":\"\",\"zerolinecolor\":\"white\"},\"zaxis\":{\"backgroundcolor\":\"#E5ECF6\",\"gridcolor\":\"white\",\"gridwidth\":2,\"linecolor\":\"white\",\"showbackground\":true,\"ticks\":\"\",\"zerolinecolor\":\"white\"}},\"shapedefaults\":{\"line\":{\"color\":\"#2a3f5f\"}},\"ternary\":{\"aaxis\":{\"gridcolor\":\"white\",\"linecolor\":\"white\",\"ticks\":\"\"},\"baxis\":{\"gridcolor\":\"white\",\"linecolor\":\"white\",\"ticks\":\"\"},\"bgcolor\":\"#E5ECF6\",\"caxis\":{\"gridcolor\":\"white\",\"linecolor\":\"white\",\"ticks\":\"\"}},\"title\":{\"x\":0.05},\"xaxis\":{\"automargin\":true,\"gridcolor\":\"white\",\"linecolor\":\"white\",\"ticks\":\"\",\"title\":{\"standoff\":15},\"zerolinecolor\":\"white\",\"zerolinewidth\":2},\"yaxis\":{\"automargin\":true,\"gridcolor\":\"white\",\"linecolor\":\"white\",\"ticks\":\"\",\"title\":{\"standoff\":15},\"zerolinecolor\":\"white\",\"zerolinewidth\":2}}},\"xaxis\":{\"anchor\":\"y\",\"domain\":[0.0,1.0],\"title\":{\"text\":\"number of clusters\"}},\"yaxis\":{\"anchor\":\"x\",\"domain\":[0.0,1.0],\"title\":{\"text\":\"inertia\"}},\"legend\":{\"tracegroupgap\":0},\"title\":{\"text\":\"Inertia vs Number of Clusters\"}},                        {\"responsive\": true}                    ).then(function(){\n",
              "                            \n",
              "var gd = document.getElementById('119b1d8c-fc59-4bd6-be9c-e096d0e12907');\n",
              "var x = new MutationObserver(function (mutations, observer) {{\n",
              "        var display = window.getComputedStyle(gd).display;\n",
              "        if (!display || display === 'none') {{\n",
              "            console.log([gd, 'removed!']);\n",
              "            Plotly.purge(gd);\n",
              "            observer.disconnect();\n",
              "        }}\n",
              "}});\n",
              "\n",
              "// Listen for the removal of the full notebook cells\n",
              "var notebookContainer = gd.closest('#notebook-container');\n",
              "if (notebookContainer) {{\n",
              "    x.observe(notebookContainer, {childList: true});\n",
              "}}\n",
              "\n",
              "// Listen for the clearing of the current output cell\n",
              "var outputEl = gd.closest('.output');\n",
              "if (outputEl) {{\n",
              "    x.observe(outputEl, {childList: true});\n",
              "}}\n",
              "\n",
              "                        })                };                            </script>        </div>\n",
              "</body>\n",
              "</html>"
            ]
          },
          "metadata": {}
        }
      ]
    },
    {
      "cell_type": "code",
      "source": [
        "# create line plot of inertia error vs n_cluster\n",
        "fig = px.line(x=n_clusters, y=silhouette_scores, title='Silhouette score vs Number of Clusters')\n",
        "fig.update_layout(xaxis_title='number of clusters', yaxis_title='silhouette score')\n",
        "fig.show()"
      ],
      "metadata": {
        "colab": {
          "base_uri": "https://localhost:8080/",
          "height": 542
        },
        "id": "aJKx5JYboj70",
        "outputId": "3ad093af-cda8-4097-8c93-9434ae26dd56"
      },
      "execution_count": 31,
      "outputs": [
        {
          "output_type": "display_data",
          "data": {
            "text/html": [
              "<html>\n",
              "<head><meta charset=\"utf-8\" /></head>\n",
              "<body>\n",
              "    <div>            <script src=\"https://cdnjs.cloudflare.com/ajax/libs/mathjax/2.7.5/MathJax.js?config=TeX-AMS-MML_SVG\"></script><script type=\"text/javascript\">if (window.MathJax) {MathJax.Hub.Config({SVG: {font: \"STIX-Web\"}});}</script>                <script type=\"text/javascript\">window.PlotlyConfig = {MathJaxConfig: 'local'};</script>\n",
              "        <script src=\"https://cdn.plot.ly/plotly-2.8.3.min.js\"></script>                <div id=\"ec6a2be5-53d8-4c10-a91d-1a0ed2f6eca6\" class=\"plotly-graph-div\" style=\"height:525px; width:100%;\"></div>            <script type=\"text/javascript\">                                    window.PLOTLYENV=window.PLOTLYENV || {};                                    if (document.getElementById(\"ec6a2be5-53d8-4c10-a91d-1a0ed2f6eca6\")) {                    Plotly.newPlot(                        \"ec6a2be5-53d8-4c10-a91d-1a0ed2f6eca6\",                        [{\"hovertemplate\":\"x=%{x}<br>y=%{y}<extra></extra>\",\"legendgroup\":\"\",\"line\":{\"color\":\"#636efa\",\"dash\":\"solid\"},\"marker\":{\"symbol\":\"circle\"},\"mode\":\"lines\",\"name\":\"\",\"orientation\":\"v\",\"showlegend\":false,\"x\":[2,3,4,5,6,7,8,9],\"xaxis\":\"x\",\"y\":[0.8599513994176174,0.7017469166030178,0.6949898272370059,0.6901480308448935,0.6449670435594155,0.6362267106513219,0.6339587342848142,0.6424485952015884],\"yaxis\":\"y\",\"type\":\"scatter\"}],                        {\"template\":{\"data\":{\"bar\":[{\"error_x\":{\"color\":\"#2a3f5f\"},\"error_y\":{\"color\":\"#2a3f5f\"},\"marker\":{\"line\":{\"color\":\"#E5ECF6\",\"width\":0.5},\"pattern\":{\"fillmode\":\"overlay\",\"size\":10,\"solidity\":0.2}},\"type\":\"bar\"}],\"barpolar\":[{\"marker\":{\"line\":{\"color\":\"#E5ECF6\",\"width\":0.5},\"pattern\":{\"fillmode\":\"overlay\",\"size\":10,\"solidity\":0.2}},\"type\":\"barpolar\"}],\"carpet\":[{\"aaxis\":{\"endlinecolor\":\"#2a3f5f\",\"gridcolor\":\"white\",\"linecolor\":\"white\",\"minorgridcolor\":\"white\",\"startlinecolor\":\"#2a3f5f\"},\"baxis\":{\"endlinecolor\":\"#2a3f5f\",\"gridcolor\":\"white\",\"linecolor\":\"white\",\"minorgridcolor\":\"white\",\"startlinecolor\":\"#2a3f5f\"},\"type\":\"carpet\"}],\"choropleth\":[{\"colorbar\":{\"outlinewidth\":0,\"ticks\":\"\"},\"type\":\"choropleth\"}],\"contour\":[{\"colorbar\":{\"outlinewidth\":0,\"ticks\":\"\"},\"colorscale\":[[0.0,\"#0d0887\"],[0.1111111111111111,\"#46039f\"],[0.2222222222222222,\"#7201a8\"],[0.3333333333333333,\"#9c179e\"],[0.4444444444444444,\"#bd3786\"],[0.5555555555555556,\"#d8576b\"],[0.6666666666666666,\"#ed7953\"],[0.7777777777777778,\"#fb9f3a\"],[0.8888888888888888,\"#fdca26\"],[1.0,\"#f0f921\"]],\"type\":\"contour\"}],\"contourcarpet\":[{\"colorbar\":{\"outlinewidth\":0,\"ticks\":\"\"},\"type\":\"contourcarpet\"}],\"heatmap\":[{\"colorbar\":{\"outlinewidth\":0,\"ticks\":\"\"},\"colorscale\":[[0.0,\"#0d0887\"],[0.1111111111111111,\"#46039f\"],[0.2222222222222222,\"#7201a8\"],[0.3333333333333333,\"#9c179e\"],[0.4444444444444444,\"#bd3786\"],[0.5555555555555556,\"#d8576b\"],[0.6666666666666666,\"#ed7953\"],[0.7777777777777778,\"#fb9f3a\"],[0.8888888888888888,\"#fdca26\"],[1.0,\"#f0f921\"]],\"type\":\"heatmap\"}],\"heatmapgl\":[{\"colorbar\":{\"outlinewidth\":0,\"ticks\":\"\"},\"colorscale\":[[0.0,\"#0d0887\"],[0.1111111111111111,\"#46039f\"],[0.2222222222222222,\"#7201a8\"],[0.3333333333333333,\"#9c179e\"],[0.4444444444444444,\"#bd3786\"],[0.5555555555555556,\"#d8576b\"],[0.6666666666666666,\"#ed7953\"],[0.7777777777777778,\"#fb9f3a\"],[0.8888888888888888,\"#fdca26\"],[1.0,\"#f0f921\"]],\"type\":\"heatmapgl\"}],\"histogram\":[{\"marker\":{\"pattern\":{\"fillmode\":\"overlay\",\"size\":10,\"solidity\":0.2}},\"type\":\"histogram\"}],\"histogram2d\":[{\"colorbar\":{\"outlinewidth\":0,\"ticks\":\"\"},\"colorscale\":[[0.0,\"#0d0887\"],[0.1111111111111111,\"#46039f\"],[0.2222222222222222,\"#7201a8\"],[0.3333333333333333,\"#9c179e\"],[0.4444444444444444,\"#bd3786\"],[0.5555555555555556,\"#d8576b\"],[0.6666666666666666,\"#ed7953\"],[0.7777777777777778,\"#fb9f3a\"],[0.8888888888888888,\"#fdca26\"],[1.0,\"#f0f921\"]],\"type\":\"histogram2d\"}],\"histogram2dcontour\":[{\"colorbar\":{\"outlinewidth\":0,\"ticks\":\"\"},\"colorscale\":[[0.0,\"#0d0887\"],[0.1111111111111111,\"#46039f\"],[0.2222222222222222,\"#7201a8\"],[0.3333333333333333,\"#9c179e\"],[0.4444444444444444,\"#bd3786\"],[0.5555555555555556,\"#d8576b\"],[0.6666666666666666,\"#ed7953\"],[0.7777777777777778,\"#fb9f3a\"],[0.8888888888888888,\"#fdca26\"],[1.0,\"#f0f921\"]],\"type\":\"histogram2dcontour\"}],\"mesh3d\":[{\"colorbar\":{\"outlinewidth\":0,\"ticks\":\"\"},\"type\":\"mesh3d\"}],\"parcoords\":[{\"line\":{\"colorbar\":{\"outlinewidth\":0,\"ticks\":\"\"}},\"type\":\"parcoords\"}],\"pie\":[{\"automargin\":true,\"type\":\"pie\"}],\"scatter\":[{\"marker\":{\"colorbar\":{\"outlinewidth\":0,\"ticks\":\"\"}},\"type\":\"scatter\"}],\"scatter3d\":[{\"line\":{\"colorbar\":{\"outlinewidth\":0,\"ticks\":\"\"}},\"marker\":{\"colorbar\":{\"outlinewidth\":0,\"ticks\":\"\"}},\"type\":\"scatter3d\"}],\"scattercarpet\":[{\"marker\":{\"colorbar\":{\"outlinewidth\":0,\"ticks\":\"\"}},\"type\":\"scattercarpet\"}],\"scattergeo\":[{\"marker\":{\"colorbar\":{\"outlinewidth\":0,\"ticks\":\"\"}},\"type\":\"scattergeo\"}],\"scattergl\":[{\"marker\":{\"colorbar\":{\"outlinewidth\":0,\"ticks\":\"\"}},\"type\":\"scattergl\"}],\"scattermapbox\":[{\"marker\":{\"colorbar\":{\"outlinewidth\":0,\"ticks\":\"\"}},\"type\":\"scattermapbox\"}],\"scatterpolar\":[{\"marker\":{\"colorbar\":{\"outlinewidth\":0,\"ticks\":\"\"}},\"type\":\"scatterpolar\"}],\"scatterpolargl\":[{\"marker\":{\"colorbar\":{\"outlinewidth\":0,\"ticks\":\"\"}},\"type\":\"scatterpolargl\"}],\"scatterternary\":[{\"marker\":{\"colorbar\":{\"outlinewidth\":0,\"ticks\":\"\"}},\"type\":\"scatterternary\"}],\"surface\":[{\"colorbar\":{\"outlinewidth\":0,\"ticks\":\"\"},\"colorscale\":[[0.0,\"#0d0887\"],[0.1111111111111111,\"#46039f\"],[0.2222222222222222,\"#7201a8\"],[0.3333333333333333,\"#9c179e\"],[0.4444444444444444,\"#bd3786\"],[0.5555555555555556,\"#d8576b\"],[0.6666666666666666,\"#ed7953\"],[0.7777777777777778,\"#fb9f3a\"],[0.8888888888888888,\"#fdca26\"],[1.0,\"#f0f921\"]],\"type\":\"surface\"}],\"table\":[{\"cells\":{\"fill\":{\"color\":\"#EBF0F8\"},\"line\":{\"color\":\"white\"}},\"header\":{\"fill\":{\"color\":\"#C8D4E3\"},\"line\":{\"color\":\"white\"}},\"type\":\"table\"}]},\"layout\":{\"annotationdefaults\":{\"arrowcolor\":\"#2a3f5f\",\"arrowhead\":0,\"arrowwidth\":1},\"autotypenumbers\":\"strict\",\"coloraxis\":{\"colorbar\":{\"outlinewidth\":0,\"ticks\":\"\"}},\"colorscale\":{\"diverging\":[[0,\"#8e0152\"],[0.1,\"#c51b7d\"],[0.2,\"#de77ae\"],[0.3,\"#f1b6da\"],[0.4,\"#fde0ef\"],[0.5,\"#f7f7f7\"],[0.6,\"#e6f5d0\"],[0.7,\"#b8e186\"],[0.8,\"#7fbc41\"],[0.9,\"#4d9221\"],[1,\"#276419\"]],\"sequential\":[[0.0,\"#0d0887\"],[0.1111111111111111,\"#46039f\"],[0.2222222222222222,\"#7201a8\"],[0.3333333333333333,\"#9c179e\"],[0.4444444444444444,\"#bd3786\"],[0.5555555555555556,\"#d8576b\"],[0.6666666666666666,\"#ed7953\"],[0.7777777777777778,\"#fb9f3a\"],[0.8888888888888888,\"#fdca26\"],[1.0,\"#f0f921\"]],\"sequentialminus\":[[0.0,\"#0d0887\"],[0.1111111111111111,\"#46039f\"],[0.2222222222222222,\"#7201a8\"],[0.3333333333333333,\"#9c179e\"],[0.4444444444444444,\"#bd3786\"],[0.5555555555555556,\"#d8576b\"],[0.6666666666666666,\"#ed7953\"],[0.7777777777777778,\"#fb9f3a\"],[0.8888888888888888,\"#fdca26\"],[1.0,\"#f0f921\"]]},\"colorway\":[\"#636efa\",\"#EF553B\",\"#00cc96\",\"#ab63fa\",\"#FFA15A\",\"#19d3f3\",\"#FF6692\",\"#B6E880\",\"#FF97FF\",\"#FECB52\"],\"font\":{\"color\":\"#2a3f5f\"},\"geo\":{\"bgcolor\":\"white\",\"lakecolor\":\"white\",\"landcolor\":\"#E5ECF6\",\"showlakes\":true,\"showland\":true,\"subunitcolor\":\"white\"},\"hoverlabel\":{\"align\":\"left\"},\"hovermode\":\"closest\",\"mapbox\":{\"style\":\"light\"},\"paper_bgcolor\":\"white\",\"plot_bgcolor\":\"#E5ECF6\",\"polar\":{\"angularaxis\":{\"gridcolor\":\"white\",\"linecolor\":\"white\",\"ticks\":\"\"},\"bgcolor\":\"#E5ECF6\",\"radialaxis\":{\"gridcolor\":\"white\",\"linecolor\":\"white\",\"ticks\":\"\"}},\"scene\":{\"xaxis\":{\"backgroundcolor\":\"#E5ECF6\",\"gridcolor\":\"white\",\"gridwidth\":2,\"linecolor\":\"white\",\"showbackground\":true,\"ticks\":\"\",\"zerolinecolor\":\"white\"},\"yaxis\":{\"backgroundcolor\":\"#E5ECF6\",\"gridcolor\":\"white\",\"gridwidth\":2,\"linecolor\":\"white\",\"showbackground\":true,\"ticks\":\"\",\"zerolinecolor\":\"white\"},\"zaxis\":{\"backgroundcolor\":\"#E5ECF6\",\"gridcolor\":\"white\",\"gridwidth\":2,\"linecolor\":\"white\",\"showbackground\":true,\"ticks\":\"\",\"zerolinecolor\":\"white\"}},\"shapedefaults\":{\"line\":{\"color\":\"#2a3f5f\"}},\"ternary\":{\"aaxis\":{\"gridcolor\":\"white\",\"linecolor\":\"white\",\"ticks\":\"\"},\"baxis\":{\"gridcolor\":\"white\",\"linecolor\":\"white\",\"ticks\":\"\"},\"bgcolor\":\"#E5ECF6\",\"caxis\":{\"gridcolor\":\"white\",\"linecolor\":\"white\",\"ticks\":\"\"}},\"title\":{\"x\":0.05},\"xaxis\":{\"automargin\":true,\"gridcolor\":\"white\",\"linecolor\":\"white\",\"ticks\":\"\",\"title\":{\"standoff\":15},\"zerolinecolor\":\"white\",\"zerolinewidth\":2},\"yaxis\":{\"automargin\":true,\"gridcolor\":\"white\",\"linecolor\":\"white\",\"ticks\":\"\",\"title\":{\"standoff\":15},\"zerolinecolor\":\"white\",\"zerolinewidth\":2}}},\"xaxis\":{\"anchor\":\"y\",\"domain\":[0.0,1.0],\"title\":{\"text\":\"number of clusters\"}},\"yaxis\":{\"anchor\":\"x\",\"domain\":[0.0,1.0],\"title\":{\"text\":\"silhouette score\"}},\"legend\":{\"tracegroupgap\":0},\"title\":{\"text\":\"Silhouette score vs Number of Clusters\"}},                        {\"responsive\": true}                    ).then(function(){\n",
              "                            \n",
              "var gd = document.getElementById('ec6a2be5-53d8-4c10-a91d-1a0ed2f6eca6');\n",
              "var x = new MutationObserver(function (mutations, observer) {{\n",
              "        var display = window.getComputedStyle(gd).display;\n",
              "        if (!display || display === 'none') {{\n",
              "            console.log([gd, 'removed!']);\n",
              "            Plotly.purge(gd);\n",
              "            observer.disconnect();\n",
              "        }}\n",
              "}});\n",
              "\n",
              "// Listen for the removal of the full notebook cells\n",
              "var notebookContainer = gd.closest('#notebook-container');\n",
              "if (notebookContainer) {{\n",
              "    x.observe(notebookContainer, {childList: true});\n",
              "}}\n",
              "\n",
              "// Listen for the clearing of the current output cell\n",
              "var outputEl = gd.closest('.output');\n",
              "if (outputEl) {{\n",
              "    x.observe(outputEl, {childList: true});\n",
              "}}\n",
              "\n",
              "                        })                };                            </script>        </div>\n",
              "</body>\n",
              "</html>"
            ]
          },
          "metadata": {}
        }
      ]
    },
    {
      "cell_type": "code",
      "source": [
        "final_model = make_pipeline(StandardScaler(), KMeans(n_clusters=3, random_state=42))\n",
        "final_model.fit(X)"
      ],
      "metadata": {
        "colab": {
          "base_uri": "https://localhost:8080/"
        },
        "id": "vRqeA18Xo0Hu",
        "outputId": "a12017c7-be0d-4126-af5a-3848b66d0179"
      },
      "execution_count": 32,
      "outputs": [
        {
          "output_type": "execute_result",
          "data": {
            "text/plain": [
              "Pipeline(steps=[('standardscaler', StandardScaler()),\n",
              "                ('kmeans', KMeans(n_clusters=3, random_state=42))])"
            ]
          },
          "metadata": {},
          "execution_count": 32
        }
      ]
    },
    {
      "cell_type": "code",
      "source": [
        "labels = final_model[-1].labels_\n",
        "result = X.groupby(labels).mean()\n",
        "result"
      ],
      "metadata": {
        "colab": {
          "base_uri": "https://localhost:8080/",
          "height": 144
        },
        "id": "Szjs4ax5pAsj",
        "outputId": "8f43f558-62f0-48c2-f5f3-e6eb6c3831c3"
      },
      "execution_count": 33,
      "outputs": [
        {
          "output_type": "execute_result",
          "data": {
            "text/plain": [
              "          ASSET          NFIN         HOUSES           DEBT      NETWORTH\n",
              "0  4.876228e+05  3.951333e+05  286674.721190  232326.301115  2.552965e+05\n",
              "1  2.219439e+06  1.728405e+06  816700.000000  540384.400000  1.679055e+06\n",
              "2  4.493165e+04  3.168653e+04   16701.098282   27993.713039  1.693794e+04"
            ],
            "text/html": [
              "\n",
              "  <div id=\"df-9c8413df-9487-4dc0-b9d9-bd64c1fe594b\">\n",
              "    <div class=\"colab-df-container\">\n",
              "      <div>\n",
              "<style scoped>\n",
              "    .dataframe tbody tr th:only-of-type {\n",
              "        vertical-align: middle;\n",
              "    }\n",
              "\n",
              "    .dataframe tbody tr th {\n",
              "        vertical-align: top;\n",
              "    }\n",
              "\n",
              "    .dataframe thead th {\n",
              "        text-align: right;\n",
              "    }\n",
              "</style>\n",
              "<table border=\"1\" class=\"dataframe\">\n",
              "  <thead>\n",
              "    <tr style=\"text-align: right;\">\n",
              "      <th></th>\n",
              "      <th>ASSET</th>\n",
              "      <th>NFIN</th>\n",
              "      <th>HOUSES</th>\n",
              "      <th>DEBT</th>\n",
              "      <th>NETWORTH</th>\n",
              "    </tr>\n",
              "  </thead>\n",
              "  <tbody>\n",
              "    <tr>\n",
              "      <th>0</th>\n",
              "      <td>4.876228e+05</td>\n",
              "      <td>3.951333e+05</td>\n",
              "      <td>286674.721190</td>\n",
              "      <td>232326.301115</td>\n",
              "      <td>2.552965e+05</td>\n",
              "    </tr>\n",
              "    <tr>\n",
              "      <th>1</th>\n",
              "      <td>2.219439e+06</td>\n",
              "      <td>1.728405e+06</td>\n",
              "      <td>816700.000000</td>\n",
              "      <td>540384.400000</td>\n",
              "      <td>1.679055e+06</td>\n",
              "    </tr>\n",
              "    <tr>\n",
              "      <th>2</th>\n",
              "      <td>4.493165e+04</td>\n",
              "      <td>3.168653e+04</td>\n",
              "      <td>16701.098282</td>\n",
              "      <td>27993.713039</td>\n",
              "      <td>1.693794e+04</td>\n",
              "    </tr>\n",
              "  </tbody>\n",
              "</table>\n",
              "</div>\n",
              "      <button class=\"colab-df-convert\" onclick=\"convertToInteractive('df-9c8413df-9487-4dc0-b9d9-bd64c1fe594b')\"\n",
              "              title=\"Convert this dataframe to an interactive table.\"\n",
              "              style=\"display:none;\">\n",
              "        \n",
              "  <svg xmlns=\"http://www.w3.org/2000/svg\" height=\"24px\"viewBox=\"0 0 24 24\"\n",
              "       width=\"24px\">\n",
              "    <path d=\"M0 0h24v24H0V0z\" fill=\"none\"/>\n",
              "    <path d=\"M18.56 5.44l.94 2.06.94-2.06 2.06-.94-2.06-.94-.94-2.06-.94 2.06-2.06.94zm-11 1L8.5 8.5l.94-2.06 2.06-.94-2.06-.94L8.5 2.5l-.94 2.06-2.06.94zm10 10l.94 2.06.94-2.06 2.06-.94-2.06-.94-.94-2.06-.94 2.06-2.06.94z\"/><path d=\"M17.41 7.96l-1.37-1.37c-.4-.4-.92-.59-1.43-.59-.52 0-1.04.2-1.43.59L10.3 9.45l-7.72 7.72c-.78.78-.78 2.05 0 2.83L4 21.41c.39.39.9.59 1.41.59.51 0 1.02-.2 1.41-.59l7.78-7.78 2.81-2.81c.8-.78.8-2.07 0-2.86zM5.41 20L4 18.59l7.72-7.72 1.47 1.35L5.41 20z\"/>\n",
              "  </svg>\n",
              "      </button>\n",
              "      \n",
              "  <style>\n",
              "    .colab-df-container {\n",
              "      display:flex;\n",
              "      flex-wrap:wrap;\n",
              "      gap: 12px;\n",
              "    }\n",
              "\n",
              "    .colab-df-convert {\n",
              "      background-color: #E8F0FE;\n",
              "      border: none;\n",
              "      border-radius: 50%;\n",
              "      cursor: pointer;\n",
              "      display: none;\n",
              "      fill: #1967D2;\n",
              "      height: 32px;\n",
              "      padding: 0 0 0 0;\n",
              "      width: 32px;\n",
              "    }\n",
              "\n",
              "    .colab-df-convert:hover {\n",
              "      background-color: #E2EBFA;\n",
              "      box-shadow: 0px 1px 2px rgba(60, 64, 67, 0.3), 0px 1px 3px 1px rgba(60, 64, 67, 0.15);\n",
              "      fill: #174EA6;\n",
              "    }\n",
              "\n",
              "    [theme=dark] .colab-df-convert {\n",
              "      background-color: #3B4455;\n",
              "      fill: #D2E3FC;\n",
              "    }\n",
              "\n",
              "    [theme=dark] .colab-df-convert:hover {\n",
              "      background-color: #434B5C;\n",
              "      box-shadow: 0px 1px 3px 1px rgba(0, 0, 0, 0.15);\n",
              "      filter: drop-shadow(0px 1px 2px rgba(0, 0, 0, 0.3));\n",
              "      fill: #FFFFFF;\n",
              "    }\n",
              "  </style>\n",
              "\n",
              "      <script>\n",
              "        const buttonEl =\n",
              "          document.querySelector('#df-9c8413df-9487-4dc0-b9d9-bd64c1fe594b button.colab-df-convert');\n",
              "        buttonEl.style.display =\n",
              "          google.colab.kernel.accessAllowed ? 'block' : 'none';\n",
              "\n",
              "        async function convertToInteractive(key) {\n",
              "          const element = document.querySelector('#df-9c8413df-9487-4dc0-b9d9-bd64c1fe594b');\n",
              "          const dataTable =\n",
              "            await google.colab.kernel.invokeFunction('convertToInteractive',\n",
              "                                                     [key], {});\n",
              "          if (!dataTable) return;\n",
              "\n",
              "          const docLinkHtml = 'Like what you see? Visit the ' +\n",
              "            '<a target=\"_blank\" href=https://colab.research.google.com/notebooks/data_table.ipynb>data table notebook</a>'\n",
              "            + ' to learn more about interactive tables.';\n",
              "          element.innerHTML = '';\n",
              "          dataTable['output_type'] = 'display_data';\n",
              "          await google.colab.output.renderOutput(dataTable, element);\n",
              "          const docLink = document.createElement('div');\n",
              "          docLink.innerHTML = docLinkHtml;\n",
              "          element.appendChild(docLink);\n",
              "        }\n",
              "      </script>\n",
              "    </div>\n",
              "  </div>\n",
              "  "
            ]
          },
          "metadata": {},
          "execution_count": 33
        }
      ]
    },
    {
      "cell_type": "code",
      "source": [
        "fig = px.bar(result, barmode='group')\n",
        "fig.show()"
      ],
      "metadata": {
        "colab": {
          "base_uri": "https://localhost:8080/",
          "height": 542
        },
        "id": "b6MS0MZZpTGK",
        "outputId": "eb421172-0444-4d66-bfa0-44314fee2620"
      },
      "execution_count": 34,
      "outputs": [
        {
          "output_type": "display_data",
          "data": {
            "text/html": [
              "<html>\n",
              "<head><meta charset=\"utf-8\" /></head>\n",
              "<body>\n",
              "    <div>            <script src=\"https://cdnjs.cloudflare.com/ajax/libs/mathjax/2.7.5/MathJax.js?config=TeX-AMS-MML_SVG\"></script><script type=\"text/javascript\">if (window.MathJax) {MathJax.Hub.Config({SVG: {font: \"STIX-Web\"}});}</script>                <script type=\"text/javascript\">window.PlotlyConfig = {MathJaxConfig: 'local'};</script>\n",
              "        <script src=\"https://cdn.plot.ly/plotly-2.8.3.min.js\"></script>                <div id=\"54800f6b-8cea-4fd2-bd27-02b148e555bf\" class=\"plotly-graph-div\" style=\"height:525px; width:100%;\"></div>            <script type=\"text/javascript\">                                    window.PLOTLYENV=window.PLOTLYENV || {};                                    if (document.getElementById(\"54800f6b-8cea-4fd2-bd27-02b148e555bf\")) {                    Plotly.newPlot(                        \"54800f6b-8cea-4fd2-bd27-02b148e555bf\",                        [{\"alignmentgroup\":\"True\",\"hovertemplate\":\"variable=ASSET<br>index=%{x}<br>value=%{y}<extra></extra>\",\"legendgroup\":\"ASSET\",\"marker\":{\"color\":\"#636efa\",\"pattern\":{\"shape\":\"\"}},\"name\":\"ASSET\",\"offsetgroup\":\"ASSET\",\"orientation\":\"v\",\"showlegend\":true,\"textposition\":\"auto\",\"x\":[0,1,2],\"xaxis\":\"x\",\"y\":[487622.8351920694,2219439.3,44931.6544635314],\"yaxis\":\"y\",\"type\":\"bar\"},{\"alignmentgroup\":\"True\",\"hovertemplate\":\"variable=NFIN<br>index=%{x}<br>value=%{y}<extra></extra>\",\"legendgroup\":\"NFIN\",\"marker\":{\"color\":\"#EF553B\",\"pattern\":{\"shape\":\"\"}},\"name\":\"NFIN\",\"offsetgroup\":\"NFIN\",\"orientation\":\"v\",\"showlegend\":true,\"textposition\":\"auto\",\"x\":[0,1,2],\"xaxis\":\"x\",\"y\":[395133.3271375465,1728405.0,31686.527738665165],\"yaxis\":\"y\",\"type\":\"bar\"},{\"alignmentgroup\":\"True\",\"hovertemplate\":\"variable=HOUSES<br>index=%{x}<br>value=%{y}<extra></extra>\",\"legendgroup\":\"HOUSES\",\"marker\":{\"color\":\"#00cc96\",\"pattern\":{\"shape\":\"\"}},\"name\":\"HOUSES\",\"offsetgroup\":\"HOUSES\",\"orientation\":\"v\",\"showlegend\":true,\"textposition\":\"auto\",\"x\":[0,1,2],\"xaxis\":\"x\",\"y\":[286674.7211895911,816700.0,16701.098282174036],\"yaxis\":\"y\",\"type\":\"bar\"},{\"alignmentgroup\":\"True\",\"hovertemplate\":\"variable=DEBT<br>index=%{x}<br>value=%{y}<extra></extra>\",\"legendgroup\":\"DEBT\",\"marker\":{\"color\":\"#ab63fa\",\"pattern\":{\"shape\":\"\"}},\"name\":\"DEBT\",\"offsetgroup\":\"DEBT\",\"orientation\":\"v\",\"showlegend\":true,\"textposition\":\"auto\",\"x\":[0,1,2],\"xaxis\":\"x\",\"y\":[232326.30111524163,540384.4,27993.71303858068],\"yaxis\":\"y\",\"type\":\"bar\"},{\"alignmentgroup\":\"True\",\"hovertemplate\":\"variable=NETWORTH<br>index=%{x}<br>value=%{y}<extra></extra>\",\"legendgroup\":\"NETWORTH\",\"marker\":{\"color\":\"#FFA15A\",\"pattern\":{\"shape\":\"\"}},\"name\":\"NETWORTH\",\"offsetgroup\":\"NETWORTH\",\"orientation\":\"v\",\"showlegend\":true,\"textposition\":\"auto\",\"x\":[0,1,2],\"xaxis\":\"x\",\"y\":[255296.53407682775,1679054.9,16937.941424950717],\"yaxis\":\"y\",\"type\":\"bar\"}],                        {\"template\":{\"data\":{\"bar\":[{\"error_x\":{\"color\":\"#2a3f5f\"},\"error_y\":{\"color\":\"#2a3f5f\"},\"marker\":{\"line\":{\"color\":\"#E5ECF6\",\"width\":0.5},\"pattern\":{\"fillmode\":\"overlay\",\"size\":10,\"solidity\":0.2}},\"type\":\"bar\"}],\"barpolar\":[{\"marker\":{\"line\":{\"color\":\"#E5ECF6\",\"width\":0.5},\"pattern\":{\"fillmode\":\"overlay\",\"size\":10,\"solidity\":0.2}},\"type\":\"barpolar\"}],\"carpet\":[{\"aaxis\":{\"endlinecolor\":\"#2a3f5f\",\"gridcolor\":\"white\",\"linecolor\":\"white\",\"minorgridcolor\":\"white\",\"startlinecolor\":\"#2a3f5f\"},\"baxis\":{\"endlinecolor\":\"#2a3f5f\",\"gridcolor\":\"white\",\"linecolor\":\"white\",\"minorgridcolor\":\"white\",\"startlinecolor\":\"#2a3f5f\"},\"type\":\"carpet\"}],\"choropleth\":[{\"colorbar\":{\"outlinewidth\":0,\"ticks\":\"\"},\"type\":\"choropleth\"}],\"contour\":[{\"colorbar\":{\"outlinewidth\":0,\"ticks\":\"\"},\"colorscale\":[[0.0,\"#0d0887\"],[0.1111111111111111,\"#46039f\"],[0.2222222222222222,\"#7201a8\"],[0.3333333333333333,\"#9c179e\"],[0.4444444444444444,\"#bd3786\"],[0.5555555555555556,\"#d8576b\"],[0.6666666666666666,\"#ed7953\"],[0.7777777777777778,\"#fb9f3a\"],[0.8888888888888888,\"#fdca26\"],[1.0,\"#f0f921\"]],\"type\":\"contour\"}],\"contourcarpet\":[{\"colorbar\":{\"outlinewidth\":0,\"ticks\":\"\"},\"type\":\"contourcarpet\"}],\"heatmap\":[{\"colorbar\":{\"outlinewidth\":0,\"ticks\":\"\"},\"colorscale\":[[0.0,\"#0d0887\"],[0.1111111111111111,\"#46039f\"],[0.2222222222222222,\"#7201a8\"],[0.3333333333333333,\"#9c179e\"],[0.4444444444444444,\"#bd3786\"],[0.5555555555555556,\"#d8576b\"],[0.6666666666666666,\"#ed7953\"],[0.7777777777777778,\"#fb9f3a\"],[0.8888888888888888,\"#fdca26\"],[1.0,\"#f0f921\"]],\"type\":\"heatmap\"}],\"heatmapgl\":[{\"colorbar\":{\"outlinewidth\":0,\"ticks\":\"\"},\"colorscale\":[[0.0,\"#0d0887\"],[0.1111111111111111,\"#46039f\"],[0.2222222222222222,\"#7201a8\"],[0.3333333333333333,\"#9c179e\"],[0.4444444444444444,\"#bd3786\"],[0.5555555555555556,\"#d8576b\"],[0.6666666666666666,\"#ed7953\"],[0.7777777777777778,\"#fb9f3a\"],[0.8888888888888888,\"#fdca26\"],[1.0,\"#f0f921\"]],\"type\":\"heatmapgl\"}],\"histogram\":[{\"marker\":{\"pattern\":{\"fillmode\":\"overlay\",\"size\":10,\"solidity\":0.2}},\"type\":\"histogram\"}],\"histogram2d\":[{\"colorbar\":{\"outlinewidth\":0,\"ticks\":\"\"},\"colorscale\":[[0.0,\"#0d0887\"],[0.1111111111111111,\"#46039f\"],[0.2222222222222222,\"#7201a8\"],[0.3333333333333333,\"#9c179e\"],[0.4444444444444444,\"#bd3786\"],[0.5555555555555556,\"#d8576b\"],[0.6666666666666666,\"#ed7953\"],[0.7777777777777778,\"#fb9f3a\"],[0.8888888888888888,\"#fdca26\"],[1.0,\"#f0f921\"]],\"type\":\"histogram2d\"}],\"histogram2dcontour\":[{\"colorbar\":{\"outlinewidth\":0,\"ticks\":\"\"},\"colorscale\":[[0.0,\"#0d0887\"],[0.1111111111111111,\"#46039f\"],[0.2222222222222222,\"#7201a8\"],[0.3333333333333333,\"#9c179e\"],[0.4444444444444444,\"#bd3786\"],[0.5555555555555556,\"#d8576b\"],[0.6666666666666666,\"#ed7953\"],[0.7777777777777778,\"#fb9f3a\"],[0.8888888888888888,\"#fdca26\"],[1.0,\"#f0f921\"]],\"type\":\"histogram2dcontour\"}],\"mesh3d\":[{\"colorbar\":{\"outlinewidth\":0,\"ticks\":\"\"},\"type\":\"mesh3d\"}],\"parcoords\":[{\"line\":{\"colorbar\":{\"outlinewidth\":0,\"ticks\":\"\"}},\"type\":\"parcoords\"}],\"pie\":[{\"automargin\":true,\"type\":\"pie\"}],\"scatter\":[{\"marker\":{\"colorbar\":{\"outlinewidth\":0,\"ticks\":\"\"}},\"type\":\"scatter\"}],\"scatter3d\":[{\"line\":{\"colorbar\":{\"outlinewidth\":0,\"ticks\":\"\"}},\"marker\":{\"colorbar\":{\"outlinewidth\":0,\"ticks\":\"\"}},\"type\":\"scatter3d\"}],\"scattercarpet\":[{\"marker\":{\"colorbar\":{\"outlinewidth\":0,\"ticks\":\"\"}},\"type\":\"scattercarpet\"}],\"scattergeo\":[{\"marker\":{\"colorbar\":{\"outlinewidth\":0,\"ticks\":\"\"}},\"type\":\"scattergeo\"}],\"scattergl\":[{\"marker\":{\"colorbar\":{\"outlinewidth\":0,\"ticks\":\"\"}},\"type\":\"scattergl\"}],\"scattermapbox\":[{\"marker\":{\"colorbar\":{\"outlinewidth\":0,\"ticks\":\"\"}},\"type\":\"scattermapbox\"}],\"scatterpolar\":[{\"marker\":{\"colorbar\":{\"outlinewidth\":0,\"ticks\":\"\"}},\"type\":\"scatterpolar\"}],\"scatterpolargl\":[{\"marker\":{\"colorbar\":{\"outlinewidth\":0,\"ticks\":\"\"}},\"type\":\"scatterpolargl\"}],\"scatterternary\":[{\"marker\":{\"colorbar\":{\"outlinewidth\":0,\"ticks\":\"\"}},\"type\":\"scatterternary\"}],\"surface\":[{\"colorbar\":{\"outlinewidth\":0,\"ticks\":\"\"},\"colorscale\":[[0.0,\"#0d0887\"],[0.1111111111111111,\"#46039f\"],[0.2222222222222222,\"#7201a8\"],[0.3333333333333333,\"#9c179e\"],[0.4444444444444444,\"#bd3786\"],[0.5555555555555556,\"#d8576b\"],[0.6666666666666666,\"#ed7953\"],[0.7777777777777778,\"#fb9f3a\"],[0.8888888888888888,\"#fdca26\"],[1.0,\"#f0f921\"]],\"type\":\"surface\"}],\"table\":[{\"cells\":{\"fill\":{\"color\":\"#EBF0F8\"},\"line\":{\"color\":\"white\"}},\"header\":{\"fill\":{\"color\":\"#C8D4E3\"},\"line\":{\"color\":\"white\"}},\"type\":\"table\"}]},\"layout\":{\"annotationdefaults\":{\"arrowcolor\":\"#2a3f5f\",\"arrowhead\":0,\"arrowwidth\":1},\"autotypenumbers\":\"strict\",\"coloraxis\":{\"colorbar\":{\"outlinewidth\":0,\"ticks\":\"\"}},\"colorscale\":{\"diverging\":[[0,\"#8e0152\"],[0.1,\"#c51b7d\"],[0.2,\"#de77ae\"],[0.3,\"#f1b6da\"],[0.4,\"#fde0ef\"],[0.5,\"#f7f7f7\"],[0.6,\"#e6f5d0\"],[0.7,\"#b8e186\"],[0.8,\"#7fbc41\"],[0.9,\"#4d9221\"],[1,\"#276419\"]],\"sequential\":[[0.0,\"#0d0887\"],[0.1111111111111111,\"#46039f\"],[0.2222222222222222,\"#7201a8\"],[0.3333333333333333,\"#9c179e\"],[0.4444444444444444,\"#bd3786\"],[0.5555555555555556,\"#d8576b\"],[0.6666666666666666,\"#ed7953\"],[0.7777777777777778,\"#fb9f3a\"],[0.8888888888888888,\"#fdca26\"],[1.0,\"#f0f921\"]],\"sequentialminus\":[[0.0,\"#0d0887\"],[0.1111111111111111,\"#46039f\"],[0.2222222222222222,\"#7201a8\"],[0.3333333333333333,\"#9c179e\"],[0.4444444444444444,\"#bd3786\"],[0.5555555555555556,\"#d8576b\"],[0.6666666666666666,\"#ed7953\"],[0.7777777777777778,\"#fb9f3a\"],[0.8888888888888888,\"#fdca26\"],[1.0,\"#f0f921\"]]},\"colorway\":[\"#636efa\",\"#EF553B\",\"#00cc96\",\"#ab63fa\",\"#FFA15A\",\"#19d3f3\",\"#FF6692\",\"#B6E880\",\"#FF97FF\",\"#FECB52\"],\"font\":{\"color\":\"#2a3f5f\"},\"geo\":{\"bgcolor\":\"white\",\"lakecolor\":\"white\",\"landcolor\":\"#E5ECF6\",\"showlakes\":true,\"showland\":true,\"subunitcolor\":\"white\"},\"hoverlabel\":{\"align\":\"left\"},\"hovermode\":\"closest\",\"mapbox\":{\"style\":\"light\"},\"paper_bgcolor\":\"white\",\"plot_bgcolor\":\"#E5ECF6\",\"polar\":{\"angularaxis\":{\"gridcolor\":\"white\",\"linecolor\":\"white\",\"ticks\":\"\"},\"bgcolor\":\"#E5ECF6\",\"radialaxis\":{\"gridcolor\":\"white\",\"linecolor\":\"white\",\"ticks\":\"\"}},\"scene\":{\"xaxis\":{\"backgroundcolor\":\"#E5ECF6\",\"gridcolor\":\"white\",\"gridwidth\":2,\"linecolor\":\"white\",\"showbackground\":true,\"ticks\":\"\",\"zerolinecolor\":\"white\"},\"yaxis\":{\"backgroundcolor\":\"#E5ECF6\",\"gridcolor\":\"white\",\"gridwidth\":2,\"linecolor\":\"white\",\"showbackground\":true,\"ticks\":\"\",\"zerolinecolor\":\"white\"},\"zaxis\":{\"backgroundcolor\":\"#E5ECF6\",\"gridcolor\":\"white\",\"gridwidth\":2,\"linecolor\":\"white\",\"showbackground\":true,\"ticks\":\"\",\"zerolinecolor\":\"white\"}},\"shapedefaults\":{\"line\":{\"color\":\"#2a3f5f\"}},\"ternary\":{\"aaxis\":{\"gridcolor\":\"white\",\"linecolor\":\"white\",\"ticks\":\"\"},\"baxis\":{\"gridcolor\":\"white\",\"linecolor\":\"white\",\"ticks\":\"\"},\"bgcolor\":\"#E5ECF6\",\"caxis\":{\"gridcolor\":\"white\",\"linecolor\":\"white\",\"ticks\":\"\"}},\"title\":{\"x\":0.05},\"xaxis\":{\"automargin\":true,\"gridcolor\":\"white\",\"linecolor\":\"white\",\"ticks\":\"\",\"title\":{\"standoff\":15},\"zerolinecolor\":\"white\",\"zerolinewidth\":2},\"yaxis\":{\"automargin\":true,\"gridcolor\":\"white\",\"linecolor\":\"white\",\"ticks\":\"\",\"title\":{\"standoff\":15},\"zerolinecolor\":\"white\",\"zerolinewidth\":2}}},\"xaxis\":{\"anchor\":\"y\",\"domain\":[0.0,1.0],\"title\":{\"text\":\"index\"}},\"yaxis\":{\"anchor\":\"x\",\"domain\":[0.0,1.0],\"title\":{\"text\":\"value\"}},\"legend\":{\"title\":{\"text\":\"variable\"},\"tracegroupgap\":0},\"margin\":{\"t\":60},\"barmode\":\"group\"},                        {\"responsive\": true}                    ).then(function(){\n",
              "                            \n",
              "var gd = document.getElementById('54800f6b-8cea-4fd2-bd27-02b148e555bf');\n",
              "var x = new MutationObserver(function (mutations, observer) {{\n",
              "        var display = window.getComputedStyle(gd).display;\n",
              "        if (!display || display === 'none') {{\n",
              "            console.log([gd, 'removed!']);\n",
              "            Plotly.purge(gd);\n",
              "            observer.disconnect();\n",
              "        }}\n",
              "}});\n",
              "\n",
              "// Listen for the removal of the full notebook cells\n",
              "var notebookContainer = gd.closest('#notebook-container');\n",
              "if (notebookContainer) {{\n",
              "    x.observe(notebookContainer, {childList: true});\n",
              "}}\n",
              "\n",
              "// Listen for the clearing of the current output cell\n",
              "var outputEl = gd.closest('.output');\n",
              "if (outputEl) {{\n",
              "    x.observe(outputEl, {childList: true});\n",
              "}}\n",
              "\n",
              "                        })                };                            </script>        </div>\n",
              "</body>\n",
              "</html>"
            ]
          },
          "metadata": {}
        }
      ]
    },
    {
      "cell_type": "code",
      "source": [
        "pca = PCA(n_components=2)\n",
        "X_pca = pca.fit_transform(X_scaled)\n",
        "X_pca = pd.DataFrame(X_pca, columns=['PC1', 'PC2'])\n",
        "\n",
        "fig = px.scatter(data_frame=X_pca,\n",
        "                 x='PC1',\n",
        "                 y='PC2',\n",
        "                 color=labels.astype(str),\n",
        "                 title='PCA representation')\n",
        "\n",
        "fig.show()"
      ],
      "metadata": {
        "colab": {
          "base_uri": "https://localhost:8080/",
          "height": 542
        },
        "id": "w2rcKErhpeXH",
        "outputId": "47371404-3b46-4ddb-a0fb-f96fa155bedb"
      },
      "execution_count": 35,
      "outputs": [
        {
          "output_type": "display_data",
          "data": {
            "text/html": [
              "<html>\n",
              "<head><meta charset=\"utf-8\" /></head>\n",
              "<body>\n",
              "    <div>            <script src=\"https://cdnjs.cloudflare.com/ajax/libs/mathjax/2.7.5/MathJax.js?config=TeX-AMS-MML_SVG\"></script><script type=\"text/javascript\">if (window.MathJax) {MathJax.Hub.Config({SVG: {font: \"STIX-Web\"}});}</script>                <script type=\"text/javascript\">window.PlotlyConfig = {MathJaxConfig: 'local'};</script>\n",
              "        <script src=\"https://cdn.plot.ly/plotly-2.8.3.min.js\"></script>                <div id=\"d49f14e6-ea69-4eca-9ad0-ae187a2994a0\" class=\"plotly-graph-div\" style=\"height:525px; width:100%;\"></div>            <script type=\"text/javascript\">                                    window.PLOTLYENV=window.PLOTLYENV || {};                                    if (document.getElementById(\"d49f14e6-ea69-4eca-9ad0-ae187a2994a0\")) {                    Plotly.newPlot(                        \"d49f14e6-ea69-4eca-9ad0-ae187a2994a0\",                        [{\"hovertemplate\":\"color=2<br>PC1=%{x}<br>PC2=%{y}<extra></extra>\",\"legendgroup\":\"2\",\"marker\":{\"color\":\"#636efa\",\"symbol\":\"circle\"},\"mode\":\"markers\",\"name\":\"2\",\"showlegend\":true,\"x\":[-0.9223792044053332,-0.9118336429493515,-0.9115658542593242,-0.8945231695303908,-0.9009582892014185,-0.9258212219881986,-0.9321142546412888,-0.943861248927057,-0.9388268228045848,-0.9350510032127309,-0.6511417676560176,-0.6545516353277885,-0.6529138269641493,-0.6545251355019127,-0.6553371227580778,-0.9162207135983857,-0.9162207135983857,-0.9213081393726098,-0.9285947802975583,-0.9059571687677067,0.1444112816368291,0.14439936390655353,0.1443861139936155,0.14439936390655353,0.1401907588915554,-0.3817200265293692,-0.3831192444060375,-0.36196616391920805,-0.357747418710166,-0.3776435150482765,-0.7850012284106127,-0.7838094553830554,-0.7891965835126726,-0.7891965835126726,-0.7838094553830554,-0.8827996128259677,-0.8827996128259677,-0.8827996128259677,-0.8827466131742155,-0.8827996128259677,-0.8441156508834274,-0.8478914704752815,-0.8441156508834274,-0.8478914704752815,-0.8436961153732213,0.1871574718307618,0.20260687031646504,0.18697197304962995,0.18929949602290727,0.19175652380290883,-0.8204702175215771,-0.8204702175215771,-0.8204702175215771,-0.8204702175215771,-0.8204702175215771,-0.5519314362030306,-0.5698730862646386,-0.5686616108684985,-0.5001161418589026,-0.5677302694943129,-0.9410218466484822,-0.9414413821586882,-0.9414413821586882,-0.9414413821586882,-0.9414413821586882,0.05632411010094317,0.05751588312850033,0.05215525482475906,0.05635060992681915,0.05635060992681915,0.18868792811890334,0.18656794204882404,0.18683294030758396,0.1896374601466292,0.19001291941270293,-0.9110223489434034,-0.9177349171066995,-0.9058687455181754,-0.8992753546576352,-0.9080856003719613,-0.47491776835995825,-0.47491776835995825,-0.47491776835995825,-0.47491776835995825,-0.47491776835995825,-0.9546932526670633,-0.9409997805804313,-0.9515946427954146,-0.9409878628501558,-0.95420196136044,-0.3111195173941453,-0.4092885022593888,-0.29148572042109655,-0.3242087153761778,-0.39619930427735633,-0.33619167335292804,-0.6049165606147152,-0.1775678924183219,-0.6798998777137159,-0.49414521733129174,-0.8908970277910121,-0.8913737370020353,-0.8919696235158137,-0.8901952138874158,-0.8906364193223758,-0.8821072218946711,-0.8814447262477713,-0.8820542222429191,-0.8814977258995235,-0.8818422236359111,-0.5142142373323246,-0.9549250038902116,-0.4646911752679521,-0.8143420597828318,-0.8173870753946564,-0.7086867828644204,-0.6546580996070832,-0.7081302865210246,-0.719074714607809,-0.681184425308951,-0.9331611329618819,-0.9331611329618819,-0.9331611329618819,-0.9327415974516761,-0.9327415974516761,-0.8385045643404441,-0.838350027088998,-0.8416845434455631,-0.8425899992291567,-0.8410000096765972,-0.9551622078767432,-0.9573086937726986,-0.9503392395673128,-0.9564341995187909,-0.9573086937726986,-0.8879435564489515,-0.8879435564489515,-0.8879435564489515,-0.8879435564489515,-0.8879435564489515,-0.9106310483342952,-0.9106575481601712,-0.9106310483342952,-0.9106310483342952,-0.9106575481601712,-0.9044999487415104,-0.9044999487415104,-0.9086953038435706,-0.9044999487415104,-0.9044999487415104,-0.9310430339054068,-0.9356579245176729,-0.939433744109527,-0.9356579245176729,-0.9247500012523168,-0.05887291514813872,-0.05876691584463474,-0.058899414974014706,-0.05871391619288276,-0.05966344822060862,-0.9554007063096271,-0.9554007063096271,-0.955427206135503,-0.9554007063096271,-0.955427206135503,-0.9240259192640603,-0.9240259192640603,-0.9240259192640603,-0.9240259192640603,-0.9240259192640603,0.14553731572609682,0.14931313531795093,0.14092242511383074,0.14553731572609682,0.14973267082815694,-0.8226402724843334,-0.8152921152754541,-0.8271633600954744,-0.8287268498221578,-0.8306289254580275,-0.756623899836233,-0.7608192549382934,-0.7608192549382934,-0.7620110279658506,-0.7596274819107363,-0.9551887077026191,-0.9551887077026191,-0.9551887077026191,-0.9551887077026191,-0.9551887077026191,-0.5756271928232516,-0.5752076573130457,-0.5752076573130457,-0.5756271928232516,-0.5752076573130457,-0.876696492330216,-0.8771160278404219,-0.876696492330216,-0.875924254812865,-0.8771160278404219,-0.8069496885439288,-0.8072941862803168,-0.8073736857579448,-0.8073869356708829,-0.8073206861061929,-0.811245771112084,-0.7306949531525305,-0.8011769188671399,-0.7894299245813716,-0.7869127115201354,-0.32449782018161655,-0.39206516608083064,-0.33259172410845717,-0.23449424562486695,-0.2913934578577171,-0.9074397592950298,-0.9070202237848237,-0.9058284507572666,-0.9070202237848237,-0.9058284507572666,0.8855574623211564,0.9032619149312465,0.9110520525478386,0.9069272735157868,0.8775597878013661,0.34065186934516034,0.33645651424310025,0.34065186934516034,0.3402323338349542,0.34065186934516034,-0.7352763518431394,-0.7364681248706965,-0.7352763518431394,-0.7356605274046549,-0.7310809967410793,-0.9093307280272898,-0.9090922295944055,-0.909925641926837,-0.9094102275049175,-0.9092631462799372,-0.9266141659486249,-0.9263996468036645,-0.9266022482183489,-0.9268167673633093,-0.9272219701926789,-0.9417501862645974,-0.9417501862645974,-0.9413306507543914,-0.9413306507543914,-0.9413306507543914,-0.9574676927279545,-0.9574809426408922,-0.9574809426408922,-0.9574809426408922,-0.9574676927279545,-0.9339755792942188,-0.9339755792942188,-0.9339755792942188,-0.9339755792942188,-0.9339755792942188,-0.5476682285025603,-0.517540423001064,-0.5506837283073387,-0.5632578758832433,-0.5469079087154846,-0.14461863279498996,-0.22740534910056423,-0.21704866753701246,-0.15116000881776023,-0.11033741372180698,-0.9564341995187909,-0.9564341995187909,-0.9564341995187909,-0.9564341995187909,-0.9564341995187909,-0.9357460770059374,-0.9399414321079975,-0.9361656125161434,-0.9378437545569676,-0.9252576892507872,-0.9171514376891249,-0.9171514376891249,-0.9184764289829244,-0.915561448136565,-0.915561448136565,-0.902801670139971,-0.9195830905482111,-0.9195830905482111,-0.910772844833885,-0.9019625991195588,-0.8970744122329515,-0.8974674479172814,-0.8972200893615833,-0.8972200893615833,-0.8974674479172814,-0.9169078619550395,-0.9169078619550395,-0.9169078619550395,-0.9169078619550395,-0.9169078619550395,-0.8169479786141888,-0.8169479786141888,-0.8169479786141888,-0.8169479786141888,-0.8173675141243946,-0.9487542839727902,-0.9487542839727902,-0.9487542839727902,-0.9487542839727902,-0.9487542839727902,0.27384397745122435,0.2726522044236672,0.2726522044236672,0.271813133403255,0.27342444194101834,-0.3406878769902003,-0.3406878769902003,-0.3406878769902003,-0.3406878769902003,-0.3406878769902003,-0.8023489259641413,-0.802428353528083,-0.8024667710842345,-0.7983215996541667,-0.8008789047648862,-0.8872112142783536,-0.9089740611573139,-0.8906601758368812,-0.8943829957769834,-0.9081879897886538,-0.8863855740321311,-0.8878688451443241,-0.8878953449702004,-0.8877893456666963,-0.8853527999598297,0.14232740267554927,0.14232740267554927,0.14232740267554927,0.1423539025014253,0.1423539025014253,-0.9432988404183118,-0.9385647725032897,-0.9365981899852912,-0.9448697228866556,-0.9419329743152135,-0.9377733735915604,-0.9377733735915604,-0.9377733735915604,-0.9373538380813545,-0.9373538380813545,-0.9304849209453899,-0.9304849209453899,-0.930511420771266,-0.9304849209453899,-0.930511420771266,-0.6374752095847738,-0.9102811565535678,-0.8861279742874096,-0.8854837318930425,-0.82969185741491,-0.9470058047986802,-0.9470058047986802,-0.9470058047986802,-0.9461667337782682,-0.9465862692884742,-0.7545325456338455,-0.7533407726062884,-0.7533407726062884,-0.7575361277083484,-0.7587279007359057,-0.8675498646403914,-0.8717452197424517,-0.8705534467148943,-0.8705534467148943,-0.8717452197424517,-0.6238495718474533,-0.6085049624225878,-0.6147618354475579,-0.6206012751404572,-0.5625944109054384,-0.9019269224015946,-0.8976785676477822,-0.8971485711302623,-0.8968835728715027,-0.8975990681701542,0.6114838377150968,0.6110643022048909,0.6110643022048909,0.611903373225303,0.6114838377150968,-0.8519903226310155,-0.8284963340594788,-0.8452777544677191,-0.8742257046719338,-0.8608005683453416,-0.7697389874024011,-0.7739343425044611,-0.7739343425044611,-0.774353878014667,-0.7697389874024011,-0.9056576511706461,-0.9060771866808525,-0.9056576511706461,-0.9061963639836081,-0.9059580093780967,-0.7987901172107383,-0.7999818902382957,-0.7950142976188844,-0.7999818902382957,-0.7992096527209446,-0.6064574018126406,-0.6052080486469733,-0.6073721532637709,-0.588424213288172,-0.6043188917548981,-0.8946402205185365,-0.8942206850083304,-0.8946402205185365,-0.8946402205185365,-0.8946402205185365,-0.7587886466956395,-0.7587886466956395,-0.7587886466956395,-0.7587886466956395,-0.7587886466956395,-0.9075386663947637,-0.9071191308845576,-0.9075386663947637,-0.9071191308845576,-0.9071191308845576,-0.9561692012600308,-0.9561692012600308,-0.9561692012600308,-0.9561692012600308,-0.9561692012600308,-0.9559050659655058,-0.955825566487878,-0.9558785661396301,-0.9559050659655058,-0.9558785661396301,-0.8949700559549042,-0.8954160912909863,-0.8949965557807805,-0.8954160912909863,-0.8954160912909863,-0.6185247689938275,-0.6464263738843528,-0.713363786783466,-0.6579755966565581,-0.698236515932969,-0.5096519077567537,-0.43550235265794823,-0.3602125770148917,-0.4795793062144676,-0.4883448412718866,-0.9368259507524559,-0.9368259507524559,-0.9368259507524559,-0.9370909490112157,-0.93640641524225,-0.9540359652770137,-0.9540359652770137,-0.9540227153640755,-0.9540227153640755,-0.9540227153640755,-0.8960546641550479,-0.8960546641550479,-0.8961619237275277,-0.8956971322467805,-0.8959235691220165,-0.8573116321363171,-0.8573116321363171,-0.8571924548335613,-0.8573116321363171,-0.8571924548335613,-0.9419490701571588,-0.9419490701571588,-0.9419490701571588,-0.9419490701571588,-0.9419490701571588,-0.44432951418006067,-0.4447490496902667,-0.4447490496902667,-0.4447490496902667,-0.4447490496902667,-0.8915610485302531,-0.8919938339533969,-0.8920070838663351,-0.8915875483561291,-0.8915610485302531,-0.08304416471097703,-0.08185239168341983,-0.08185239168341983,-0.07765703658135972,-0.07765703658135972,-0.9050576337598218,-0.9050576337598218,-0.9052959883653334,-0.9051768110625775,-0.9050576337598218,-0.8258605849568897,-0.8205606197816915,-0.8179106371940922,-0.8179106371940922,-0.815260654606493,-0.94086676860307,-0.94086676860307,-0.94086676860307,-0.94086676860307,-0.94086676860307,-0.8682416913431045,-0.8938349798475698,-0.8741576423482218,-0.9063987366347008,-0.9052282825923473,0.11649920177867458,0.11622228578963907,0.11623420351991466,0.11622228578963907,0.11689741830367693,0.2094889785726607,0.19732244877668645,0.14548605631695796,0.32618668391299177,0.5908221358426873,0.5908221358426873,0.5908221358426873,0.5908221358426873,0.5908221358426873,-0.7884745967776766,-0.7842792416756166,-0.7842792416756166,-0.7842792416756166,-0.7846987771858226,-0.9407649455435533,-0.9407649455435533,-0.9407781954564914,-0.9407649455435533,-0.9407649455435533,-0.47831165361418554,-0.48078802097355205,-0.47642020126223933,-0.4586337891781229,-0.4543436939336619,-0.23883108658061783,-0.297705977673888,-0.3108216754817964,-0.36969656657506655,-0.31733977464693663,-0.6211484577104348,-0.6094014634246668,-0.616953102608375,-0.5968153981184865,-0.6018498242409586,-0.6244349695569525,-0.6256587569328463,-0.6351540772101049,-0.6245541468597082,-0.6245541468597082,-0.9569906958621867,-0.9569906958621867,-0.9569906958621867,-0.9569906958621867,-0.9569906958621867,-0.6778542468389694,-0.6808578289134722,-0.6808578289134722,-0.6808578289134722,-0.6808578289134722,-0.900335284772153,-0.900781320108235,-0.9007548202823592,-0.899915749261947,-0.899915749261947,-0.8967418994163401,-0.8967418994163401,-0.8967683992422162,-0.8967683992422162,-0.8967418994163401,-0.21797707053200122,-0.18525407557692003,-0.24420932705119716,-0.2579045642075564,-0.26804478760234074,-0.9256413612248394,-0.9256678610507155,-0.9256811109636534,-0.9256811109636534,-0.9256811109636534,-0.290453214016309,-0.2975934072667609,-0.26843360730058613,-0.281817218400053,-0.8913477946180643,-0.9014166468630086,-0.8926064011486826,-0.9026752533936266,-0.8985990755943224,-0.8526219937697457,-0.8526219937697457,-0.8526219937697457,-0.8526219937697457,-0.8526219937697457,0.5653750213473455,0.5847404883198827,0.5624954464767207,0.5809480781191606,0.5610604889425298,-0.8291533723533618,-0.8291533723533618,-0.8291533723533618,-0.8291533723533618,-0.8291533723533618,-0.34663180483293005,-0.3408684983003766,-0.3048991758269568,-0.3195915716948036,-0.33091903047036586,-0.9572291942950705,-0.9572291942950705,-0.9572291942950705,-0.9572291942950705,-0.9572291942950705,-0.8984003933987442,-0.8983172569415602,-0.8986009057575938,-0.8886981389254336,-0.8974981772899653,-0.9062003993013837,-0.927512803219849,-0.9279323387300549,-0.9133325029748858,-0.9278903851790344,-0.8998303034154573,-0.8990580658981061,-0.8986385303878999,-0.8998303034154573,-0.9002498389256632,-0.8338906673720645,-0.8312406847844651,-0.8316602202946712,-0.8316602202946712,-0.8312406847844651,-0.6458526865167815,-0.6420428992229185,-0.6493141529647423,-0.6528509106638897,-0.6508562462189175,-0.7528210602770186,-0.7486389550878965,-0.7532405957872246,-0.7528343101899565,-0.7528210602770186,0.538496579570739,0.5545057624616281,0.5598928905912454,0.5540862269514222,0.5202583878761815,-0.13581933691657186,-0.1253309491614216,-0.13414119487574774,-0.1253309491614216,-0.13162398181451174,-0.6773484972016998,-0.6752285111316204,-0.6773484972016998,-0.6785409893661196,-0.6752285111316204,-0.6740711055833534,-0.6674201900824458,-0.6744906410935594,-0.6664265818105877,-0.6604295089459431,-0.9568214709277487,-0.9568214709277487,-0.9568214709277487,-0.9568214709277487,-0.9568598884839002,-0.8556442172689706,-0.8535465397179406,-0.848524031325744,-0.8472535070648505,-0.8476730425750566,-0.8370583768190512,-0.8412537319211115,-0.8412656496513868,-0.8344083942314521,-0.8386156670637878,0.048165720461624824,0.048165720461624824,0.048165720461624824,0.048165720461624824,0.05236107556368492,-0.9044538876644089,-0.9120283761611325,-0.9046084249158549,-0.9048734231746148,-0.9113438423921666,-0.9106010069431242,-0.9106010069431242,-0.9106010069431242,-0.9106010069431242,-0.9106010069431242,-0.09068538562707984,-0.09068538562707984,-0.09068538562707984,-0.09068538562707984,-0.09068538562707984,-0.9518526061896939,-0.9518791060155701,-0.9518791060155701,-0.9518526061896939,-0.9518791060155701,-0.7546402352432454,-0.7513530425926899,-0.7508644156513913,-0.7541301877919568,-0.7432609037355767,-0.9265928266574965,-0.9265928266574965,-0.9265928266574965,-0.9265663268316205,-0.9265928266574965,-0.8693453696611009,-0.8693453696611009,-0.8686608358921349,-0.8693453696611009,-0.8686608358921349,-0.6639416722334267,-0.6626332042010848,-0.6608339264338858,-0.6593210596483744,-0.6646840606000908,-0.9548049636232209,-0.9548049636232209,-0.9547784637973449,-0.9547784637973449,-0.9547784637973449,-0.9293826633874405,-0.9298021988976463,-0.9298021988976463,-0.9293826633874405,-0.9298021988976463,-0.841832433560933,-0.8388023516605541,-0.8388023516605541,-0.8419516108636887,-0.8429977067626142,-0.9551357080508671,-0.9551357080508671,-0.9551357080508671,-0.9551092082249911,-0.9551357080508671,-0.9112406634321314,-0.9112406634321314,-0.9041085597586294,-0.9078843793504834,-0.9112406634321314,-0.44635789351311816,-0.44635789351311816,-0.44635789351311816,-0.44635789351311816,-0.44635789351311816,-0.7140181634601114,-0.7068860597866092,-0.708497368324372,-0.7101755103651964,-0.7043688467253731,-0.1477500149635806,-0.14785601426708453,-0.14740551722719264,-0.14777651478945658,-0.14772351513770457,-0.8401287693855113,-0.8401287693855113,-0.8401287693855113,-0.840140687115787,-0.8401287693855113,-0.8841518675114202,-0.8799697623222983,-0.8841651174243582,-0.8841518675114202,-0.8799697623222983,-0.9073256955116723,-0.903130340409612,-0.9073256955116723,-0.903130340409612,-0.903130340409612,-0.8621795355250378,-0.8630376121048788,-0.8630614475654301,-0.8618220036167705,-0.8602726986809462,0.43300170422224293,0.3496493201288728,0.4244789918891453,-0.12055981479871794,0.1440626891334387,-0.11645738070985756,-0.07090669353522878,0.14290017247762157,-0.8896003381407338,-0.8862413355415079,-0.8863078008472564,-0.8825849809071543,-0.8810659183641535,-0.9513110801140879,-0.9513110801140879,-0.9513110801140879,-0.9513110801140879,-0.9513110801140879,-0.5511054635485999,-0.6249437133448575,-0.5965698359022948,-0.5646183036235775,-0.5564925916782171,-0.6848459653282962,-0.6835231314450841,-0.7055308231476466,-0.7085775839865234,-0.7073998519224527,-0.8806397105946389,-0.8808899829304261,-0.8804013559891278,-0.880866147469875,-0.8850615025719352,-0.34595837471588353,-0.34119128260565473,-0.3399995095780976,-0.34595837471588353,-0.34595837471588353,-0.8095715942793378,-0.809584844192276,-0.8098365925380979,-0.809584844192276,-0.8098498424510359,-0.9421036074086049,-0.9421036074086049,-0.9416840718983991,-0.9421036074086049,-0.9421036074086049,-0.4233689475661748,-0.46226832605532187,-0.44592676045213336,-0.44325994935242213,-0.4627743780752504,-0.7117302077905703,-0.7117302077905703,-0.7117302077905703,-0.7070093897884865,-0.7071153171783042,-0.6254324417741055,-0.6263996135048927,-0.6255649409034855,-0.6254589415999814,-0.6261876148978849,-0.8590851464913003,-0.8590970642215761,-0.8590970642215761,-0.8564351639037013,-0.8617351290788995,-0.8645271247370299,-0.8645271247370299,-0.8645271247370299,-0.8645271247370299,-0.8645271247370299,-0.9546198963242065,-0.9546198963242065,-0.9546198963242065,-0.954607978593931,-0.954607978593931,-0.9188512303751567,-0.9184197771346749,-0.9188512303751567,-0.9188393126448812,-0.9188393126448812,-0.8838870105208269,-0.8833144299103441,-0.8397496173110912,-0.8499164199276745,-0.8722153876906652,-0.9222094237981175,-0.9222094237981175,-0.9217898882879118,-0.9222094237981175,-0.9222094237981175,-0.9394515156323845,-0.9394515156323845,-0.9394515156323845,-0.9394515156323845,-0.9394515156323845,0.21425586582827533,0.2829654021136635,0.27599246038917,0.31303855334463665,0.28612018080314006,-0.8891783690576794,-0.8883441279383896,-0.8886444861458399,-0.887629064121855,-0.8897170818706414,-0.476844802738764,-0.476844802738764,-0.4726494476367039,-0.48104015784082416,-0.476844802738764,-0.839735299859132,-0.8432155911446579,-0.8395361455695872,-0.8379476403177963,-0.839315764348926,-0.5521947037237466,-0.5565092361285624,-0.5563900588258068,-0.5514748100060903,-0.5580682008666308,-0.6879261370574482,-0.6921214921595081,-0.6925410276697143,-0.6879261370574482,-0.6883456725676543,-0.9531224404211542,-0.9531224404211542,-0.9531224404211542,-0.9531224404211542,-0.9531224404211542,0.35148528737743745,0.3252795306841177,0.4218263958291869,0.3419378532440421,-0.8913566096879415,-0.8921956807083535,-0.8913566096879415,-0.8917761451981476,-0.8917761451981476,-0.9524592256373922,-0.9524592256373922,-0.9524592256373922,-0.9524592256373922,-0.9524592256373922,-0.9431637356421362,-0.9435567713264662,-0.9431504857291982,-0.9431504857291982,-0.9431372358162602,-0.7950644767855801,-0.7932526677386346,-0.7997123915930533,-0.800665810015099,-0.795159504582726,-0.8956089150035476,-0.9089863804090378,-0.8897380822259885,-0.9001880524249871,-0.9014347412253295,-0.9049488098471627,-0.9074915328622818,-0.9043399228352101,-0.9048905533784473,-0.9100461736076765,-0.9351864479206076,-0.9328014635917684,-0.9330664618505282,-0.9328014635917684,-0.9342369158928819,-0.9137079476741771,-0.9135622705455453,-0.913981806055751,-0.9141274831843829,-0.913981806055751,-0.015435163208190435,0.01056278851164412,0.03448956250632455,0.01433860810349818,0.030280957491326473,-0.6367293425164069,-0.6367028426905308,-0.6367293425164069,-0.6367293425164069,-0.6367028426905308,-0.8080298620381351,-0.8101130498857992,-0.810589759096822,-0.8097555179775321,-0.8036203018361736,-0.8746633171560187,-0.8746633171560187,-0.8746633171560187,-0.8746633171560187,-0.8746633171560187,-0.9568316969069305,-0.9568316969069305,-0.9568316969069305,-0.9568316969069305,-0.9568316969069305,-0.9131884451538542,-0.9055356365677641,-0.9009600555833137,-0.9110364443972906,-0.9038164934861783,-0.793835203604235,-0.7895952314640763,-0.7915606802827096,-0.7959551896743146,-0.79023568898891,-0.8917151778856646,-0.8736751509468063,-0.8669625827835103,-0.8787095770692783,-0.8820658611509267,-0.9360978815333241,-0.9360978815333241,-0.9360978815333241,-0.9356783460231182,-0.9360978815333241,-0.9541305502460457,-0.9541305502460457,-0.9541305502460457,-0.9541305502460457,-0.9541305502460457,-0.7379215018767095,-0.7379215018767095,-0.7379215018767095,-0.7379215018767095,-0.7379215018767095,0.13712064723766992,0.23697219046578605,0.14701922545398274,0.26353697737898096,0.23803146436396322,-0.7331508701848981,-0.7313536432335528,-0.7267250680054449,-0.7305668236206013,-0.7332774693367432,-0.8821005075973521,-0.8821005075973521,-0.8820885898670765,-0.8820885898670765,-0.8820885898670765,-0.9481849118516703,-0.9481849118516703,-0.9477653763414644,-0.9477653763414644,-0.9477653763414644,-0.9574146930762026,-0.9574146930762026,-0.9574146930762026,-0.9574146930762026,-0.9574146930762026,-0.9045567995244556,-0.9045567995244556,-0.9045567995244556,-0.9045567995244556,-0.9045567995244556,-0.9357758415253165,-0.9574676927279545,-0.9574915425712429,-0.9574676927279545,-0.9574676927279545,-0.9574915425712429,-0.9560016105457377,-0.9559883606327998,-0.9559883606327998,-0.9560016105457377,-0.9559883606327998,-0.8628498043248608,-0.863150162532311,-0.8628498043248608,-0.8632693398350667,-0.8632693398350667,-0.9172565026183784,-0.9150570170706714,-0.9191379902555742,-0.9182369961757901,-0.912937031000592,-0.8622784009984807,-0.8541701734172897,-0.8597616366771238,-0.8573766523482849,-0.8615901246625675,-0.8464908094291725,-0.8464908094291725,-0.8464908094291725,-0.8464908094291725,-0.8464908094291725,-0.9042968589753394,-0.90367418498094,-0.9034096182042975,-0.9037933622836957,-0.9034492960294254,-0.6575843329277415,-0.6617796880298017,-0.6617796880298017,-0.6575843329277415,-0.6617796880298017,-0.945256896833432,-0.944837361323226,-0.945256896833432,-0.945256896833432,-0.945256896833432,-0.8851732758017486,-0.8827897297466343,-0.8775459284253827,-0.8762349780950698,-0.8827897297466343,-0.8518011136459952,-0.8446504754806521,-0.8541846597011095,-0.8434587024530951,-0.8446504754806521,-0.44332744394248846,-0.4429079084322825,-0.44332744394248846,-0.44332744394248846,-0.4476991500481212,-0.9199643548741298,-0.9199511049611916,-0.9199643548741298,-0.9199511049611916,-0.9199511049611916,-0.9557457793555051,-0.9557457793555051,-0.9557722791813809,-0.9557722791813809,-0.9557722791813809,-0.9549767090956112,-0.9549767090956112,-0.9549767090956112,-0.9549767090956112,-0.9549767090956112,-0.8508867362690989,-0.8466913811670391,-0.8508867362690989,-0.8508867362690989,-0.8466913811670391,-0.9172144572223232,-0.9047595390606069,-0.8901846348288115,-0.8960145965215297,-0.8912446278638512,-0.8859057771250117,-0.8859057771250117,-0.8863253126352179,-0.8859057771250117,-0.8859057771250117,-0.9572556941209464,-0.9571761946433187,-0.9572556941209464,-0.9571761946433187,-0.9571231949915666,-0.2538480410760853,-0.2553048123624024,-0.29482181767613685,-0.30875679708509113,-0.347790966149349,-0.6907652285039938,-0.6923031791693653,-0.6916146151787069,-0.6925757772819634,-0.6930803904152111,-0.7753587531943548,-0.7779859785230255,-0.7839969772930657,-0.7818504913971105,-0.7781412349113341,0.29880729931742206,0.3908512207018554,0.36425328922758443,0.4039404186838878,0.2534146418905144,0.3850771173371876,0.3742572946745581,-0.9091335106830883,-0.909083161013924,-0.909083161013924,-0.9094231970465021,-0.9091229107527378,-0.8588294658825388,-0.860021238910096,-0.860021238910096,-0.860021238910096,-0.860021238910096,-0.7708018817152217,-0.7708018817152217,-0.7708018817152217,-0.7708018817152217,-0.7708018817152217,0.39444259256322145,0.3537421144381914,0.3547476607666359,0.47823389442518033,0.4704685327282154,-0.8778527698386933,-0.8779057694904452,-0.8783253050006514,-0.8778262700128173,-0.8782723053488993,-0.6957102329131811,-0.6957102329131811,-0.6957102329131811,-0.6957102329131811,-0.6957102329131811,-0.9574146930762026,-0.956646198125799,-0.9568316969069305,-0.9567256976034267,-0.9572291942950705,-0.8211431259135761,-0.8211431259135761,-0.8207235904033701,-0.8249189455054302,-0.8211431259135761,-0.9143481493688098,-0.9143481493688098,-0.9143481493688098,-0.9143481493688098,-0.9143481493688098,-0.7205915023173642,-0.720856500576124,-0.720856500576124,-0.720856500576124,-0.720856500576124,-0.33788074666479284,-0.33133614767377667,-0.33133614767377667,-0.33133614767377667,-0.33133614767377667,-0.7978190939654382,-0.8203018978468601,-0.8004821912674839,-0.8045846617804863,-0.8137968665867621,-0.9532556586873966,-0.9532556586873966,-0.9532556586873966,-0.9532556586873966,-0.9532556586873966,-0.07803186526317767,-0.04942931260180537,-0.1090179639796643,-0.1018673258143212,-0.11855214820012171,-0.4175643883744972,-0.41714485286429126,-0.4175643883744972,-0.41714485286429126,-0.4175643883744972,-0.8132585814530523,-0.837791336128512,-0.8000984433852201,-0.8101232193860318,-0.8351195858158297,-0.936988244515986,-0.9370478331673641,-0.9370001622462616,-0.9369524913251596,-0.9370478331673641,0.21856153189351393,0.2155579498190111,0.21436617679145387,0.2155579498190111,0.2155579498190111,-0.9525721015952667,-0.9525721015952667,-0.9525721015952667,-0.9525721015952667,-0.9525721015952667,-0.7833071188725189,-0.7837266543827249,-0.7837266543827249,-0.7833071188725189,-0.7837266543827249,-0.9402566969602848,-0.940244779230009,-0.9402301971344088,-0.9402301971344088,-0.9402301971344088,-0.941762644762703,-0.941762644762703,-0.941762644762703,-0.941762644762703,-0.941762644762703,-0.8347221216522598,-0.8316216420247688,-0.8297666542134494,-0.8339006270501043,-0.8348546207816399,-0.9240900802956228,-0.9240900802956228,-0.9236705447854165,-0.9241165801214986,-0.9241165801214986,-0.10443635991591674,-0.09982146930365064,-0.10702040648021365,-0.10036018211661236,-0.10401682440571072,0.09412838446302092,0.09498962880399066,0.10161458527298857,0.09721561417757396,0.09599662218727834,-0.9130184642141986,-0.9127123840339623,-0.9107085176591774,-0.913039635309425,-0.912771723270576,-0.8772800877798242,-0.8823145139022964,-0.8688893775757041,-0.86721123553488,-0.86721123553488,-0.9292010975237283,-0.9278281435914765,-0.9288435656154616,-0.9277089662887211,-0.929796984037507,-0.6410896529112842,-0.6402288141657893,-0.6440046337576434,-0.6403392751731031,-0.6416642664669027,-0.9424349904305465,-0.9466303455326066,-0.9428545259407525,-0.9369810287978684,-0.9369810287978684,-0.5489248872629701,-0.42415797092345553,-0.39838719273932105,-0.3787653134965479,-0.33948580182017496,-0.9439897124005139,-0.9439804590355632,-0.9440016301307896,-0.9440016301307896,-0.9439777946702383,-0.955639204742511,-0.955639204742511,-0.955639204742511,-0.955639204742511,-0.955639204742511,-0.9427225388360571,-0.9426960390101811,-0.9427225388360571,-0.9427225388360571,-0.9427225388360571,0.26512740482623864,0.2654611012739548,0.3184607530259381,0.23654964741587525,0.26547301900423026,-0.9352754031435646,-0.9432386008193001,-0.9352003653697465,-0.9420593585678185,-0.9382168838157997,-0.9574411929020784,-0.9574411929020784,-0.9574411929020784,-0.9574146930762026,-0.9574411929020784,-0.8941884067568554,-0.9101307561446838,-0.924394963491688,-0.9076135430834477,-0.9034181879813876,-0.955877703175395,-0.955851203349519,-0.955930702827147,-0.9557717038718911,-0.9557187042201389,-0.9183668999637927,-0.9179473644535867,-0.9179473644535867,-0.9183668999637927,-0.9179473644535867,-0.9020159778038482,-0.8978325404320634,-0.897794122875912,-0.8977822051456364,-0.8978087049715123,-0.779712854495769,-0.8334133998021381,-0.7625118985773227,-0.7843277451080352,-0.837608754904198,-0.1618774510832386,-0.3490192214194921,-0.4552357503981826,-0.23854581124596352,-0.2828927664536319,-0.9574941925538304,-0.9574941925538304,-0.9574941925538304,-0.9574941925538304,-0.9574941925538304,-0.9351259777017435,-0.9350199783982397,-0.9350199783982397,-0.9350729780499918,-0.9351524775276197,-0.8546017427825763,-0.8546017427825763,-0.8546017427825763,-0.8546017427825763,-0.8546017427825763,-0.8641370889609099,-0.8718750381166995,-0.874652652534394,-0.8692069383168778,-0.8760173935670076,-0.3904550513065298,-0.390335874003774,-0.38914410097621677,-0.385687959196301,-0.3910750873259182,-0.9222529392995428,-0.9222529392995428,-0.9218334037893368,-0.9218334037893368,-0.9218334037893368,-0.5574416473354759,-0.5698940456355344,-0.5721373079229617,-0.565765524036535,-0.5736817829576639,-0.933030158395036,-0.9334496939052419,-0.9334496939052419,-0.933030158395036,-0.933030158395036,-0.9561692012600308,-0.9561692012600308,-0.9561692012600308,-0.9561692012600308,-0.9561692012600308,-0.903158341429735,-0.9098709095930309,-0.9007892850779865,-0.9102904451032372,-0.9165834777563272,-0.4866244384118742,-0.484973380135297,-0.484973380135297,-0.48543266538431695,-0.4884229975458818,-0.9491034823497104,-0.9491034823497104,-0.9491034823497104,-0.9491034823497104,-0.9491034823497104,-0.8870694492199885,-0.8870694492199885,-0.8870694492199885,-0.8870694492199885,-0.8870694492199885,-0.32996256767432997,-0.31764150062690955,-0.3217263947216558,-0.31825964963269393,-0.3092507904227895,0.5510477784299023,0.5263216831536237,0.530158706667987,0.5121186797291288,0.5057108595634066,-0.9060899382940699,-0.9060899382940699,-0.9060899382940699,-0.9060899382940699,-0.9060899382940699,-0.9386722855531389,-0.9386722855531389,-0.9386457857272628,-0.9390653212374688,-0.9390653212374688,-0.9217878995393397,-0.9220528977980994,-0.9220528977980994,-0.9220528977980994,-0.9220528977980994,-0.9569698124217053,-0.9569817301519808,-0.9569698124217053,-0.9569817301519808,-0.9569698124217053,-0.9187859238135975,-0.9153846392011894,-0.9153846392011894,-0.9153846392011894,-0.9153846392011894,-0.9153846392011894,-0.7713925774853883,-0.769094001507478,-0.770058933180952,-0.76862146634552,-0.7678353949768599,-0.9402134667607731,-0.9401869669348969,-0.9402399665866492,-0.9402399665866492,-0.9402399665866492,-0.7134714808526821,-0.7134714808526821,-0.7134714808526821,-0.7134714808526821,-0.7134714808526821,-0.9322747949207838,-0.9325397931795437,-0.9330697896970634,-0.9318993356547101,-0.9342843199835492,-0.43572512393061025,-0.4361092994921259,-0.43572512393061025,-0.44030465459418594,-0.44018547729143015,-0.4593413414197131,-0.4593678412455891,-0.4593413414197131,-0.4593678412455891,-0.4593678412455891,-0.7179248366670264,-0.7179248366670264,-0.7221201917690864,-0.7205748192546256,-0.7179248366670264,-0.1446365331699106,-0.14306302485103173,-0.18018721228958107,-0.1741607057149996,-0.17326487637118196,0.07072821745866362,0.07072821745866362,0.07072821745866362,0.07072821745866362,0.07072821745866362,-0.7575534790897344,-0.7703719387872485,-0.7730219213748479,-0.7548915787718595,-0.7840533049657261,-0.8736295443748621,-0.8736295443748621,-0.869434189272802,-0.869434189272802,-0.8736295443748621,-0.2077170975930853,-0.2119124526951454,-0.20759792029032964,-0.2117932753923897,-0.2077170975930853,0.6117747089622062,0.6160892413670219,0.6117747089622062,0.6116555316594503,0.6116555316594503,-0.9247229920927355,-0.9223910074156481,-0.9120560753240112,-0.9215960126393685,-0.9120560753240112,0.20482002992063408,0.20482002992063408,0.2048465297465101,0.2056150246969138,0.2048465297465101,-0.7547191965193492,-0.7550065236101831,-0.7557496693536905,-0.7569443189286974,-0.7598297795743585,-0.8202594614237199,-0.8069205079884004,-0.8151354540099581,-0.6831576048520775,-0.8154004522687179,-0.873193570096726,-0.873193570096726,-0.873193570096726,-0.8731670702708499,-0.8727475347606442,-0.5574243142007217,-0.5616196693027817,-0.5305740415475371,-0.5574243142007217,-0.5574243142007217,-0.8664575228466596,-0.8664310230207838,-0.8671200184935594,-0.8674424781078811,-0.47009962721945175,-0.8919673026933963,-0.8878911248940917,-0.8878911248940917,-0.8878911248940917,-0.892086479996152,-0.8843622442516219,-0.8843622442516219,-0.8843622442516219,-0.8843622442516219,-0.8864599218026519,-0.40721336745093,-0.41602361316525616,-0.4193798972469042,-0.4235487525230884,-0.4273510719408184,-0.7578710256677829,-0.7587764181665713,-0.7575973111135812,-0.759288631153657,-0.7592754531544053,-0.923083357309318,-0.923233162459971,-0.8788552829671918,-0.8950046284642518,-0.9315800668169423,-0.9371796422934467,-0.9371796422934467,-0.9371796422934467,-0.9367601067832406,-0.9371796422934467,-0.7880099714613749,-0.7884295069715807,-0.7880218891916504,-0.7884295069715807,-0.7880218891916504,0.2460451816503947,0.24605843156333268,0.24605843156333268,0.24605843156333268,0.2460451816503947,-0.8626234134766684,-0.8658295969658563,-0.8665089075915638,-0.8627306730491486,-0.8627664262399752,-0.18680126433881578,-0.8800330820143892,-0.8980731089532475,-0.8973008714358962,-0.9010098575246895,-0.8662552436806515,-0.9570039457751246,-0.9569906958621867,-0.9570039457751246,-0.9570039457751246,-0.9569641960363108,0.11388828301966206,0.16807262536620746,0.12796480506751787,0.09272382221021319,0.12275087253368311,-0.21633292968168288,-0.21612093107467503,-0.21590893246766704,-0.21596639382322888,-0.21704842498033472,-0.6290829460476447,-0.6296216588606064,-0.6292021233504004,-0.6296216588606064,-0.6295024815578506,0.24416881464994258,0.24416881464994258,0.24416881464994258,0.24416881464994258,0.24416881464994258,-0.955639204742511,-0.955639204742511,-0.955639204742511,-0.955639204742511,-0.955639204742511,0.2893282028888575,0.30216830645895937,0.29699230246059527,0.2965475615708657,0.3394042441521324,-0.5373879903163982,-0.5154127393885425,-0.5122147781161048,-0.48883166989758775,-0.5671986720449897,-0.9133729892619115,-0.9132139903066557,-0.9133862391748496,-0.9133729892619115,-0.9134100890181379,-0.8682178172711889,-0.8682178172711889,-0.8682178172711889,-0.8682178172711889,-0.8682178172711889,-0.21572024136413226,0.20595408835257434,-0.0483788749152817,-0.04023414733097431,0.15109824365371433,-0.8978803629676005,-0.8978803629676005,-0.8936850078655405,-0.8978803629676005,-0.8978803629676005,-0.8098857070674477,-0.8086939340398904,-0.8086939340398904,-0.8086939340398904,-0.8086939340398904,-0.916265147145233,-0.9173258251397589,-0.9174450024425144,-0.9174450024425144,-0.9174450024425144,-0.7204948722694015,-0.6985383312332727,-0.7167652725739814,-0.7247021451017374,-0.7167652725739814,-0.5935592388670223,-0.5827174299678646,-0.5898673804566061,-0.5640565500533903,-0.567722990225863,-0.6582910647539496,-0.6582910647539496,-0.6614710438590684,-0.6593510577889893,-0.6627514181147695,-0.9128156234985082,-0.9128156234985082,-0.9128156234985082,-0.9128156234985082,-0.9128156234985082,0.43653635851117084,0.43653635851117084,0.43665553581392663,0.43665553581392663,0.43665553581392663,-0.8666817011584195,-0.8654899281308625,-0.8614124181488956,-0.8626041911764527,-0.8614256680618337,-0.8392267065415685,-0.8392267065415685,-0.8434220616436285,-0.8434220616436285,-0.8392267065415685,-0.8029638514703508,-0.8041556244979078,-0.7945731412662307,-0.7987949961941666,-0.7945996410921067,-0.7437597261247303,-0.7427506436856078,-0.743746404298106,-0.7430049844830682,-0.7451103542801708,-0.9116257351578594,-0.9200164453619795,-0.9156399093552249,-0.9120452706680655,-0.9183954770219726,-0.9124444885646446,-0.9089995112007655,-0.9103245024945652,-0.9103245024945652,-0.9129744850821644,-0.8868859644053909,-0.8873054999155969,-0.8868859644053909,-0.8873054999155969,-0.8868859644053909,-0.9452598684640955,-0.9452598684640955,-0.9452479507338198,-0.9452479507338198,-0.9449500074769306,-0.7338270714940671,-0.7338270714940671,-0.6994299895582966,-0.6910392793541764,-0.732992830374777,-0.9004569048341299,-0.9066660303851786,-0.873522725078904,-0.8865283258952902,-0.8852697193646721,-0.7122627604901285,-0.736112603778521,-0.7122627604901285,-0.7149127430777276,-0.7149127430777276,-0.9384689399567674,-0.9383099410015113,-0.9381289039241892,-0.9394405101065593,-0.9395420477062535,-0.8946498553353285,-0.8942303198251225,-0.8946498553353285,-0.8946498553353285,-0.8942303198251225,-0.930930956281472,-0.9222002100447738,-0.9342342407113682,-0.9271816365154939,-0.9376170246188922,-0.5259807666784514,-0.5259807666784514,-0.5259807666784514,-0.5259807666784514,-0.5259807666784514,-0.7822444275783894,-0.7865589599832056,-0.7822444275783894,-0.7864397826804497,-0.7822444275783894,-0.7173393386937337,-0.6661081446467042,-0.6640529209579075,-0.7098089264411422,-0.6816946393176764,-0.45265784652948876,-0.4513992399988708,-0.4558949533083812,-0.45799263085941117,-0.45551509562330283,-0.0140448002298011,0.07204198003669764,0.009338988836683977,0.057150793895097786,-0.044833307895934905,-0.6242753731958369,-0.6285899056006529,-0.6201991953965327,-0.6243945504985928,-0.6201991953965327,-0.9441294171342534,-0.9441294171342534,-0.9441294171342534,-0.9441294171342534,-0.9441294171342534,-0.8923980996914012,-0.8890153157838773,-0.8856855315281049,-0.8877832090791352,-0.8814901764260449,-0.9531871187085502,-0.9531871187085502,-0.9531871187085502,-0.9531871187085502,-0.9531871187085502,-0.9214609073595217,-0.917896752692887,-0.9215802284896498,-0.9184001055571585,-0.9202419153692261,-0.9378958275953957,-0.9379223274212718,-0.9379223274212718,-0.9379223274212718,-0.9378958275953957,-0.8787835598732209,-0.874588204771161,-0.874588204771161,-0.8757799777987181,-0.8787835598732209,0.34002183488722293,0.339602299377017,0.33918276386681095,0.33918276386681095,0.339602299377017,-0.902196640885344,-0.9017771053751381,-0.9034149137387771,-0.9033884139129013,-0.903361914087025,-0.9382025689040104,-0.938214486634286,-0.9382025689040104,-0.9382025689040104,-0.93779495112408,-0.7754049731328179,0.613257565649069,0.21889418605542138,-0.7754049731328179,-0.8891860494469848,-0.8888990130661587,-0.8849195774809502,-0.8890580120214148,-0.8851845757397101,-0.6483985953751943,-0.6487740546412679,-0.6485090563825084,-0.6482440581237482,-0.6481335971164346,-0.955983702478899,-0.955983702478899,-0.955983702478899,-0.955983702478899,-0.955983702478899,-0.9414691330948525,-0.9485137719566915,-0.9514800265263329,-0.9500630768925159,-0.950102898545016,-0.9518263940185632,-0.9517998941926871,-0.9518263940185632,-0.9519190714954425,-0.9519455713213187,-0.8911188886590504,-0.8911188886590504,-0.8911188886590504,-0.8869235335569902,-0.8911188886590504,-0.9569643398636832,-0.9549503530971076,-0.9559043468286434,-0.957202838296567,-0.957096838993063,-0.9326196720202418,-0.9321882187797604,-0.9325945043770284,-0.9326064221073039,-0.932200136510036,-0.7913696606846881,-0.8597392114447466,-0.7924296537197278,-0.8337428822603989,-0.8870605319228942,-0.8420103846519317,-0.8424299201621377,-0.8420103846519317,-0.8420103846519317,-0.8420103846519317,-0.8438059428229511,-0.8441634747312183,-0.842494992492638,-0.8453910009496021,-0.8420182832816153,0.018149722315927787,0.018149722315927787,0.018149722315927787,0.018149722315927787,0.018149722315927787,-0.7651761791734186,-0.7647566436632125,-0.7648758209659683,-0.7651761791734186,-0.7651761791734186,-0.8687590384342883,-0.8682335036205783,-0.8686530391307843,-0.8686530391307843,-0.8682468254472023,-0.7308285739072274,-0.7761296386346375,-0.7707072132646076,-0.751686172114772,-0.7625939515527556,-0.8223165722519651,-0.8223165722519651,-0.8223165722519651,-0.8265119273540251,-0.8265119273540251,-0.8142418632876564,-0.8142418632876564,-0.8142418632876564,-0.8142418632876564,-0.8142418632876564,-0.9469933399983893,-0.9469800900854513,-0.9469800900854513,-0.9469933399983893,-0.9469800900854513,-0.9160378737554481,-0.9114375652387825,-0.905969021510504,-0.9156448380711183,-0.9194206576629723,-0.9327534643969724,-0.9327534643969724,-0.9327534643969724,-0.9327534643969724,-0.9330184626557322,-0.9574915425712429,-0.9574915425712429,-0.9574915425712429,-0.9574915425712429,-0.9574915425712429,-0.38176270142971513,-0.38595805653177534,-0.3839712887279384,-0.38176270142971513,-0.38622305479053515,-0.8146081853702425,-0.8146346851961185,-0.8146081853702425,-0.8146346851961185,-0.8146346851961185,-0.8158339030739906,-0.8152819403480908,-0.8146421300464333,-0.8158339030739906,-0.8157014758582968,-0.8873270747500372,-0.8878609576618771,-0.8856537626103352,-0.8858349435150298,-0.8855965889095185,-0.8833835679291644,-0.8832643906264085,-0.8832643906264085,-0.8833835679291644,-0.8833835679291644,-0.8973757958352606,-0.8973757958352606,-0.8969562603250545,-0.8969562603250545,-0.8972566185325048,0.7047995263593639,0.710253487992042,0.7052190618695701,0.7203223402369864,0.7215809467676043,-0.925039635327352,-0.9219981991565201,-0.9249204580245963,-0.9245009225143903,-0.9223557310647876,-0.8437060248951406,-0.8437060248951406,-0.8437060248951406,-0.8437060248951406,-0.8425142518675833,-0.8656020592231413,-0.8656153091360793,-0.8656139769534171,-0.8698225819684151,-0.8709891873527587,-0.7462292494324562,-0.7462292494324562,-0.7462292494324562,-0.7462292494324562,-0.7462292494324562,-0.8283053030815688,-0.8282523034298169,-0.8271786968508034,-0.8291857054382212,-0.8273243739794348,-0.7849557095430951,-0.7802151172587424,-0.7802151172587424,-0.7861739823965281,-0.7814068902862995,-0.8851919258406372,-0.8847149289748691,-0.8731124669449947,-0.8853906026210208,-0.8853906026210208,-0.7810815998443962,-0.7768416277042376,-0.7874657535872878,-0.7899180661861106,-0.7879715545721541,-0.5016063323438109,-0.5016063323438109,-0.5016063323438109,-0.5016063323438109,-0.5016063323438109,-0.7572012075573644,-0.7576207430675703,-0.7572012075573644,-0.7572012075573644,-0.7572012075573644,-0.7840812813411162,-0.7828895083135589,-0.7840812813411162,-0.787084863415619,-0.788276636443176,-0.6070156826375122,-0.6087161331973854,-0.6080756756725517,-0.6072806808962719,-0.6075456791550317,0.4608038898563247,-0.7360509782350132,-0.8906920443170251,-0.8320995252088585,-0.8022488035422166,-0.8622179094995855,-0.886827211313492,-0.8868007114876162,-0.8868007114876162,-0.8867742116617401,-0.886827211313492,-0.9114265831950104,-0.9101015919012108,-0.90826936134882,-0.9082480423636164,-0.8959335338367671,-0.9314034914434302,-0.9389286308012621,-0.9354928472419859,-0.9414193440366221,-0.9447756281182702,-0.321669656433796,-0.3223011905510099,-0.3219081548666799,-0.32224819089925794,-0.32203619229224995,-0.9568316969069305,-0.9568316969069305,-0.9568316969069305,-0.9568316969069305,-0.9568316969069305,-0.927662013497139,-0.9310182975787871,-0.921788516354255,-0.9343745816604351,-0.9289206200277569,-0.9240401903627647,-0.9244597258729708,-0.9244597258729708,-0.9244597258729708,-0.9244597258729708,-0.9551092082249911,-0.9551092082249911,-0.9551092082249911,-0.9551092082249911,-0.9551092082249911,-0.8905673687351283,-0.8904481914323724,-0.8904481914323724,-0.8904481914323724,-0.8904481914323724,-0.9025225239516071,-0.885850390908661,-0.878805898929457,-0.899100303846657,-0.8933808031612526,-0.19949428488617588,-0.19949428488617588,-0.19991382039638184,-0.19949428488617588,-0.19949428488617588,-0.8695212963651945,-0.8653855299145125,-0.8643248519199864,-0.8681030864624016,-0.8683414410679129,-0.9570701953398147,-0.9552947070061231,-0.9570966951656905,-0.9570701953398147,-0.9559042030012712,-0.9570701953398147,-0.9532542204136719,-0.9495442447910328,-0.9564606993446666,-0.9557717038718911,-0.6988659870203785,-0.7012495330754929,-0.7054448881775528,-0.7108320163071702,-0.7042531151499957,-0.9454557001834264,-0.9444222069742626,-0.9449831650214685,-0.9454557001834264,-0.9447667047106505,-0.9241544815903604,-0.9237349460801546,-0.9241544815903604,-0.9237230283498792,-0.9241544815903604,-0.8402577459384312,-0.8566196308364655,-0.8402577459384312,-0.8549414887956416,-0.8562000953262596,-0.7946782051168343,-0.79509774062704,-0.7946782051168343,-0.7946782051168343,-0.79509774062704,-0.8630858421586236,-0.8922356506222144,-0.9087980417947094,-0.8657358247462228,-0.8763357550966194,-0.9320776804245297,-0.9325237157606118,-0.9324972159347357,-0.9320776804245297,-0.9324972159347357,-0.9423892918045153,-0.9423892918045153,-0.9426542900632751,-0.9421242935457552,-0.9421242935457552,-0.5386394167519533,-0.532514353271143,-0.8276504537011343,-0.8318458088031945,-0.8276504537011343,-0.8318458088031945,-0.8318458088031945,-0.38111509782699066,-0.2049101835404672,-0.46460266435798614,-0.3555499315303001,-0.20029529292820109,-0.8867022104570845,-0.8864283520755103,-0.8864402698057858,-0.886940565062596,-0.8867406280132362,-0.7931453951643583,-0.8011165698582725,-0.8011165698582725,-0.783915613939826,-0.8011165698582725,-0.929090030754006,-0.9092768732316011,-0.9264519658966822,-0.9284198296658764,-0.9252636860213086,-0.9219101847493865,-0.9218836849235102,-0.9214641494133042,-0.9218836849235102,-0.9218836849235102,-0.9048246953722568,-0.9044671634639896,-0.9058734556365071,-0.9038712769502109,-0.9058615379062315,-0.9425460807155583,-0.9425460807155583,-0.942965616225764,-0.9425460807155583,-0.9425460807155583,-0.007764883780140216,-0.01070163235158227,-0.014477451943436364,-0.014477451943436364,-0.019931413576114464,-0.7525542686626607,-0.7525542686626607,-0.7525542686626607,-0.7525542686626607,-0.7521347331524545,-0.9373828174880863,-0.9373828174880863,-0.9373828174880863,-0.9373828174880863,-0.9373828174880863,-0.9256603833918715,-0.9370143419933098,-0.9235892056667176,-0.9390855197184638,-0.9374073776776398,-0.8911381033524418,-0.8900273394862527,-0.8900035040257014,-0.8906589791908578,-0.890265694091764,-0.8369309357042264,-0.8409011142000268,-0.8364717223688927,-0.8404152572114446,-0.8362994015870128,-0.9574941925538304,-0.9574941925538304,-0.9574941925538304,-0.9574941925538304,-0.9574941925538304,-0.7470712312587555,-0.7512424368552053,-0.7453165959126266,-0.7479384965732523,-0.7479384965732523,-0.9210528181738556,-0.9155988565411777,-0.9160183920513836,-0.9114035014391175,-0.9185356051126197,-0.8286364743542628,-0.8290321744039176,-0.828743733926743,-0.8290560098644689,-0.8283623665579247,0.40335664890747414,0.39748315176459004,0.39328779666252994,0.397902687274796,0.38657522849923376,-0.798533228841953,-0.7921732706317149,-0.7973181577615008,-0.7981577695758793,-0.7921732706317149,-0.9295485841746777,-0.928254554410564,-0.9178367427254222,-0.9303477702577841,-0.9268634487505659,-0.8905875510630124,-0.8904683737602567,-0.8905875510630124,-0.8904683737602567,-0.8904418739343809,-0.7157034172675547,-0.7220368756519168,-0.7180611826336555,-0.721268380701513,-0.7086802442735545,-0.9215017503704119,-0.9215017503704119,-0.9215017503704119,-0.9215017503704119,-0.9215017503704119,-0.9490789602365178,-0.9481779661567342,-0.9445739898375993,-0.9498739550127976,-0.9498739550127976,0.3663742824492051,0.3663742824492051,0.3663742824492051,0.3663742824492051,0.3663742824492051,-0.9055515892477247,-0.9067433622752817,-0.906323826765076,-0.9067433622752817,-0.9055515892477247,-0.9573616934244503,-0.9573616934244503,-0.9573616934244503,-0.8752639028249378,-0.8752639028249378,-0.8764556758524952,-0.8832138505877354,-0.8764556758524952,-0.30927512507113697,-0.2853496832591189,-0.30720394734598294,-0.29417184670372065,-0.30467481655447126,-0.36271336556915523,-0.3559595056550896,-0.36122635189001484,-0.37264432804089026,-0.371717553272093,-0.7663045663877057,-0.766834419077853,-0.7670729175107369,-0.7667152417750974,-0.7671920948134927,-0.9246069620986961,-0.924394963491688,-0.9245804622728201,-0.924500962795192,-0.925026497608902,-0.9548177101403554,-0.9541817143193315,-0.9526182245926479,-0.9534132193689278,-0.9547117108368515,0.11641125688887555,0.12279916031658204,0.12363340143587204,0.11521948386131835,0.11648276327052895,-0.8139544445260551,-0.8165558891657121,-0.8121259565406117,-0.8147804008320207,-0.8200092491432444,-0.9574915425712429,-0.9574915425712429,-0.9574915425712429,-0.9574915425712429,-0.9574915425712429,-0.719722515637753,-0.7239178707398131,-0.719722515637753,-0.719722515637753,-0.7239178707398131,-0.9495723267180063,-0.9495723267180063,-0.9495723267180063,-0.9495723267180063,-0.9495723267180063,-0.6643752566771338,-0.6643752566771338,-0.6643752566771338,-0.6643752566771338,-0.6643752566771338,-0.9285126308373425,-0.9280930953271364,-0.9280930953271364,-0.9280930953271364,-0.9280930953271364,-0.9235346128874977,-0.9158637964010339,-0.9243736839079099,-0.9226955418670857,-0.9168220447242017,-0.16869569380152813,-0.33352542194114604,0.04215868859294494,0.0413592321128553,-0.30281604466071516,-0.5601027380174006,-0.7086204174546653,-0.5797966778092462,-0.8374320215008142,-0.847045917308168,-0.8876403213297679,-0.8914539950179511,-0.8794170874396233,-0.8949101367978667,-0.8794170874396233,-0.9569906958621867,-0.9569906958621867,-0.9569906958621867,-0.9570171956880626,-0.9569906958621867,-0.870543265703142,-0.8693514926755845,-0.8693514926755845,-0.8701237301929357,-0.8693514926755845,-0.8700149075272294,-0.815276087816661,-0.8343457046697847,-0.7337477425103288,-0.8797560299731073,-0.9573086937726986,-0.9573086937726986,-0.9573086937726986,-0.9572821939468223,-0.9572821939468223,-0.8598774695742063,-0.8609671638699558,-0.8610744234424358,-0.8597494321486363,-0.8593771743173962,-0.9524592256373922,-0.9508692360848324,-0.9527242238961519,-0.9535192186724317,-0.9545262120557194,-0.7949349216365684,-0.7965462301743316,-0.7995498122488344,-0.7995498122488344,-0.7991302767386282,-0.886580525503329,-0.8867262026319609,-0.886633525155081,-0.886633525155081,-0.886580525503329,-0.9254550543270567,-0.9223013716600933,-0.9264490558410511,-0.9176845371648542,-0.9225973710340097,-0.8684562844316642,-0.8679704993567681,-0.8684430345187263,-0.8687288106305762,-0.8688228202901183,-0.6471735985888755,-0.6471735985888755,-0.6471735985888755,-0.6471735985888755,-0.6471735985888755,-0.9161492626883393,-0.9165687981985451,-0.9161492626883393,-0.9161492626883393,-0.9165687981985451,-0.9028854874940362,-0.9028854874940362,-0.9028854874940362,-0.9028854874940362,-0.9028854874940362,-0.805934605238444,-0.8036821200389848,-0.803284622650845,-0.8048746122034044,-0.806332102626584,-0.8580987126613524,-0.8761387396002108,-0.8664894228654727,-0.8618745322532066,-0.8539033575592924,-0.9284154258126415,-0.9195963054087185,-0.9310993300752063,-0.9169744047480924,-0.9332897774953504,-0.9442442796158347,-0.9450392743921143,-0.9439792813570747,-0.9450392743921143,-0.9384143179231165,-0.8489119322035451,-0.8490577531595495,-0.8495876058496968,-0.8491769304623052,-0.849150430636429,-0.9570966951656905,-0.9570966951656905,-0.9570966951656905,-0.9570966951656905,-0.9570966951656905,-0.9563017003894109,-0.9563017003894109,-0.9563017003894109,-0.9563017003894109,-0.9563017003894109,-0.9058010091343618,-0.9146112548486878,-0.8990884409710656,-0.9099963642364217,-0.9137721838282757,-0.955983702478899,-0.955983702478899,-0.955983702478899,-0.955983702478899,-0.955983702478899,-0.926539996547136,-0.926539996547136,-0.926539996547136,-0.926539996547136,-0.926539996547136,-0.9393041746463716,-0.9393041746463716,-0.9393041746463716,-0.9393041746463716,-0.9393041746463716,-0.7990877061249951,-0.8176331225343795,-0.8472334280378624,-0.6401682503466729,-0.8593438484631905,-0.9443538746036506,-0.9443538746036506,-0.9448838711211706,-0.9443538746036506,-0.9435323800014951,-0.956156598570269,-0.9561685163005447,-0.9562161872216471,-0.9562638581427492,-0.9562161872216471,0.2182494876647625,0.22000856035568983,0.17211242076111244,0.21510764421680997,0.20073617729732554,-0.6459063380093066,-0.641591805604491,-0.6412914473970407,-0.6459063380093066,-0.6411722700942849,0.17867251210749796,0.17867251210749796,0.17867251210749796,0.17867251210749796,0.17867251210749796,-0.5970033832636448,-0.6914385026359292,-0.5434219843644214,-0.589650977540423,-0.5666189417517455,-0.84034454644178,-0.84034454644178,-0.8396600126728142,-0.84034454644178,-0.8376945638541807,-0.9318320654193466,-0.9250082883425923,-0.9251937871237244,-0.9346497632576436,-0.9349810110810934,0.3483901515539201,0.3486856798602484,0.34832814795198114,0.3494627472787215,0.3480326196456529,-0.5383911214892781,-0.534195766387218,-0.5379715859790721,-0.534195766387218,-0.5379715859790721,-0.7066936243097599,-0.7066936243097599,-0.7083717663505839,-0.707952230840378,-0.7100499083914079,-0.9199693832585485,-0.9199693832585485,-0.9199693832585485,-0.9199693832585485,-0.9199693832585485,-0.8842752464188061,-0.8884706015208662,-0.8842752464188061,-0.8842752464188061,-0.8842752464188061,0.07991256445916174,0.07991256445916174,0.07991256445916174,0.07991256445916174,0.07991256445916174,-0.6864810669706594,-0.6943645379161882,-0.7094363427292343,-0.6928409331268104,-0.685554292201862,-0.7858972671281058,-0.7889008492026088,-0.7847054941005489,-0.7900926222301661,-0.7900926222301661,-0.9336293675051646,-0.8988079201580658,-0.8996589089087534,-0.9147621872761698,-0.932802214215028,-0.8893160199132025,-0.8921142715774009,-0.8850828107148135,-0.8877667149773781,-0.8871708284635995,-0.9408890771221191,-0.9383718640608832,-0.928722547326145,-0.9341765089588232,-0.9341765089588232,-0.8884740439213067,-0.8587294765589133,-0.8757552090887631,-0.8869498983379625,-0.861687452061472,-0.6592767578914567,-0.665150255034341,-0.673121429728255,-0.6777363203405211,-0.6697651456466069,-0.8239004585268994,-0.8239004585268994,-0.8234809230166935,-0.8234809230166935,-0.8234809230166935,-0.9038312430657319,-0.8943916940860966,-0.9032019398004227,-0.9017335655147017,-0.8922940165350665,-0.8682123602872914,-0.8705959063424058,-0.8682123602872914,-0.8747912614444657,-0.8747912614444657,-0.8759215596227233,-0.8754887741995794,-0.8754887741995794,-0.8755020241125173,-0.8755020241125173,-0.8015432556754466,-0.7961428776328914,-0.8015432556754466,-0.8003647325608275,-0.8003382327349513,-0.24675016174656617,-0.24675016174656617,-0.24675016174656617,-0.25097201667450214,-0.25091901702275016,-0.6662746260258399,-0.6662746260258399,-0.6620792709237798,-0.6620792709237798,-0.6620792709237798,-0.6626643088852102,-0.6626643088852102,-0.6626643088852102,-0.6626643088852102,-0.6626643088852102,-0.9310772981568817,-0.9310507983310056,-0.9310507983310056,-0.9310772981568817,-0.9310507983310056,-0.948422142566663,-0.9456131610238078,-0.9489521390841827,-0.948316143263159,-0.9496676343828346,-0.8951789137470408,-0.8909835586449808,-0.8951789137470408,-0.8951789137470408,-0.8909835586449808,-0.8910242022523474,-0.8886406561972329,-0.8900707838303017,-0.88983242922479,-0.8886406561972329,-0.5867280844920527,-0.5864895860591688,-0.5862510876262846,-0.5820822323501006,-0.5867280844920527,-0.6763949644606719,-0.6682008532178118,-0.6735773391125889,-0.6765670873357827,-0.6493790095019252,-0.8167941581158012,-0.8175361532403289,-0.8181456492354768,-0.8181986488872286,-0.8132166816225425,-0.9054215333245768,-0.9054215333245768,-0.9045824623041647,-0.876473583120362,-0.8961917521000445,-0.30966110664466817,-0.3058852870528141,-0.30966110664466817,-0.30966110664466817,-0.3054657515426081,-0.8845156999151352,-0.8797685805704726,-0.8662329832365664,-0.8916701121076868,-0.8862161504750087,-0.6152341109870906,-0.5820344068209867,-0.5712235744363744,-0.5928693887112088,-0.5936934771699507,-0.04458651689965488,-0.03928655172445651,-0.03928655172445651,-0.041516998801849704,-0.04193653431205571,-0.8381702107474532,-0.8393500660447348,-0.8382536348593823,-0.8379795270630441,-0.8341536215995268,-0.9014171651642569,-0.9018367006744628,-0.9014171651642569,-0.9018486184047384,-0.9018367006744628,-0.9573616934244503,-0.9573616934244503,-0.9573616934244503,-0.9573616934244503,-0.9573616934244503,-0.5068920163227024,-0.8085792120942438,-0.80236507484001,-0.6670575392266863,-0.8208224193036968,-0.9035197282720611,-0.9035197282720611,-0.9035197282720611,-0.9035197282720611,-0.9035197282720611,-0.7980145810822475,-0.8064672948883066,-0.799589822384125,-0.794322499647381,-0.7993377631878946,-0.8141012333312547,-0.8195545391118758,-0.8140482336795027,-0.8183892659101946,-0.8194234440788445,-0.9230258959537563,-0.9234454314639623,-0.9234454314639623,-0.9234454314639623,-0.9234454314639623,-0.791275507216153,-0.791275507216153,-0.791275507216153,-0.7912887571290912,-0.7916950427263592,-0.7964121570358279,-0.7976039300633851,-0.79226980158552,-0.7976304298892612,-0.7922168019337679,-0.9454822000093023,-0.9454822000093023,-0.9454822000093023,-0.9454822000093023,-0.9454822000093023,-0.8325679631517975,-0.8472517060090078,-0.845573563968184,-0.8518665966212738,-0.845573563968184,-0.9423909141864142,-0.9423909141864142,-0.9428104496966202,-0.9423909141864142,-0.9423909141864142,-0.8071545105852702,-0.790792625687236,-0.7652677930677303,-0.8105776281699792,-0.7538735007891074,-0.9530168725997676,-0.9529903727738918,-0.9524209860859891,-0.9530168725997676,-0.9529903727738918,-0.8616280275362911,-0.8820205202180298,-0.8675512965057797,-0.8532775863790608,-0.8834125443400055,-0.9341050208422735,-0.9314517904546499,-0.9298001482397017,-0.9314782902805258,-0.9356471455567098,-0.9129321829790429,-0.8978289046116267,-0.8906968009381243,-0.9086430322234017,-0.9099954344076009,-0.24892134191836027,-0.24893592401396075,-0.24889484209248425,-0.2477030690649271,-0.24889484209248425,-0.9315809585314226,-0.9419953901006876,-0.9476928526640255,-0.9488588450025695,-0.9360329292785893,-0.8787245540787163,-0.8957374422911026,-0.8713311026593145,-0.872894592385998,-0.8770550650485287,-0.9329926698050401,-0.9080169895123926,-0.9250878798743075,-0.9206041364065055,-0.9291510062439705,-0.9439857535888367,-0.9439857535888367,-0.9439857535888367,-0.9439857535888367,-0.9439857535888367,-0.8900575568085524,-0.8917356988493762,-0.8846035951758743,-0.8846035951758743,-0.8904770923187583,-0.12528816352806546,-0.12528816352806546,-0.12528816352806546,-0.12486862801785943,-0.12528816352806546,-0.4891338452218416,-0.4891338452218416,-0.4891338452218416,-0.4891338452218416,-0.4891338452218416,-0.9252775699622661,-0.9261166409826781,-0.9005249748601116,-0.9005249748601116,-0.9269557120030901,-0.7818345434712785,-0.7852576610559873,-0.7852576610559873,-0.7852576610559873,-0.7856771965661935,-0.5170835978605626,-0.4450930089593841,-0.2945672321660107,-0.5432619938246278,-0.5625027551133465,-0.7578017643571517,-0.7601337490342388,-0.7601337490342388,-0.7572452680137559,-0.7601072492083628,-0.9323524335948832,-0.932471610897639,-0.9333654406683068,-0.9333654406683068,-0.932471610897639,-0.9168787184079106,-0.9168522185820346,-0.9168522185820346,-0.9168787184079106,-0.9168787184079106,-0.9560367021306507,-0.9560367021306507,-0.9560367021306507,-0.9560367021306507,-0.9560367021306507,-0.9574941925538304,-0.9574941925538304,-0.9574941925538304,-0.9574941925538304,-0.9574941925538304,-0.8232952907795646,-0.8364127045881805,-0.8365452037175606,-0.8363862047623046,-0.8284362569995071,-0.8988530253374691,-0.8978195321283053,-0.8920557480865908,-0.8914065742663153,-0.8988530253374691,-0.920606099399494,-0.9344507712362922,-0.915571673277022,-0.9277382030729963,-0.930674951644438,-0.9276009016287167,-0.935965112006961,-0.935965112006961,-0.9422581446600509,-0.9363846475171669,-0.9165789531319953,-0.9165789531319953,-0.9161594176217893,-0.9165789531319953,-0.9165789531319953,-0.8705715615220131,-0.8704523842192575,-0.8704523842192575,-0.870464301949533,-0.870464301949533,-0.9270157033673034,-0.9360266167793722,-0.9354454179485854,-0.9271682189103252,-0.9347998811078658,-0.9247108401907732,-0.9249639207192575,-0.9249639207192575,-0.9246989224604978,-0.9249639207192575,-0.9563882922624682,-0.9564147920883447,-0.9563750423495304,-0.9563750423495304,-0.9564015421754064,0.12678693637515331,0.1422799857333966,0.1255951633475961,0.1661154462845402,0.17207431142232607,-0.9209269146397764,-0.9219017535718124,-0.9212224429461048,-0.9219136713020879,-0.9215084684727184,-0.9420420985735889,-0.939524885512353,-0.9412030275531771,-0.9428811695940008,-0.9298755687776148,-0.9103245024945652,-0.9103245024945652,-0.9103245024945652,-0.9103245024945652,-0.9103245024945652,-0.9381662371752929,-0.9382854144780487,-0.9381662371752929,-0.9381662371752929,-0.9382854144780487,-0.9106235278435729,-0.9106235278435729,-0.9102039923333667,-0.9102039923333667,-0.9105043505408171,-0.9471073423983742,-0.9475003780827044,-0.9479994130705383,-0.9479464134187864,-0.9479464134187864,-0.9197441790660665,-0.9168074304946243,-0.9272958182497746,-0.9201637145762726,-0.9268762827395686,-0.8373221391654284,-0.8369026036552225,-0.8373221391654284,-0.8373221391654284,-0.8373221391654284,-0.9504850605233168,-0.9488950709707574,-0.9520485502500003,-0.9502200622645571,-0.9530290438074122,-0.7926398203778551,-0.7896718398797441,-0.7930373177659951,-0.7927723195072349,-0.7885239647534231,0.09395754586878116,0.09394562813850561,0.09505639200469473,0.09493721470193905,0.0943651636487116,-0.9098178534361939,-0.9114291619739572,-0.9125589313995753,-0.9119058711849799,-0.9111288037665067,-0.8576703623028882,-0.8622494997243277,-0.8538682922999221,-0.8713122757024724,-0.8669787377382274,-0.8594202542611928,-0.8590007187509868,-0.8588815414482311,-0.8590007187509868,-0.8590007187509868,-0.9564182996232653,-0.9564050497103271,-0.9564182996232653,-0.9564182996232653,-0.9564182996232653,-0.7154859904294671,-0.717031362943928,-0.7154859904294671,-0.7154859904294671,-0.712836007841868,-0.46948240903042926,-0.46906287352022324,-0.46906287352022324,-0.46948240903042926,-0.46948240903042926,-0.6127311385344415,-0.6127576383603175,-0.6127576383603175,-0.6127576383603175,-0.6127311385344415,-0.9571231949915666,-0.9567521974293028,-0.9571761946433187,-0.9570171956880626,-0.9571761946433187,-0.8612947205801179,-0.8558489344489152,-0.8414772482365385,-0.794503994956582,-0.8535845656965567,-0.2878575980989634,-0.28820321227695506,-0.28401977490517055,-0.28338813520056527,-0.2839959394446194,-0.8434335848195142,-0.842241811791957,-0.838046456689897,-0.838046456689897,-0.839238229717454,-0.08784083670757274,0.24985339559587394,-0.052430254005878044,-0.08520926767571646,0.14822818504840998,-0.9381740038534074,-0.9381263329323052,-0.938102497471754,-0.938102497471754,-0.9380905797414785,-0.9000328953594425,-0.9000328953594425,-0.9001520726621984,-0.9000328953594425,-0.9000328953594425,-0.7215380494569543,-0.7232846989540715,-0.7177197355201134,-0.6765966837819708,-0.6737300245659672,-0.10595991538555333,-0.10595991538555333,-0.11018177031348937,-0.1101552704876134,-0.1101552704876134,-0.9016262569288053,-0.9020722922648875,-0.9016527567546814,-0.9016527567546814,-0.9020722922648875,-0.6719712658370086,-0.27784624084887244,-0.6648915059632015,-0.7193787784902876,-0.6648915059632015,-0.9070266335621775,-0.9070266335621775,-0.9070266335621775,-0.9070266335621775,-0.9070266335621775,-0.9531747209360438,-0.9529362225031599,-0.9537312172794398,-0.9540227153640755,-0.9521412277268801,-0.8896047790164266,-0.8890353923285241,-0.8852769247849867,-0.880973363886529,-0.8845486829692004,-0.9083456103354441,-0.9059620642803299,-0.9016716813811241,-0.9092990287574899,-0.9095373833630013,-0.943219760573134,-0.943219760573134,-0.9427883073326524,-0.9432210927557962,-0.9428015572455901,-0.9362764244630075,-0.9362764244630075,-0.9362764244630075,-0.9362764244630075,-0.9362499246371315,-0.8488126482258603,-0.8484144317008583,-0.8443076778269419,-0.8497394229946578,-0.8493426447433802,-0.8539889963154607,-0.8539889963154607,-0.8539889963154607,-0.8539889963154607,-0.8539889963154607,-0.8192060466576252,-0.8363423322488761,-0.8317927448118588,-0.7695362712155008,-0.8360250534752266,0.5206803646748228,0.49406067653658914,0.5164523102649397,0.47431758712211286,0.5191022928525388,-0.8594315099138259,-0.8636268650158858,-0.8594315099138259,-0.8594315099138259,-0.8636268650158858,-0.10579534284924116,0.010815665961493937,0.3053226205572245,-0.10698711587679834,0.3576794124853544,-0.6093914550359393,-0.6083314620008998,-0.6047765644236732,-0.6016188938376036,-0.6083314620008998,-0.9049157697064476,-0.9047965924036918,-0.9049157697064476,-0.9047965924036918,-0.9047965924036918,-0.7875843286964144,-0.8022680715536247,-0.7938773613495044,-0.7963945744107406,-0.7938773613495044,0.3762913877401527,0.3765828858247885,0.3764768865212846,0.37662270747728877,0.37646370852203287,-0.754931134970354,-0.7523522692467294,-0.749892247144072,-0.7479312600292485,-0.7490707525419164,-0.9325893603579908,-0.9298809357482456,-0.9204007383605539,-0.9277448406410639,-0.9298690180179701,-0.4984897486131783,-0.49892253403632225,-0.4991370531812825,-0.4985029985261162,-0.4984897486131783,-0.9554007063096271,-0.9554007063096271,-0.9554007063096271,-0.9554007063096271,-0.9554007063096271,-0.21370104252077243,-0.2161908842224744,-0.21945665636303996,-0.20999431436001081,-0.21936131452083535,-0.9381509420462556,-0.9381509420462556,-0.9381509420462556,-0.9385704775564617,-0.9381509420462556,-0.9405802730162102,-0.9425454514378602,-0.9401607375060043,-0.9431107359903842,-0.9408673093970362,-0.6838876546363704,-0.6762031335591875,-0.6762031335591875,-0.6811465766729886,-0.6813277575776833,-0.9565136989964188,-0.9565136989964188,-0.9564606993446666,-0.9565136989964188,-0.9564871991705426,0.5089897696709216,-0.9060369386423178,-0.9102322937443781,-0.9102587935702537,-0.9060634384681939,-0.9060634384681939,-0.8235398553499007,-0.8235398553499007,-0.827735210451961,-0.8235398553499007,-0.8235398553499007,-0.9493058901855217,-0.9493058901855217,-0.9493058901855217,-0.9493058901855217,-0.9493058901855217,-0.945305354238807,-0.939431857095923,-0.9348169664836569,-0.9348169664836569,-0.941529534646953,-0.8920907292058255,-0.874470237777173,-0.8878953741037652,-0.8765679153282032,-0.8748897732873792,-0.957202838296567,-0.957202838296567,-0.957202838296567,-0.957202838296567,-0.957202838296567,-0.7284922120035363,-0.7620285529941407,-0.7536643426158967,-0.7158796468714799,-0.7242703570756001,-0.20679146272630824,-0.3679115164841263,-0.39301731672338974,-0.18596589272570235,-0.3286439225380288,-0.9521942273786321,-0.9521942273786321,-0.9521942273786321,-0.9521942273786321,-0.9521942273786321,-0.5667828494567384,-0.5667828494567384,-0.5667828494567384,-0.5667828494567384,-0.5667828494567384,-0.9396698776553624,-0.9396831275683003,-0.9396831275683003,-0.9396831275683003,-0.9396566277424244,-0.9431636004436447,-0.9461003490150868,-0.9339338192191123,-0.9431636004436447,-0.9431636004436447,-0.8114817966915601,-0.8121849427778187,-0.8171692830286277,-0.8126163960183003,-0.8118393285998271,-0.9351841754519296,-0.9351841754519296,-0.9351841754519296,-0.9351576756260537,-0.9351841754519296,-0.9308883673743347,-0.9455427710837583,-0.9571496948174425,-0.9564871991705426,-0.9537709670182536,0.3226339774662754,0.3230535129764813,0.3226339774662754,0.3226339774662754,0.3230535129764813,-0.9253472800127767,-0.9253472800127767,-0.9253472800127767,-0.9253472800127767,-0.9253472800127767,-0.9371266135081295,-0.9371266135081295,-0.9371266135081295,-0.9371266135081295,-0.9371266135081295,-0.9320174416673366,-0.9295794576867454,-0.9317789432344529,-0.9322029404484685,-0.9310634479358011,-0.9545792117074716,-0.9545792117074716,-0.9545792117074716,-0.9545792117074716,-0.9545792117074716,-0.9319326476364352,-0.9319326476364352,-0.9319326476364352,-0.9319326476364352,-0.9319326476364352,-0.8791458940239748,-0.8795654295341807,-0.8791458940239748,-0.8795654295341807,-0.8795654295341807,-0.8240668775457778,-0.8233750738803046,-0.82686293456675,-0.8229611929954747,-0.8220362538051434,-0.845413984938402,-0.8459526977513641,-0.845056453030135,-0.8491856765082351,-0.8459526977513641,0.15167379426006744,0.15393816301242608,0.15155461695731173,0.15155461695731173,0.15155461695731173,-0.7762304392032932,-0.7764422939829287,-0.7769850370175827,-0.7773957124049744,-0.7758859414669053,-0.7793797579074037,-0.7445848103861811,-0.7617592664787513,-0.7844406838557518,-0.7567513401821553,-0.881101568658568,-0.8825583399448851,-0.8852969237606282,-0.8813665669173277,-0.8822933416861254,-0.9299589356520844,-0.9299589356520844,-0.9299589356520844,-0.9299589356520844,-0.9299589356520844,-0.9468942622034339,-0.9468942622034339,-0.9468942622034339,-0.9468942622034339,-0.9468942622034339,-0.912955916093836,-0.912955916093836,-0.9125363805836298,-0.912955916093836,-0.912955916093836,0.16305455796307317,0.20426983916833177,0.2439850897803325,0.24496741588708368,0.21294912182733183,-0.9379964047948094,-0.9379964047948094,-0.9379964047948094,-0.9379964047948094,-0.9379964047948094,-0.7667911698504832,-0.7672107053606894,-0.7667911698504832,-0.7630153502586294,-0.7667911698504832,-0.8933471874322721,-0.8769780576825545,-0.8757624491944463,-0.8912495098812421,-0.8935493956048205,-0.9533222678205179,-0.9534414451232734,-0.9533222678205179,-0.9533222678205179,-0.953679799728785,-0.9574915425712429,-0.9574915425712429,-0.9574915425712429,-0.9574915425712429,-0.9574915425712429,-0.871613306190422,-0.871613306190422,-0.871613306190422,-0.871613306190422,-0.871613306190422,-0.834438950884771,-0.8213074894153229,-0.819629347374499,-0.8267614510480013,-0.8234051669663532,-0.9174899911236074,-0.9174899911236074,-0.9174899911236074,-0.9174899911236074,-0.9174899911236074,-0.9348008574465545,-0.8886519513238935,-0.7334238125476705,-0.9347889397162786,-0.9347889397162786,-0.9322116009341561,-0.9322116009341561,-0.9322116009341561,-0.9322116009341561,-0.9322116009341561,-0.8278119057733602,-0.8252272378725302,-0.8275185721102583,-0.8258049053111522,-0.8288271457299915,-0.8416634536498708,-0.8458504261382773,-0.8478379130789768,-0.8408154592218389,-0.8129906420520475,-0.9134199021227756,-0.912571907694744,-0.9138894429620777,-0.9125763693985536,-0.9125233697468017,-0.8927956553466712,-0.8927956553466712,-0.8927956553466712,-0.8927956553466712,-0.8886268000704873,-0.947505915609169,-0.9474144984012655,-0.947505915609169,-0.9474409982271413,-0.947505915609169,-0.4119295507654274,-0.4161249058674874,-0.40656422182115404,-0.4143263467334796,-0.41609840604161136,-0.03173595110331841,-0.04006135813218967,-0.04778026348856895,-0.0313164155931124,0.009758314514674746,-0.9426233857078691,-0.9428617403133805,-0.9427425630106248,-0.9428617403133805,-0.9427425630106248,-0.8431531222355728,-0.8431531222355728,-0.8431531222355728,-0.8431531222355728,-0.8427335867253667,-0.5248451009636962,-0.5040427376510428,-0.5462311795824843,-0.5079124313658001,-0.5348090354930692,-0.8997661562411466,-0.9039615113432068,-0.9064787244044429,-0.8980880142003228,-0.8964098721594986,-0.9246223320240589,-0.9243219738166085,-0.9242027965138527,-0.9246223320240589,-0.9242027965138527,-0.9573855432677388,-0.9573855432677388,-0.9573855432677388,-0.9573855432677388,-0.9573855432677388,-0.9268762148521578,-0.9268762148521578,-0.9268762148521578,-0.9268762148521578,-0.9268762148521578,-0.900587618037552,-0.900587618037552,-0.900587618037552,-0.900587618037552,-0.900587618037552,-0.8759427272580087,-0.8759692270838846,-0.8755496915736785,-0.8755496915736785,-0.8763887625940906,-0.8453010980144102,-0.8453143479273484,-0.8453010980144102,-0.8453143479273484,-0.8453130157446858,0.6004631932634239,0.599204586732806,0.5908138765286858,0.6029804063246599,0.6193422912226944],\"xaxis\":\"x\",\"y\":[-0.12139381674865618,-0.12479024624039686,-0.10387709419714417,-0.1237822253719781,-0.1096535222830464,-0.21397001886880587,-0.210080028832254,-0.20281871409735722,-0.20593070612659864,-0.2082647001485297,0.10942704639216502,0.11933676213505916,0.1261226558146323,0.1193131020669001,0.1120203730831996,-0.21931486808282097,-0.21931486808282097,-0.2161555559172614,-0.21172416855498943,-0.22663463992178673,0.19414373640964586,0.19407304754547758,0.19408487757955703,0.19407304754547758,0.1966782042705916,-0.31443157990309306,-0.3153719560935677,-0.3275740427224841,-0.3335303533626737,-0.31795600197814317,-0.08057436241180747,-0.07350547599497192,-0.07798103572077292,-0.07798103572077292,-0.07350547599497192,0.15034767264551188,0.15034767264551188,0.15034767264551188,0.15030035250919382,0.15034767264551188,-0.26741720742213354,-0.2650832134002025,-0.26741720742213354,-0.2650832134002025,-0.2676765400912371,0.15537605419096867,0.1415822344542523,0.15554167466808186,0.15357881709152804,0.15118851346712853,-0.28786361809354577,-0.28786361809354577,-0.28786361809354577,-0.28786361809354577,-0.28786361809354577,1.7477180308657385,1.6260992452300569,1.664414637015168,2.0592358737621934,1.6405095728878796,-0.20408614889083995,-0.2038268162217365,-0.2038268162217365,-0.2038268162217365,-0.2038268162217365,0.22614367335791238,0.23321255977474806,0.22871333998078797,0.22612001328975345,0.22612001328975345,-0.42598532607171524,-0.4240925206189926,-0.4243291213005828,-0.4267178601039993,-0.4271683294796669,-0.11320651577237485,-0.10905719306671957,-0.11561161915993277,-0.12046783050727174,-0.11502184445609907,-0.2987554055971869,-0.2987554055971869,-0.2987554055971869,-0.2987554055971869,-0.2987554055971869,-0.18023718702608127,-0.09901568209664012,-0.16185808234230867,-0.09894499323247176,-0.17750398139167434,-0.17080424238320832,-0.14901842370035953,-0.17516140611977804,-0.16789946655882845,-0.1519231995247394,-0.7255179372273431,-0.4636705049208719,-0.8388393709882388,-0.41785500455624613,-0.57416173161206,0.09669549676641279,0.09386794219967856,0.09033349899126071,0.10094865865059362,0.09576476555786427,-0.20413607362623265,-0.2047275753302084,-0.20418339376255074,-0.20468025519389038,-0.20437267430782294,-0.45401222232238336,-0.18141287164196843,-0.4788010463321031,-0.2577578193500661,-0.2656873660765047,-0.20347514460746968,-0.25159879516229716,-0.20397200603880933,-0.19420039788912866,-0.22791506693510497,-0.20879960090972843,-0.20879960090972843,-0.20879960090972843,-0.2090589335788319,-0.2090589335788319,0.2062610764163922,0.20623834442887906,0.20910028459547614,0.21002395533432433,0.20860435124478233,-0.19584039209972287,-0.1939239265788412,-0.2001465245046669,-0.1947047088280893,-0.1939239265788412,0.14181900437308612,0.14181900437308612,0.14181900437308612,0.14181900437308612,0.14181900437308612,-0.21526716293099782,-0.21524350286283886,-0.21526716293099782,-0.21526716293099782,-0.21524350286283886,-0.22724423321004614,-0.22724423321004614,-0.22465090651901154,-0.22724423321004614,-0.22724423321004614,-0.18698334837096223,-0.1841306890108242,-0.1817966949888931,-0.1841306890108242,-0.19087333840751408,0.21215542911433738,0.21206078884170126,0.21217908918249645,0.2120134687053832,0.21274600273766736,-0.1956274514862916,-0.1956274514862916,-0.19560379141813247,-0.1956274514862916,-0.19560379141813247,-0.21225394690899796,-0.21225394690899796,-0.21225394690899796,-0.21225394690899796,-0.21225394690899796,0.23255196048300408,0.2302179664610731,0.23540461984314215,0.23255196048300408,0.22995863379196968,-0.02265736872711406,-0.02645288520305665,-0.017466532993826726,-0.016070588972443765,-0.012352941281816604,-0.006231215093563675,-0.0036378884025291144,-0.0036378884025291144,-0.010706774819364733,0.003430998014306468,-0.19581673203156383,-0.19581673203156383,-0.19581673203156383,-0.19581673203156383,-0.19581673203156383,-0.2722671722145273,-0.2725265048836307,-0.2725265048836307,-0.2722671722145273,-0.2725265048836307,-0.12366873603443171,-0.12340940336532834,-0.12366873603443171,-0.11634051694849268,-0.12340940336532834,-0.3167841280356065,-0.31647654714953916,-0.316405566945062,-0.3163937369109825,-0.31645288708138003,-0.2927723066253554,-0.34256417909321907,-0.2989962906838385,-0.3062576054187352,-0.307813601433356,-0.20387730948440907,-0.2019360481844773,-0.21161447391410543,-0.23382442578196436,-0.20887720539197127,-0.14491825726179142,-0.14517758993089486,-0.13810870351405924,-0.14517758993089486,-0.13810870351405924,-1.2318016662767244,-1.2428838470049874,-1.2477647756622807,-1.2450039723328414,-1.2268506854955998,0.2723540725164097,0.27494739920744415,0.2723540725164097,0.27261340518551314,0.2723540725164097,-0.2088915757909666,-0.2159604622078022,-0.2088915757909666,-0.2093618637510598,-0.21148490248200116,-0.027722331516320607,-0.027935272129751873,-0.027272498880990245,-0.027651351311843493,-0.027864000584966096,-0.20109654212123987,-0.19982414256620942,-0.20102585325707156,-0.20229825281210204,-0.204701674193826,-0.20447306270719764,-0.20447306270719764,-0.20473239537630114,-0.20473239537630114,-0.20473239537630114,-0.193781966169887,-0.19377013613580743,-0.19377013613580743,-0.19377013613580743,-0.193781966169887,-0.06511040012149477,-0.06511040012149477,-0.06511040012149477,-0.06511040012149477,-0.06511040012149477,-0.1902370121711501,-0.2011327687866214,-0.1806454879274483,-0.17279481899017624,-0.18297948194937938,-0.7732227715719482,-0.7000395586932797,-0.7070800426751083,-0.7591249091156417,-0.7754396413000892,-0.1947047088280893,-0.1947047088280893,-0.1947047088280893,-0.1947047088280893,-0.1947047088280893,-0.18451296242395238,-0.18191963573291778,-0.18425362975484882,-0.18321629907843506,-0.19099627915153877,-0.19364616179136637,-0.19364616179136637,-0.1924631583834148,-0.1950657658809085,-0.1950657658809085,-0.23335715381981254,-0.22298384705567417,-0.22298384705567417,-0.2284298331068467,-0.23387581915801942,-0.17177223618051662,-0.1715365635795722,-0.17245546475404117,-0.17245546475404117,-0.1715365635795722,-0.11523845077614986,-0.11523845077614986,-0.11523845077614986,-0.11523845077614986,-0.11523845077614986,-0.23493392727309673,-0.23493392727309673,-0.23493392727309673,-0.23493392727309673,-0.23467459460399326,-0.1446310022062642,-0.1446310022062642,-0.1446310022062642,-0.1446310022062642,-0.1446310022062642,0.6998742276067661,0.6928053411899308,0.6928053411899308,0.6933240065281375,0.7001335602758697,0.07038182159083166,0.07038182159083166,0.07038182159083166,0.07038182159083166,0.07038182159083166,0.17086274539740787,0.17012036665348576,0.17007333785747641,0.1745866455728277,0.1776832010985736,-0.22143253677101574,-0.207994558113954,-0.2200884241280307,-0.2178017502424176,-0.20846590331584286,-0.11329028808695127,-0.12009891375403743,-0.12007525368587843,-0.12016989395851446,-0.1060794412611614,-0.016912813619909553,-0.016912813619909553,-0.016912813619909553,-0.01693647368806859,-0.01693647368806859,-0.1910536022904018,-0.1931993730088563,-0.19527361386022551,-0.18938007183647276,-0.191195400520197,-0.20594930755640636,-0.20594930755640636,-0.20594930755640636,-0.20620864022550975,-0.20620864022550975,-0.21049755733330344,-0.21049755733330344,-0.21047389726514434,-0.21049755733330344,-0.21047389726514434,-0.34306003056357626,-0.1539502129611918,-0.20361950463949705,-0.1925645943370608,-0.19297970245977245,-0.20024162282931432,-0.20024162282931432,-0.20024162282931432,-0.2007602881675213,-0.20050095549841782,-0.11016863201162946,-0.10309974559479387,-0.10309974559479387,-0.10050641890375919,-0.10757530532059488,-0.07785250734163418,-0.07525918065059964,-0.06819029423376403,-0.06819029423376403,-0.07525918065059964,0.10108343231325706,0.08301215029133062,0.07594470859973981,0.09665377755253972,0.05307177940658325,-0.15051695320589575,-0.1531576000332483,-0.153630801396429,-0.15386740207801933,-0.15322858023772554,-1.5679809388989199,-1.5677216062298167,-1.5677216062298167,-1.5682402715680233,-1.5679809388989199,-0.25560736290132513,-0.27012999237111873,-0.2597566856069805,-0.241862731438842,-0.25016137685015255,-0.25834846549830837,-0.2557551388072739,-0.2557551388072739,-0.25549580613817047,-0.25834846549830837,-0.1505277777916275,-0.150268445122524,-0.1505277777916275,-0.1509753337642076,-0.14956155648084038,-0.12057420178116524,-0.12764308819800083,-0.12290819580309632,-0.12764308819800083,-0.12031486911206182,-0.2177298435756862,-0.21874356824366079,-0.2207695187946453,-0.23185031792279498,-0.22171292104019025,0.017875052389104144,0.01761571972000066,0.017875052389104144,0.017875052389104144,0.017875052389104144,0.11680655174504907,0.11680655174504907,0.11680655174504907,0.11680655174504907,0.11680655174504907,-0.22057333898473164,-0.22083267165383502,-0.22057333898473164,-0.22083267165383502,-0.22083267165383502,-0.1949413095096796,-0.1949413095096796,-0.1949413095096796,-0.1949413095096796,-0.1949413095096796,-0.18541760281047945,-0.18548858301495652,-0.18544126287863844,-0.18541760281047945,-0.18544126287863844,0.005746212272771938,0.006029205010034461,0.005769872340930976,0.006029205010034461,0.006029205010034461,-0.18800938547431584,-0.16116136834436606,-0.11580367654612339,-0.14723145708861535,-0.13873617834465907,-0.35862224499753753,-0.37016449635211124,-0.3933736217250142,-0.3558769146572092,-0.35625624790370547,-0.20806289650284937,-0.20806289650284937,-0.20806289650284937,-0.20782629582125903,-0.20832222917195284,-0.19684594499648173,-0.19684594499648173,-0.1968577750305613,-0.1968577750305613,-0.1968577750305613,0.05427849896082487,0.05427849896082487,0.053642299183309664,0.056399164885875576,0.05505607646667681,-0.2164787225548229,-0.2164787225548229,-0.21577183391313925,-0.2164787225548229,-0.21577183391313925,-0.2039497569657612,-0.2039497569657612,-0.2039497569657612,-0.2039497569657612,-0.2039497569657612,-0.3242635026897474,-0.324004170020644,-0.324004170020644,-0.324004170020644,-0.324004170020644,0.04565797983486008,0.045929142538043026,0.045940972572122526,0.04568163990301911,0.04565797983486008,-0.08633127376014152,-0.07926238734330594,-0.07926238734330594,-0.0818557140343405,-0.0818557140343405,-0.14928740980574845,-0.14928740980574845,-0.1507011870891156,-0.14999429844743195,-0.14928740980574845,-0.2877595558786234,-0.2924915695104299,-0.29485757632633325,-0.29485757632633325,-0.2972235831422366,-0.20549230179932793,-0.20549230179932793,-0.20549230179932793,-0.20549230179932793,-0.20549230179932793,-0.23475718438202192,-0.21478762880378666,-0.23546792648406215,-0.2076037908378883,-0.2087640622583268,-0.007190431939046944,-0.007024520121624965,-0.006953831257456619,-0.007024520121624965,-0.015678922445424542,0.6035115585067594,0.6110322059107596,0.6360494610971257,0.5235701920718522,0.03141877777426753,0.03141877777426753,0.03141877777426753,0.03141877777426753,0.03141877777426753,-0.11399254314575065,-0.11658586983678525,-0.11658586983678525,-0.11658586983678525,-0.11632653716768179,-0.17991009702671962,-0.17991009702671962,-0.1798982669926401,-0.17991009702671962,-0.17991009702671962,0.13235682994198086,0.11911522629526551,0.11392803231599956,0.2449148310436927,0.2736162579378978,-0.2771924108731634,-0.2641445797316131,-0.26121614383907427,-0.24816831269752399,-0.25978741599504335,-0.08970751923456634,-0.09696883396946311,-0.09230084592560085,-0.10474881404256683,-0.10163682201332537,-0.1336024323810492,-0.13217063408196061,-0.12484529375911944,-0.13430932102273271,-0.13430932102273271,-0.1942078473967495,-0.1942078473967495,-0.1942078473967495,-0.1942078473967495,-0.1942078473967495,0.01789128488166704,0.027553497989537233,0.027553497989537233,0.027553497989537233,0.027553497989537233,-0.23038638187196797,-0.23010338913470543,-0.23012704920286448,-0.23064571454107136,-0.23064571454107136,-0.22462769932576937,-0.22462769932576937,-0.2246040392576103,-0.2246040392576103,-0.22462769932576937,0.8006253882999174,0.7933634487389678,0.6451217171636137,0.60416078657479,0.5037439888269017,-0.1267031059364847,-0.12667944586832572,-0.12666761583424624,-0.12666761583424624,-0.12666761583424624,3.688541018375427,3.566504411018691,3.7834272148710975,3.7040436204100335,-0.22689032048319857,-0.22066633642471561,-0.22611232247588808,-0.21988833841740524,-0.2231885537501234,-0.10283678830262434,-0.10283678830262434,-0.10283678830262434,-0.10283678830262434,-0.10283678830262434,0.026599634267111986,0.006823447064206997,0.03150185018667387,0.0008157346128136452,0.02848607231646299,-0.29128971152662253,-0.29128971152662253,-0.29128971152662253,-0.29128971152662253,-0.29128971152662253,0.09901342739479291,0.0949049282609343,0.07350789787260162,0.08213128767361737,0.0891332697394107,-0.19399490678331824,-0.19399490678331824,-0.19399490678331824,-0.19399490678331824,-0.19399490678331824,-0.1720117832832037,-0.16826352544042833,-0.16687166018336785,-0.10791836688791355,-0.16626354463836251,-0.2256107604264269,-0.2124366608359713,-0.2121773281668678,-0.22120210505166815,-0.21220326143377818,-0.13274141527449568,-0.1254131961885567,-0.1256725288576602,-0.13274141527449568,-0.13248208260539227,-0.1129097031688751,-0.11527570998477833,-0.11501637731567485,-0.11501637731567485,-0.11527570998477833,1.423990327132406,1.4402231205005274,1.4133700923258141,1.3905837439745186,1.3705919461902076,-0.2736068110937211,-0.2761883077506761,-0.27334747842461765,-0.27359498105964153,-0.2736068110937211,0.08079445707769803,0.06309293122762073,0.06756849095342174,0.06335226389672415,0.0843354781065911,-0.7752188419443473,-0.7817021586719336,-0.7762561726207612,-0.7817021586719336,-0.7778121686353818,-0.025849707269991924,-0.02774251272271463,-0.025849707269991924,-0.024785004202835467,-0.02774251272271463,-0.2637852398516747,-0.26834049603861737,-0.2635259071825714,-0.2688818933643373,-0.2723923942296988,-0.1901298053012915,-0.1901298053012915,-0.1901298053012915,-0.1901298053012915,-0.1901768340973008,-0.11367995637087361,-0.11497661971639087,-0.11815930060980072,-0.11886660975294276,-0.11860727708383928,-0.18312679418980407,-0.18053346749876947,-0.1806041563629379,-0.18549280100570742,-0.1829701631788412,-0.5264092011148407,-0.5264092011148407,-0.5264092011148407,-0.5264092011148407,-0.5290025278058753,-0.225836611624364,-0.21918906055232149,-0.22581387963685076,-0.2255772789552605,-0.21968499390301538,-0.10549919499934303,-0.10549919499934303,-0.10549919499934303,-0.10549919499934303,-0.10549919499934303,-0.931824544000231,-0.931824544000231,-0.931824544000231,-0.931824544000231,-0.931824544000231,-0.1662635426836336,-0.16623988261547457,-0.16623988261547457,-0.1662635426836336,-0.16623988261547457,0.3813267808548573,0.3760945434020234,0.3789927868329261,0.38709984492909244,0.42409228217233724,-0.21662320077318986,-0.21662320077318986,-0.21662320077318986,-0.21664686084134885,-0.21662320077318986,-0.21885251635936365,-0.21885251635936365,-0.21934844971005737,-0.21885251635936365,-0.21934844971005737,0.7200146046377105,0.7205068586838301,0.7160337827942466,0.7177735569062825,0.7197353993244617,-0.19046629038107526,-0.19046629038107526,-0.19048995044923436,-0.19048995044923436,-0.19048995044923436,-0.21113596093847553,-0.210876628269372,-0.210876628269372,-0.21113596093847553,-0.210876628269372,-0.06205243134315003,-0.07173830451917929,-0.07173830451917929,-0.06275931998483363,-0.06914497782814473,-0.1958640521678819,-0.1958640521678819,-0.1958640521678819,-0.19588771223604093,-0.1958640521678819,-0.06813223625682417,-0.06813223625682417,-0.072540891631583,-0.07020689760965179,-0.06813223625682417,-0.31494725244890015,-0.31494725244890015,-0.31494725244890015,-0.31494725244890015,-0.31494725244890015,-0.1648494715242305,-0.16925812689898928,-0.17606768064672146,-0.1750303499703076,-0.17081412291361003,-0.3808769998725164,-0.38078235959988027,-0.3811845807585838,-0.3808533398043573,-0.3809006599406754,-0.10739070950606595,-0.10739070950606595,-0.10739070950606595,-0.1074613983702343,-0.10739070950606595,-0.23836210830319257,-0.2409436049601477,-0.2383502782691131,-0.23836210830319257,-0.2409436049601477,-0.22702619414137382,-0.2296195208324084,-0.22702619414137382,-0.2296195208324084,-0.2296195208324084,0.15212149051262647,0.14703189229250488,0.14689051456416816,0.15424215643767716,0.16343170877956348,0.8618137604826773,0.4601321559845218,0.7324606979264012,0.10225388480118525,0.1320981143682068,0.160890359082179,0.2922291488726886,0.2613761901465501,-0.22756078867507734,-0.20767233835465548,-0.2051731113390603,-0.20745978522467343,-0.20626093387717914,-0.19881784836517746,-0.19881784836517746,-0.19881784836517746,-0.19881784836517746,-0.19881784836517746,0.27277882977335377,0.3184213795355622,0.30080949002404034,0.2732533227480316,0.26830327004755283,0.8990311313101648,0.9222488963541896,0.787372212798496,0.7819595311527926,0.7979871960360992,-0.168152547779885,-0.16963701392742048,-0.1667387704965178,-0.1694956361990837,-0.16690230950804916,-0.04443781193661581,-0.016162266269273418,-0.009093379852437774,-0.04443781193661581,-0.04443781193661581,-0.18770082693963613,-0.1876889969055566,-0.18746422625804582,-0.1876889969055566,-0.18745239622396628,-0.20392702497824808,-0.20392702497824808,-0.2041863576473515,-0.20392702497824808,-0.20392702497824808,-0.245271411940848,-0.22223789550095274,-0.22553267685464082,-0.2251412517962034,-0.2208986874426256,-0.10349853645754377,-0.10349853645754377,-0.10349853645754377,-0.10563247714191874,-0.10635119581768175,0.07577154693242506,0.0758217804718306,0.07588984727322025,0.0757952070005841,0.07563249992655835,-0.2309154817349671,-0.23098617059913557,-0.23098617059913557,-0.23328148855087052,-0.22854947491906386,-0.26869575652064964,-0.26869575652064964,-0.26869575652064964,-0.26869575652064964,-0.26869575652064964,-0.1857517571677932,-0.1857517571677932,-0.1857517571677932,-0.18568106830362502,-0.18568106830362502,-0.21062979701460988,-0.2108184408195451,-0.21062979701460988,-0.21055910815044163,-0.21055910815044163,-0.15445058569617157,-0.15782151705193836,-0.17366077415999384,-0.16597297900845012,-0.1615359419057004,-0.15107424637635422,-0.15107424637635422,-0.15133357904545766,-0.15107424637635422,-0.15107424637635422,-0.20491197687999252,-0.20491197687999252,-0.20491197687999252,-0.20491197687999252,-0.20491197687999252,-0.21696154979494806,-0.18444911631836308,-0.24004854941947548,-0.1856031085025085,-0.20727378395817306,-0.23404551548856745,-0.2290972949967825,-0.22813107368599553,-0.22485596314668113,-0.2344930714611476,-0.4266823381044961,-0.4266823381044961,-0.42927566479553064,-0.4240890114134615,-0.4266823381044961,-0.11227470014700248,-0.10544004160586654,-0.11348971634892631,-0.10167137052174903,-0.11253403281610597,-0.159158686847361,-0.15727224879800994,-0.1565653601563264,-0.16038424082725147,-0.15552802947991257,-0.2962479920362412,-0.29365466534520657,-0.29339533267610324,-0.2962479920362412,-0.2959886593671377,-0.18952862786397626,-0.18952862786397626,-0.18952862786397626,-0.18952862786397626,-0.18952862786397626,0.5457986547467386,0.39027132354227584,0.9628392932718801,0.48925939344613334,-0.009807839811306736,-0.00928917447309976,-0.009807839811306736,-0.009548507142203245,-0.009548507142203245,-0.19825371905194425,-0.19825371905194425,-0.19825371905194425,-0.19825371905194425,-0.19825371905194425,-0.20263476702164301,-0.20239909442069862,-0.20264659705572252,-0.20264659705572252,-0.20265842708980203,0.3083341786840271,0.29160307915932127,0.2807655216583683,0.27511041252489976,0.2802928608923844,-0.18831072805493304,-0.17972932718694895,-0.19177634762588572,-0.18524600210228995,-0.18439731523081118,-0.2032741200828281,-0.20027191348940943,-0.20231991202698985,-0.2028381568637383,-0.19734039576015933,-0.1653651405393285,-0.1674945466736415,-0.16725794599205113,-0.1674945466736415,-0.16609767457161256,-0.16228992957920682,-0.1616067010056823,-0.1613473683365788,-0.16203059691010344,-0.1613473683365788,0.9024337273497679,0.886366931899433,0.8715731397264564,0.8840329378775024,0.8741782964515705,-0.2649962940035108,-0.26501995407166984,-0.2649962940035108,-0.2649962940035108,-0.26501995407166984,0.26545891297211016,0.250354918827652,0.24752736426091781,0.2524755847527027,0.29161379271440185,0.2975269338615305,0.2975269338615305,0.2975269338615305,0.2975269338615305,0.2975269338615305,-0.19434980780570377,-0.19434980780570377,-0.19434980780570377,-0.19434980780570377,-0.19434980780570377,-0.13647809751723894,-0.13577384000374543,-0.14475202561859496,-0.13662373723076757,-0.14508280852080999,0.4950036160609887,0.4912180051555435,0.49308807862075293,0.4968964215137114,0.49190507521280125,-0.22879735046156896,-0.2399486552330177,-0.24409797793867297,-0.23683666320377608,-0.2347620018509485,-0.20698427222600424,-0.20698427222600424,-0.20698427222600424,-0.20724360489510774,-0.20698427222600424,-0.19098710322088286,-0.19098710322088286,-0.19098710322088286,-0.19098710322088286,-0.19098710322088286,-0.33217886587229867,-0.33217886587229867,-0.33217886587229867,-0.33217886587229867,-0.33217886587229867,0.48862525844935384,0.5743917002717156,0.4859826382758587,0.5954740219581488,0.5815788870293463,-0.124932697763087,-0.14156944835546537,-0.12963269860092147,-0.13433557820185368,-0.1412008048117171,0.24438998129665312,0.24438998129665312,0.24446067016082154,0.24446067016082154,0.24446067016082154,-0.19953460502648107,-0.19953460502648107,-0.1997939376955845,-0.1997939376955845,-0.1997939376955845,-0.19382928630620508,-0.19382928630620508,-0.19382928630620508,-0.19382928630620508,-0.19382928630620508,0.013538398531396871,0.013538398531396871,0.013538398531396871,0.013538398531396871,0.013538398531396871,-0.08302213024826152,-0.193781966169887,-0.1937606721085439,-0.193781966169887,-0.193781966169887,-0.1937606721085439,-0.18736464093269697,-0.18737647096677654,-0.18737647096677654,-0.18736464093269697,-0.18737647096677654,0.02860524807588411,0.029571469386671077,0.02860524807588411,0.028864580744987593,0.028864580744987593,-0.18374540476288512,-0.18570919042008496,-0.1820655399235938,-0.1828699822410009,-0.18760199587280751,0.05969832717659297,0.060591935803920895,0.06558421018547693,0.06345480405116394,0.0672167548884502,0.3561427890663333,0.3561427890663333,0.3561427890663333,0.3561427890663333,0.3561427890663333,-0.16873335081564253,-0.1684760034689805,-0.16383245046017564,-0.16918289211066412,-0.16461031930633627,-0.13097574397924372,-0.12838241728820918,-0.12838241728820918,-0.13097574397924372,-0.12838241728820918,-0.19970896571285668,-0.19996829838196015,-0.19970896571285668,-0.19970896571285668,-0.19970896571285668,-0.21244218478753452,-0.19830441195386325,-0.1672013117197867,-0.15942553666126752,-0.19830441195386325,0.2527718503160905,0.2951851688171042,0.23863407748241935,0.3022540552339397,0.2951851688171042,-0.3567675964536393,-0.35702692912274275,-0.3567675964536393,-0.3567675964536393,-0.3579680456401262,-0.2202364596226833,-0.2202482896567627,-0.2202364596226833,-0.2202482896567627,-0.2202482896567627,-0.18881299901303047,-0.18881299901303047,-0.1887893389448714,-0.1887893389448714,-0.1887893389448714,-0.19600601257683614,-0.19600601257683614,-0.19600601257683614,-0.19600601257683614,-0.19600601257683614,-0.2335494487762805,-0.2361427754673151,-0.2335494487762805,-0.2335494487762805,-0.2361427754673151,-0.2297216097034584,-0.24084184173820403,-0.25385487922567224,-0.248649664230685,-0.25290847649931086,-0.235691452779683,-0.235691452779683,-0.2354321201105796,-0.235691452779683,-0.235691452779683,-0.19397124671515922,-0.19404222691963632,-0.19397124671515922,-0.19404222691963632,-0.19408954705595438,0.2699934929359569,0.2631612072007117,0.30318492680841047,0.1634055106885565,0.12512600653190886,0.6229316185629635,0.6387201568450415,0.6429851487633017,0.6403935581378208,0.6384855414858926,0.011674757507007392,0.006002743192200627,0.011254350242860063,0.009337884721978424,0.014159064663705869,0.0009054819476784981,-0.019687281492083715,-0.013618397174220592,-0.022592057316463555,0.010812864663904458,0.6781440542184909,0.7054831861411825,-0.06026720845488185,-0.060312162584384044,-0.060312162584384044,-0.06012381011975764,-0.06027667248214546,-0.1195926290898827,-0.12666151550671836,-0.12666151550671836,-0.12666151550671836,-0.12666151550671836,-0.22123379753573563,-0.22123379753573563,-0.22123379753573563,-0.22123379753573563,-0.22123379753573563,0.377849880447946,0.24171092195754482,0.37380304646720325,0.23222326253043132,0.31513158757235643,-0.008648044574026573,-0.008600724437708495,-0.00834139176860501,-0.008671704642185552,-0.008388711904923088,-0.2518538225893246,-0.2518538225893246,-0.2518538225893246,-0.2518538225893246,-0.2518538225893246,-0.19382928630620508,-0.19451542828281698,-0.19434980780570377,-0.19444444807834,-0.19399490678331824,-0.06999787877961945,-0.06999787877961945,-0.0702572114487229,-0.06766388475768824,-0.06999787877961945,-0.22075627607923007,-0.22075627607923007,-0.22075627607923007,-0.22075627607923007,-0.22075627607923007,-0.34021059957154787,-0.33997399888995744,-0.33997399888995744,-0.33997399888995744,-0.33997399888995744,0.46297294889621626,0.46152056098402633,0.46152056098402633,0.46152056098402633,0.46152056098402633,-0.22044579929781236,-0.2062497703790157,-0.21841381767807316,-0.21624915645583903,-0.2103290409608398,-0.1812767380391891,-0.1812767380391891,-0.1812767380391891,-0.1812767380391891,-0.1812767380391891,0.050233899265659986,0.21988717326971452,-0.13355714757206572,-0.09114382907105209,-0.1901082389067505,-0.32006331317195585,-0.32032264584105935,-0.32006331317195585,-0.32032264584105935,-0.32006331317195585,0.09755410051854185,0.11519383244944108,0.08949205578882159,0.09590717655386863,0.11361510444730723,-0.08153300265578618,-0.0818864469766279,-0.0816036915199545,-0.08132093606328115,-0.0818864469766279,0.26399840402252295,0.2736606171303932,0.26659173071355746,0.2736606171303932,0.2736606171303932,-0.19530640744287112,-0.19530640744287112,-0.19530640744287112,-0.19530640744287112,-0.19530640744287112,-0.327055216768518,-0.3267958840994145,-0.3267958840994145,-0.327055216768518,-0.3267958840994145,-0.2022955044990611,-0.2022248156348927,-0.20231916456722018,-0.20231916456722018,-0.20231916456722018,-0.10207572329629627,-0.10207572329629627,-0.10207572329629627,-0.10207572329629627,-0.10207572329629627,-0.29922513911960424,-0.3019933670942111,-0.30364957186534347,-0.29995860123253426,-0.299106838778809,-0.21505466968153764,-0.21505466968153764,-0.21531400235064113,-0.21503100961337868,-0.21503100961337868,0.016218466580569166,0.01336580722043113,0.02562134701933588,0.012918251247851025,0.01595913391146571,-0.0807925374091308,-0.08156148962429938,-0.08747650666405767,-0.08354893534965815,-0.08246057221434264,-0.21692837745701327,-0.21728298713908997,-0.2191060318082902,-0.2172347929818457,-0.21506802634143155,-0.22519030035354093,-0.2220783083242993,-0.2303769537356099,-0.23141428441202375,-0.23141428441202375,-0.1885060746201033,-0.18311029815573815,-0.18638540869505257,-0.1824034095140546,-0.19204051782852102,0.683314325042568,0.6835829385181307,0.6859169325400618,0.6837968072122077,0.6849798106201594,-0.20328541889601645,-0.20069209220498194,-0.20302608622691304,-0.20665674359436148,-0.20665674359436148,-0.23622278139632383,-0.2640774843970357,-0.2695570145125235,-0.27398486711326164,-0.28262850572223275,-0.11781713663922438,-0.11758140997856023,-0.11788782550339275,-0.11788782550339275,-0.11774644777505612,-0.19541451087286027,-0.19541451087286027,-0.19541451087286027,-0.19541451087286027,-0.19541451087286027,-0.196170011262359,-0.1961936713305181,-0.196170011262359,-0.196170011262359,-0.196170011262359,-1.2332143810620217,-1.2312350928653082,-1.2785552291833746,-1.2037952406070045,-1.2311644040011396,-0.20582862923282047,-0.19871877875103103,-0.20578038101585658,-0.199771651784108,-0.2032023616671678,-0.19380562623804598,-0.19380562623804598,-0.19380562623804598,-0.19382928630620508,-0.19380562623804598,-0.2331086758429141,-0.22325403441698263,-0.2144367236674651,-0.2248100304316034,-0.22740335712263807,-0.19520157025942894,-0.19522523032758796,-0.1951542501231109,-0.19529621053206508,-0.19534353066838314,-0.10116670082883918,-0.10142603349794266,-0.10142603349794266,-0.10116670082883918,-0.10142603349794266,-0.21613782042039786,-0.21880183597560077,-0.21875480717959148,-0.21868411831542311,-0.21866045824726404,-0.12463388814826519,-0.09143930650302264,-0.13526652758150684,-0.12178122878812711,-0.08884597981198811,-0.6425342677542271,-0.4754468664151346,-0.3753937243795616,-0.5786224090967662,-0.5447207976714187,-0.19375830610172792,-0.19375830610172792,-0.19375830610172792,-0.19375830610172792,-0.19375830610172792,-0.20784544464733815,-0.20794008491997426,-0.20794008491997426,-0.20789276478365626,-0.20782178457917913,-0.16491451418351558,-0.16491451418351558,-0.16491451418351558,-0.16491451418351558,-0.16491451418351558,-0.1757290580660254,-0.16882031816358772,-0.16749280511906145,-0.1723549491257428,-0.1662743116088712,-0.04749145982570322,-0.046784571184019644,-0.039715684767184053,-0.01921591415836081,-0.02369147388416184,-0.2162339607669057,-0.2162339607669057,-0.21649329343600915,-0.21649329343600915,-0.21649329343600915,-0.1182562777561664,-0.12617006653135462,-0.10925032320171378,-0.12091650879824321,-0.12390676137359183,-0.1798420956169923,-0.1795827629478888,-0.1795827629478888,-0.1798420956169923,-0.1798420956169923,-0.1949413095096796,-0.1949413095096796,-0.1949413095096796,-0.1949413095096796,-0.1949413095096796,-0.10246372770520767,-0.09831440499955235,-0.07192529738156098,-0.09805507233044886,-0.09416508229389699,1.0858115320620387,1.0925855957075323,1.0925855957075323,1.0928804184788745,1.102530801552665,-0.19894495948379715,-0.19894495948379715,-0.19894495948379715,-0.19894495948379715,-0.19894495948379715,-0.12325589973096772,-0.12325589973096772,-0.12325589973096772,-0.12325589973096772,-0.12325589973096772,-0.3405756675525328,-0.3481190469440462,-0.34573958894708884,-0.3480281189939938,-0.35330570032611536,0.3988242931418485,0.4141012605507934,0.4196150790336543,0.43076638380510285,0.4346436157269292,-0.2258246291205041,-0.2258246291205041,-0.2258246291205041,-0.2258246291205041,-0.2258246291205041,-0.20595343811411185,-0.20595343811411185,-0.20597709818227078,-0.2057177655131673,-0.2057177655131673,-0.02068798899031974,-0.020451388308729408,-0.020451388308729408,-0.020451388308729408,-0.020451388308729408,-0.19064799607832034,-0.1907186849424886,-0.19064799607832034,-0.1907186849424886,-0.19064799607832034,-0.21921420127429797,0.05329781746513267,0.05329781746513267,0.05329781746513267,0.05329781746513267,0.05329781746513267,-0.15488254077838495,-0.15620875570766943,-0.15561229056873147,-0.1565154085130909,-0.15698675371497975,-0.2051536361999341,-0.20517729626809322,-0.2051299761317751,-0.2051299761317751,-0.2051299761317751,-0.4010583774149952,-0.4010583774149952,-0.4010583774149952,-0.4010583774149952,-0.4010583774149952,-0.210512916469162,-0.2102763157875717,-0.20980311442439098,-0.21096338584482957,-0.20883397971051654,-0.2698280571154216,-0.2702983450755148,-0.2698280571154216,-0.2677050183844803,-0.2669981297427967,0.2265369251771104,0.22656058524526945,0.2265369251771104,0.22656058524526945,0.22656058524526945,0.14067160367473924,0.14067160367473924,0.14326493036577387,0.1430376104906426,0.14067160367473924,-0.41345313203859135,-0.4122419631795299,-0.3787387956231524,-0.38413101796466076,-0.3830177846633595,0.06572402734348627,0.06572402734348627,0.06572402734348627,0.06572402734348627,0.06572402734348627,-0.3403774346030264,-0.32873604432844483,-0.3263700375125415,-0.3426727525547614,-0.31671736644399323,-0.249966239391908,-0.249966239391908,-0.2525595660829425,-0.2525595660829425,-0.249966239391908,-0.5159468807816389,-0.5133535540906042,-0.5152399921399553,-0.5126466654489209,-0.5159468807816389,-0.3101071137779273,-0.31199355182727834,-0.3101071137779273,-0.31081400241961094,-0.31081400241961094,-0.13684794235111913,-0.13893002834911408,-0.148157454931137,-0.13963983039388506,-0.148157454931137,-0.4984361996565444,-0.4984361996565444,-0.49845985972470347,-0.4991460017013152,-0.49845985972470347,0.1249052098570272,0.07799065159962243,0.09166687668246268,0.11713234820159547,0.0855502197981633,0.3969131480930328,0.3819944246761064,0.3893290458054067,0.27242266370918233,0.38956564648699715,0.21648547884243521,0.21648547884243521,0.21648547884243521,0.21646181877427614,0.2162024861051727,-0.1889737001420977,-0.18638037345106315,-0.20557099096471895,-0.1889737001420977,-0.1889737001420977,0.13514111409217464,0.13511745402401557,0.13573261579615048,0.1361357650354999,-0.2187425253624847,-0.11061160192973962,-0.1139118172624578,-0.1139118172624578,-0.1139118172624578,-0.11131849057142318,-0.23969220132701208,-0.23969220132701208,-0.23969220132701208,-0.23969220132701208,-0.2383955379814947,-0.2069527012624065,-0.2015067152112339,-0.1994320538584063,-0.19686238723553073,-0.19450473314544056,0.8608105170684163,0.86220169152542,0.8614946737225867,0.8617304754846811,0.8625320043990006,-0.21526204181109357,-0.21605024870550898,-0.24311084616167497,-0.23456957353288727,-0.20998074815638823,-0.20682514831341245,-0.20682514831341245,-0.20682514831341245,-0.20708448098251583,-0.20682514831341245,-0.3322681085754754,-0.3320087759063719,-0.3323387974396438,-0.3320087759063719,-0.3323387974396438,0.28450311716250526,0.2844912871284258,0.2844912871284258,0.2844912871284258,0.28450311716250526,0.026919107443817914,0.03537960986082605,0.031350344603229746,0.026282907666302698,0.026070841073797663,0.1379835168234381,-0.15782301716316396,-0.14667171239171534,-0.1393434933057762,-0.14485638370799112,-0.1585341108194321,-0.19419601736267006,-0.1942078473967495,-0.19419601736267006,-0.19419601736267006,-0.1942315074649086,1.8133189272702646,1.7884894748859161,1.8132292006103439,1.8350131448150337,1.816426714284921,0.20769385463691173,0.20750457409163944,0.20731529354636716,0.2074818421041263,0.2083326764772056,-0.22544258375746346,-0.22589013973004354,-0.226149472399147,-0.22589013973004354,-0.22518325108836004,0.6387683558963252,0.6387683558963252,0.6387683558963252,0.6387683558963252,0.6387683558963252,-0.19541451087286027,-0.19541451087286027,-0.19541451087286027,-0.19541451087286027,-0.19541451087286027,-0.09327135817840494,-0.06499930115133636,-0.0680565137591029,-0.08241398209302618,-0.0403858131910725,-0.5011966299887147,-0.5271554490583813,-0.5195234319768719,-0.5497010328037346,-0.47872931607272695,-0.22176529430892933,-0.22190725471788353,-0.22175346427484982,-0.22176529430892933,-0.22173217021350666,-0.0576020722211445,-0.0576020722211445,-0.0576020722211445,-0.0576020722211445,-0.0576020722211445,-0.24118459324751287,-0.43320541096168586,-0.33366279728386283,-0.32817521686787154,-0.42577372413104847,-0.22630894349883768,-0.22630894349883768,-0.22890227018987225,-0.22630894349883768,-0.22630894349883768,0.2661610200734398,0.27322990649027545,0.27322990649027545,0.27322990649027545,0.27322990649027545,0.047170963670027315,0.0408796547590436,0.04017276611736013,0.04017276611736013,0.04017276611736013,0.1327959271638969,0.12960336227433084,0.11739441022297084,0.1353185649907631,0.11739441022297084,-0.4724803097666743,-0.4795096642232101,-0.4746240951626871,-0.4976690015495856,-0.492782034379782,0.2963549071317258,0.2963549071317258,0.29919411531080964,0.2973013098580871,0.2991848345043506,-0.04965344237189678,-0.04965344237189678,-0.04965344237189678,-0.04965344237189678,-0.04965344237189678,0.4548020699593237,0.4548020699593237,0.4555089586010073,0.4555089586010073,0.4555089586010073,-0.019122133709623144,-0.012053247292787485,-0.01543598152375348,-0.022504867940589104,-0.015424151489673944,0.08398476722156444,0.08398476722156444,0.086578093912599,0.086578093912599,0.08398476722156444,-0.16587590475887268,-0.17294479117570827,-0.17106255814094184,-0.16844557138174823,-0.17103889807278286,0.7055549474238478,0.7109976986245025,0.7047297584413691,0.7105741481201099,0.6970013035191681,-0.19123138720268848,-0.18604473382061934,-0.19031117046412446,-0.190972054533585,-0.1901689517328709,-0.23398042197208432,-0.23705623083275867,-0.23587322742480699,-0.23587322742480699,-0.23350722060890372,-0.2415614172807864,-0.24130208461168298,-0.2415614172807864,-0.24130208461168298,-0.2415614172807864,-0.12245748490463314,-0.12245748490463314,-0.12238679604046478,-0.12238679604046478,-0.12061957443625598,-0.29611807658624095,-0.29611807658624095,-0.31191646962273245,-0.3171031230048017,-0.29116985609445595,-0.19589223236084757,-0.19205410885811638,-0.21254138971728953,-0.20450207697508238,-0.20528007498239276,-0.1550572792259258,-0.13376321788279588,-0.1550572792259258,-0.15269127241002245,-0.15269127241002245,-0.20659597227698934,-0.20673793268594354,-0.20678432474161565,-0.20595900659798713,-0.20598359474679218,-0.23857416356427397,-0.23883349623337738,-0.23857416356427397,-0.23857416356427397,-0.23883349623337738,-0.21021456459604093,-0.21558957044273644,-0.2081872233795313,-0.21252489854981296,-0.20608890195854465,-0.23465925791834988,-0.23465925791834988,-0.23465925791834988,-0.23465925791834988,-0.23465925791834988,0.03331126862796273,0.03519770667731378,0.03331126862796273,0.03590459531899729,0.03331126862796273,-0.3307368334468699,-0.37186822881775133,-0.37750629163275706,-0.33757552122547646,-0.36878501926515617,1.9249033463436132,1.9241253483363034,1.9276848963381246,1.9289815596836424,1.9266476948228606,-0.6028277812685076,-0.6226079067170198,-0.6153123509012126,-0.6180942462578256,-0.5972930266831677,0.4049953460777283,0.40688178412707926,0.4016951307450102,0.40428845743604475,0.4016951307450102,-0.1560799146356083,-0.1560799146356083,-0.1560799146356083,-0.1560799146356083,-0.1560799146356083,0.0933930138363557,0.09129469241536908,0.08924369113070042,0.09054035447621779,0.08665036443966584,-0.17727145947440642,-0.17727145947440642,-0.17727145947440642,-0.17727145947440642,-0.17727145947440642,-0.1716007782101612,-0.1739696984291519,-0.17068094895504624,-0.17514687503092877,-0.1726891413454767,-0.08112932479553886,-0.08110566472737982,-0.08110566472737982,-0.08110566472737982,-0.08112932479553886,-0.15499625662887428,-0.15758958331990888,-0.15758958331990888,-0.16465846973674442,-0.15499625662887428,-0.3696634213971012,-0.3694040887279976,-0.36914475605889413,-0.36914475605889413,-0.3694040887279976,-0.029984276115680015,-0.03024360878478351,-0.03702950246435655,-0.037053162532515595,-0.03707682260067463,-0.19475620322731918,-0.19482689209148746,-0.19475620322731918,-0.19475620322731918,-0.19508622476059106,0.7416133056438519,-0.11677782908859077,0.12699487986865884,0.7416133056438519,-0.159011375727,-0.15915240805530825,-0.16282064670060428,-0.15901044764635403,-0.16258404601901394,0.1712741867946968,0.17172465617036434,0.171488055488774,0.17125145480718365,0.17103758611310646,-0.19510692998679283,-0.19510692998679283,-0.19510692998679283,-0.19510692998679283,-0.19510692998679283,-0.12511003460122364,-0.16761799337487332,-0.18448868050264272,-0.1768075457167597,-0.17595869666612185,-0.16303376695819582,-0.16305742702635487,-0.16303376695819582,-0.1637643156680383,-0.16374065559987938,-0.23573401532792074,-0.23573401532792074,-0.23573401532792074,-0.23832734201895533,-0.23573401532792074,-0.19260478956811025,-0.1944029547481967,-0.1935511922944715,-0.19239184895467892,-0.19248648922731507,-0.19092991150944136,-0.1911185553143764,-0.19087105267935245,-0.1909417415435208,-0.19118924417854474,-0.30954891545473856,-0.24850593960443296,-0.30860251272837724,-0.27171646646844444,-0.22411240933246973,-0.2680555006412055,-0.26779616797210204,-0.2680555006412055,-0.2680555006412055,-0.2680555006412055,-0.06970420841584886,-0.0718248743408996,-0.061928433357329726,-0.07910582735024024,-0.05910087879059547,0.4070661054290347,0.4070661054290347,0.4070661054290347,0.4070661054290347,0.4070661054290347,0.4711464267435741,0.4708870940744705,0.47018020543278694,0.4711464267435741,0.4711464267435741,-0.03086292766630705,-0.031216900608046622,-0.030957567938943206,-0.030957567938943206,-0.030391711625567898,-0.021125960882244645,0.007664382624591996,0.012829526479848533,-0.007452438785388262,-0.0023365072854967727,-0.19258751312312547,-0.19258751312312547,-0.19258751312312547,-0.18999418643209084,-0.18999418643209084,-0.1359516029188117,-0.1359516029188117,-0.1359516029188117,-0.1359516029188117,-0.1359516029188117,-0.13156393566765406,-0.13157576570173357,-0.13157576570173357,-0.13156393566765406,-0.13157576570173357,-0.21069621645047962,-0.21345452687829033,-0.21692020050896266,-0.21093188905142415,-0.208597895029493,-0.14647374245358846,-0.14647374245358846,-0.14647374245358846,-0.14647374245358846,-0.14623714177199815,-0.1937606721085439,-0.1937606721085439,-0.1937606721085439,-0.1937606721085439,-0.1937606721085439,0.5481873814068627,0.5507807080978974,0.5571397924699619,0.5481873814068627,0.5510173087794876,0.020251338637458323,0.02027499870561736,0.020251338637458323,0.02027499870561736,0.02027499870561736,0.13617836544518488,0.13661409138368552,0.14324725186202047,0.13617836544518488,0.13687342405278896,-0.2199593157103462,-0.2258737575129181,-0.21552976055676823,-0.2138566506042977,-0.21244287332093056,0.0251409382472513,0.025847826888934822,0.025847826888934822,0.0251409382472513,0.0251409382472513,-0.12634554854407967,-0.12634554854407967,-0.12660488121318314,-0.12660488121318314,-0.12563865990239612,-0.5737439204349034,-0.5771152451332484,-0.574003253104007,-0.5833392291917313,-0.5841172271990418,-0.201046005265551,-0.18575378781761606,-0.20033911662386736,-0.20059844929297074,-0.18787445374266667,-0.0969712991153524,-0.0969712991153524,-0.0969712991153524,-0.0969712991153524,-0.08990241269851681,0.021378116300250626,0.02138994633433013,0.021307427436082296,0.0239125841611964,0.016902556574449643,-0.24743046638140617,-0.24743046638140617,-0.24743046638140617,-0.24743046638140617,-0.24743046638140617,0.032167309688296286,0.032119989551978215,0.036644422258781485,0.0302355789084895,0.035961193685256916,-0.11028898953330851,-0.08198978379780705,-0.08198978379780705,-0.11733421588198503,-0.0890586702146426,-0.14833098983420656,-0.1487568710610691,-0.15900075249328463,-0.14896689827141302,-0.14896689827141302,-0.10243741808802301,-0.1062230289934684,-0.07245380163116082,-0.05806486110046208,-0.0962858003666744,0.37748620984279496,0.37748620984279496,0.37748620984279496,0.37748620984279496,0.37748620984279496,-0.36866929532765835,-0.36840996265855497,-0.36866929532765835,-0.36866929532765835,-0.36866929532765835,-0.16883980334548987,-0.1617709169286542,-0.16883980334548987,-0.15917759023761965,-0.16624647665445527,-0.2396378275168691,-0.23800435473324985,-0.23869142479050778,-0.23940122683527884,-0.23916462615368836,0.6857762329720504,-0.3317998289352358,-0.19364898229494967,-0.24685727084121908,-0.27342781872412214,-0.21988508448023017,-0.22492648529849837,-0.22495014536665742,-0.22495014536665742,-0.2249738054348165,-0.22492648529849837,-0.020090514165496055,-0.02127351757344774,-0.01489170121387011,-0.006662543376595898,0.07180500925336676,-0.20990791179061938,-0.20526358381491627,-0.20740922537222092,-0.20373124786845448,-0.20165658651562685,-0.34062530487505627,-0.3401766916606805,-0.3404123642616249,-0.34022401179699857,-0.34041329234227086,-0.19434980780570377,-0.19434980780570377,-0.19434980780570377,-0.19434980780570377,-0.19434980780570377,-0.2147466307434589,-0.21267196939063127,-0.2183772881109074,-0.21059730803780366,-0.21396863273614858,-0.2184413136988517,-0.21818198102974828,-0.21818198102974828,-0.21818198102974828,-0.21818198102974828,-0.19588771223604093,-0.19588771223604093,-0.19588771223604093,-0.19588771223604093,-0.19588771223604093,-0.1681138416025671,-0.1674069529608835,-0.1674069529608835,-0.1674069529608835,-0.1674069529608835,-0.09628140077800723,-0.10314922258748808,-0.10932357229634983,-0.09131918850797148,-0.09631053480888156,0.4289543366325025,0.4289543366325025,0.429213669301606,0.4289543366325025,0.4289543366325025,-0.15881824787654344,-0.16176501888841985,-0.15547370997743615,-0.1504062730405091,-0.15182005032387622,-0.19413686719227247,-0.19572209175892774,-0.19411320712411345,-0.19413686719227247,-0.19517791019126998,-0.19413686719227247,-0.19754391700717322,-0.20085632654943794,-0.19468104875993023,-0.19529621053206508,0.003609097554326753,-0.010528675279344495,-0.007935348588309892,-0.01241090831411091,-0.0008664621714743054,-0.20127988158637405,-0.20220262424457636,-0.2015865343917956,-0.20127988158637405,-0.20189504335850894,-0.21250295350549708,-0.21276228617460055,-0.21250295350549708,-0.21269159731043222,-0.21250295350549708,-0.2902491505328829,-0.2801351764378481,-0.2902491505328829,-0.2811725071142619,-0.2803945091069516,0.029829337244329537,0.030088669913432977,0.029829337244329537,0.029829337244329537,0.030088669913432977,-0.2252247180544779,-0.1991986430795414,-0.1844111004801456,-0.2228587112385746,-0.21339468397496128,-0.11202343110846942,-0.11174043837120692,-0.11176409843936598,-0.11202343110846942,-0.11176409843936598,-0.2072445449523769,-0.2072445449523769,-0.20700794427078653,-0.20748114563396722,-0.20748114563396722,-0.2941071877757766,-0.29530024301886315,-0.29585843087124225,-0.29326510418020774,-0.29585843087124225,-0.29326510418020774,-0.29326510418020774,-0.36162096174824104,-0.4705406827716931,-0.3100137605966531,-0.37741659449539294,-0.47339334213183104,-0.020876809550122413,-0.02181937079275034,-0.02189005965691874,-0.022290586833489487,-0.0209238383461317,-0.2640710148377801,-0.2591436941248144,-0.2591436941248144,-0.26977633355805614,-0.2591436941248144,-0.20989972577683308,-0.21896875388631057,-0.21233642145690473,-0.2077329050766993,-0.21071349098411998,-0.19445920155828272,-0.19448286162644182,-0.19474219429554532,-0.19448286162644182,-0.19448286162644182,-0.22410285951567097,-0.22198219359062038,-0.2303234795624864,-0.21844775038220257,-0.23025279069831803,-0.1600684501980171,-0.1600684501980171,-0.15980911752891366,-0.1600684501980171,-0.1600684501980171,-0.38417481320545344,-0.38235948452172913,-0.38002549049979817,-0.38002549049979817,-0.37665416580145317,0.22554612894056122,0.22554612894056122,0.22554612894056122,0.22554612894056122,0.2252867962714578,-0.17340732524555869,-0.17340732524555869,-0.17340732524555869,-0.17340732524555869,-0.17340732524555869,-0.21033855060556225,-0.20331290847160982,-0.21161155388292055,-0.2020399051942516,-0.2030772358706655,-0.23016704990289139,-0.22632642845023013,-0.2261850507218934,-0.2300729382511531,-0.2277402057335973,-0.20294036876164714,-0.19973479370156516,-0.20242183258458996,-0.20086663548946543,-0.20338898197602287,-0.19375830610172792,-0.19375830610172792,-0.19375830610172792,-0.19375830610172792,-0.19375830610172792,-0.046102936316376575,-0.07084403877530118,-0.06592092307692,-0.08147247319395838,-0.08147247319395838,-0.2028966596057586,-0.20626798430410348,-0.2060086516350001,-0.20886131099513808,-0.20445265562037934,0.31224060485090643,0.3126413152483467,0.3116044050733912,0.31249993752001004,0.31386644872677866,-0.5154587898546003,-0.5118281324871518,-0.5092348057961174,-0.5120874651562554,-0.5050854830904618,-0.29500336624045187,-0.30068178259861994,-0.2973559218753011,-0.2954538356161194,-0.30068178259861994,-0.20946989494679777,-0.21051000986514926,-0.21716080323114076,-0.20933257494107307,-0.21140630821325485,0.12948399042552947,0.13019087906721308,0.12948399042552947,0.13019087906721308,0.130167218999054,-0.18191592250112698,-0.17626116621111804,-0.1879437659189651,-0.17694730818772997,-0.19631943004726282,-0.2178266099787282,-0.2178266099787282,-0.2178266099787282,-0.2178266099787282,-0.2178266099787282,-0.19703899046861356,-0.19784343278602068,-0.20106120205564915,-0.1963291884238426,-0.1963291884238426,-0.053804975370460785,-0.053804975370460785,-0.053804975370460785,-0.053804975370460785,-0.053804975370460785,-0.09323119975718598,-0.10030008617402154,-0.10055941884312501,-0.10030008617402154,-0.09323119975718598,-0.19387660644252314,-0.19387660644252314,-0.19387660644252314,0.017476474272356494,0.017476474272356494,0.010407587855520832,0.024574494720066425,0.010407587855520832,0.10031310485019339,0.08560183157546469,0.09904010157283512,0.09097712876246895,0.09755479442238273,-0.08771745219230229,-0.053082822152895275,-0.07289446546266502,-0.15204723198859377,-0.14474174489016775,0.9091597750513736,0.9080062585177557,0.9082191991311876,0.9087131471594397,0.9075123104895038,-0.21424744312219282,-0.2144367236674651,-0.2142711031903519,-0.21434208339482894,-0.21398811045308938,-0.19614797298579031,-0.19671581462160706,-0.19811175864299005,-0.19740195659821902,-0.1962426132584264,0.6441926920065677,0.6820819232008065,0.6870301436925913,0.6371238055897321,0.6446168251915776,-0.2238925341867604,-0.22145461908573408,-0.22552507888973367,-0.22303984365238932,-0.2195237743031524,-0.1937606721085439,-0.1937606721085439,-0.1937606721085439,-0.1937606721085439,-0.1937606721085439,0.7649627661956014,0.7675560928866358,0.7649627661956014,0.7649627661956014,0.7675560928866358,-0.18293876961649624,-0.18293876961649624,-0.18293876961649624,-0.18293876961649624,-0.18293876961649624,0.012789394331259196,0.012789394331259196,0.012789394331259196,0.012789394331259196,0.012789394331259196,-0.21179751476628247,-0.21205684743538594,-0.21205684743538594,-0.21205684743538594,-0.21205684743538594,-0.11176829665487575,-0.11572939605705439,-0.11124963131666887,-0.1122869619930826,-0.115917619360531,-0.5345642960252682,-0.38532354069461955,-0.722016519484767,-0.7211874890185546,-0.4140097521904728,-0.32645567411504184,-0.12470050635736381,-0.42281576822880246,-0.14327061305543695,-0.1451149124843294,0.2196508829355437,0.19703044640166986,0.2684261992117094,0.17653067579284662,0.2684261992117094,-0.1942078473967495,-0.1942078473967495,-0.1942078473967495,-0.19418418732859055,-0.1942078473967495,0.09441012775750314,0.10147901417433869,0.10147901417433869,0.09415079508839966,0.10147901417433869,-0.24545676118496387,-0.26896839665651656,-0.29289777166801095,-0.305268094060507,-0.21038834455750072,-0.1939239265788412,-0.1939239265788412,-0.1939239265788412,-0.19394758664700024,-0.19394758664700024,-0.010803245657573523,-0.00898311439146076,-0.009619314168975976,-0.0108023175769276,-0.010402718481002783,-0.19825371905194425,-0.19967332314148623,-0.1980171183703539,-0.19730731632558285,-0.19640823373553967,-0.0440236672459043,-0.050833220993636415,-0.04117100788576621,-0.04117100788576621,-0.04143034055486969,-0.10335011012849717,-0.10403333870202176,-0.10330278999217911,-0.10330278999217911,-0.10335011012849717,-0.20883437399304042,-0.21211074603673016,-0.20923466388902212,-0.17648313799442025,-0.1753977002384911,-0.1773622845034496,-0.17768076734295077,-0.1773741145375292,-0.17650224215906957,-0.17715027197066424,-0.3087612187581155,-0.3087612187581155,-0.3087612187581155,-0.3087612187581155,-0.3087612187581155,-0.10942256129850951,-0.10916322862940606,-0.10942256129850951,-0.10942256129850951,-0.10916322862940606,-0.2347936630906928,-0.2347936630906928,-0.2347936630906928,-0.2347936630906928,-0.2347936630906928,-0.1094869799036111,-0.11149808569712892,-0.11185298671951445,-0.11043338262997242,-0.10913207888122561,-0.09142744247356936,-0.0802761377021207,-0.08624078909150021,-0.0890934484516382,-0.09402076916460382,-0.12819728536791247,-0.07588752588332905,-0.14136883689079666,-0.06033597576629072,-0.15710903081277008,-0.20558834018124456,-0.20487853813647355,-0.20582494086283487,-0.20487853813647355,-0.21079355517623183,-0.20070879250097895,-0.19976530317770508,-0.20091881971132278,-0.2004721918193886,-0.20049585188754765,-0.19411320712411345,-0.19411320712411345,-0.19411320712411345,-0.19411320712411345,-0.19411320712411345,-0.19482300916888443,-0.19482300916888443,-0.19482300916888443,-0.19482300916888443,-0.19482300916888443,-0.23080763467222426,-0.22536164862105165,-0.2349569573778796,-0.22821430798118975,-0.22588031395925862,-0.19510692998679283,-0.19510692998679283,-0.19510692998679283,-0.19510692998679283,-0.19510692998679283,-0.1703257310177739,-0.1703257310177739,-0.1703257310177739,-0.1703257310177739,-0.1703257310177739,-0.11118374567943998,-0.11118374567943998,-0.11118374567943998,-0.11118374567943998,-0.11118374567943998,-0.2914199691307452,-0.274977149840863,-0.24854885370722282,-0.4333093978804673,-0.23773620255854488,-0.16482575248864795,-0.16482575248864795,-0.16435255112546726,-0.16482575248864795,-0.16555921460157794,-0.18763290900816618,-0.1877035978723346,-0.187986353329008,-0.18826910878568148,-0.187986353329008,-0.2571563056500536,-0.24809641964271897,-0.22169007146493097,-0.24694029302262158,-0.23875918205061922,-0.3621856672159746,-0.3640721052653255,-0.36503832657611257,-0.3621856672159746,-0.36433143793442907,1.3759378671391878,1.3759378671391878,1.3759378671391878,1.3759378671391878,1.3759378671391878,1.695305270718912,1.1792121628167989,2.0613171694280243,1.7645194121310712,1.932944465098148,-0.2940899762484481,-0.2940899762484481,-0.2945859095991417,-0.2940899762484481,-0.29645598306435145,-0.20219244999746103,-0.20909827649681115,-0.20893265601969793,-0.20060524010836417,-0.2003094892563763,0.4814171750757626,0.48591783959496737,0.4837971736699168,0.48777917285091454,0.47929650915071187,-0.1878294908361694,-0.19042281752720408,-0.1880888235052729,-0.19042281752720408,-0.1880888235052729,-0.0968059203453799,-0.0968059203453799,-0.09576858966896605,-0.09602792233806953,-0.09473125899255226,-0.2148912222806032,-0.2148912222806032,-0.2148912222806032,-0.2148912222806032,-0.2148912222806032,-0.1347610375946418,-0.1321677109036072,-0.1347610375946418,-0.1347610375946418,-0.1347610375946418,-0.6884714069433648,-0.6884714069433648,-0.6884714069433648,-0.6884714069433648,-0.6884714069433648,0.4490091602472383,0.461760633396837,0.4639793456896121,0.46074603470793624,0.45631464734566424,-0.09421947976303664,-0.08455726665516654,-0.0871505933462011,-0.09162615307200209,-0.09162615307200209,-0.20442373329584018,-0.22594834483142703,-0.2255003683573886,-0.21616439226966408,-0.20501308749821545,-0.1383324748674219,-0.15767780086198147,-0.11597137100265141,-0.1291429225255356,-0.12560847931711777,-0.20489615969212255,-0.2064521557067433,-0.21241680709612273,-0.20904548239777787,-0.20904548239777787,-0.24754551174776573,-0.2702995307235997,-0.256135502622152,-0.2499435313576413,-0.2706549017746198,-0.2747024698611714,-0.271071812493723,-0.26614449178075733,-0.26329183242061927,-0.2682191531335849,0.1855368368546207,0.1855368368546207,0.18527750418551728,0.18527750418551728,0.18527750418551728,0.007215667761966217,0.0013806827071384089,0.006826668758310993,0.005919004416448859,8.401936162113226e-05,-0.07726100563765831,-0.09139877847132953,-0.07726100563765831,-0.08880545178029493,-0.08880545178029493,-0.00801341188376619,-0.008284574586949181,-0.008284574586949181,-0.008272744552869705,-0.008272744552869705,-0.03945378254082779,-0.03499005284910627,-0.03945378254082779,-0.032373066089912646,-0.03239672615807168,-0.48358611537064317,-0.48358611537064317,-0.48358611537064317,-0.48096912861144964,-0.4810164487477676,-0.4191969321451321,-0.4191969321451321,-0.4217902588361667,-0.4217902588361667,-0.4217902588361667,-0.28361431270219545,-0.28361431270219545,-0.28361431270219545,-0.28361431270219545,-0.28361431270219545,-0.19978079836391896,-0.19980445843207792,-0.19980445843207792,-0.19978079836391896,-0.19980445843207792,-0.19998760485465475,-0.2024955720795123,-0.1995144034914741,-0.2000822451272909,-0.1988755816511802,-0.15749011815570155,-0.16008344484673614,-0.15749011815570155,-0.15749011815570155,-0.16008344484673614,0.08693426130497633,0.10107203413864752,0.0925893704384448,0.09400314772181192,0.10107203413864752,0.008057174145179652,0.007844233531748335,0.007631292918317043,0.005061626295441496,0.008057174145179652,-0.17599953587069228,-0.180860839814143,-0.17866009528819757,-0.17679744646815526,-0.19352347554468238,-0.31043448955972325,-0.30977200765127033,-0.3092278260836126,-0.30918050594729457,-0.3136285987611928,-0.19831996119279152,-0.19831996119279152,-0.19883862653099849,-0.21621391536093004,-0.20402527991306751,-0.23950028877587723,-0.24183428279780836,-0.23950028877587723,-0.23950028877587723,-0.24209361546691177,-0.24243631118144857,-0.24471556042189446,-0.25322807452728213,-0.23743151369948437,-0.24080283839782926,-0.07107764281576896,-0.07551202780998427,-0.02418199547160681,-0.09950763099840255,-0.06412458828540167,-0.34778370973346806,-0.35251572336527476,-0.35251572336527476,-0.35040904921847477,-0.3501497165493714,-0.03304165901218263,-0.040039856564849846,-0.033536481061361166,-0.03191063718548895,-0.036695318665742556,-0.22401185872987664,-0.2237525260607731,-0.22401185872987664,-0.22382321492494145,-0.2237525260607731,-0.19387660644252314,-0.19387660644252314,-0.19387660644252314,-0.19387660644252314,-0.19387660644252314,-0.5863137976971377,-0.3177691106890237,-0.3225040377239176,-0.43680547415674736,-0.30358472340595344,-0.16640451384153968,-0.16640451384153968,-0.16640451384153968,-0.16640451384153968,-0.16640451384153968,0.06292151568307118,0.07048816765929447,0.028848221649548225,0.08756850649025749,0.08255085863867957,-0.09580355223366321,-0.10103332073746592,-0.09585087236998126,-0.09394077425247122,-0.10025574323161394,-0.2154285903688527,-0.21516925769974926,-0.21516925769974926,-0.21516925769974926,-0.21516925769974926,0.5534571646291376,0.5534571646291376,0.5534571646291376,0.5534689946632171,0.5537164972982411,0.08464338627182498,0.07757449985498942,0.08209737971710845,0.07759815992314847,0.0820500595807904,-0.2012562215182151,-0.2012562215182151,-0.2012562215182151,-0.2012562215182151,-0.2012562215182151,-0.20009895157781177,-0.19102230815919086,-0.19205963883560462,-0.18816964879905276,-0.19205963883560462,-0.2030942821894524,-0.2030942821894524,-0.20283494952034892,-0.2030942821894524,-0.2030942821894524,0.23605073857399458,0.22593676447895977,0.2179643560877948,0.24597228435096818,0.20311548959785553,-0.1847431144462172,-0.1847667745143762,-0.18120867123779938,-0.1847431144462172,-0.1847667745143762,-0.17341580553233082,-0.18446122461120448,-0.1948102675848558,-0.20082344655520917,-0.16542105263710197,-0.16530005770958844,-0.1552390534907009,-0.15625272409895571,-0.1552153934225419,-0.15264572679966637,-0.21007629070706385,-0.2194122667947884,-0.22382092216954705,-0.2140487355678386,-0.21189161939078802,0.18973001785984164,0.18982436679216905,0.18970635779168266,0.1967752442085182,0.18970635779168266,-0.17622990534130195,-0.16693149855480188,-0.1618445839006097,-0.16080354090161228,-0.17225501389058434,-0.2593417639500716,-0.24415200019197233,-0.26594292296644184,-0.2645469789450588,-0.2608323482440907,-0.21056343908253966,-0.23182548763169727,-0.21508575439486396,-0.22127866571664398,-0.2119190175841372,-0.13262263550690598,-0.13262263550690598,-0.13262263550690598,-0.13262263550690598,-0.13262263550690598,-0.19548963395619934,-0.19445230327978555,-0.1988609586545443,-0.1988609586545443,-0.19523030128709593,-0.22763084981525325,-0.22763084981525325,-0.22763084981525325,-0.22789018248435675,-0.22763084981525325,-0.36680029020022115,-0.36680029020022115,-0.36680029020022115,-0.36680029020022115,-0.36680029020022115,-0.21549261595679706,-0.21497395061859018,-0.23079324343390104,-0.23079324343390104,-0.21445528528038327,-0.08691510849899388,-0.07699356272202024,-0.07699356272202024,-0.07699356272202024,-0.0767342300529168,-0.13674785378234616,-0.1527241208164352,-0.18612904279680317,-0.13093830213358645,-0.12681681099796116,0.8278711537318069,0.8299532397298016,0.8299532397298016,0.827374292300467,0.8299295796616428,-0.1572205432487351,-0.15792743189041875,-0.16322909670304545,-0.16322909670304545,-0.15792743189041875,-0.1019191826066987,-0.10194284267485768,-0.10194284267485768,-0.1019191826066987,-0.1019191826066987,-0.1950596098504748,-0.1950596098504748,-0.1950596098504748,-0.1950596098504748,-0.1950596098504748,-0.19375830610172792,-0.19375830610172792,-0.19375830610172792,-0.19375830610172792,-0.19375830610172792,-0.1283129601135771,-0.11660122637485561,-0.11648292603406045,-0.11662488644301468,-0.1237229068907246,-0.12235624707998942,-0.12327898973819171,-0.12923841351118068,-0.12900472623267778,-0.12235624707998942,-0.2129619161807885,-0.20440393810037438,-0.21607390821002992,-0.20855326080602968,-0.20673793212230546,-0.2129572763411969,-0.2077942830272868,-0.2077942830272868,-0.20390429299073498,-0.2075349503581834,-0.20514926480639578,-0.20514926480639578,-0.20540859747549917,-0.20514926480639578,-0.20514926480639578,0.06387626273565593,0.06458315137733951,0.06458315137733951,0.06451246251317119,0.06451246251317119,-0.2043376215264554,-0.20027747419613232,-0.20084380507068572,-0.20799001967564004,-0.20442935583943525,-0.21316625537548087,-0.21285896582972214,-0.21285896582972214,-0.21309556651131245,-0.21285896582972214,-0.1894592807827727,-0.1894356207146137,-0.18947111081685225,-0.18947111081685225,-0.1894474507486932,0.0499897458483392,0.14188526926720202,0.04292085943150358,0.28326299760391416,0.3186074296880922,-0.1944019826506718,-0.20293191242747294,-0.19890264716987663,-0.20300260129164127,-0.2005991799099171,-0.2018943736001625,-0.20345036961478322,-0.20241303893836946,-0.2013757082619556,-0.2094150210041627,-0.23587322742480699,-0.23587322742480699,-0.23587322742480699,-0.23587322742480699,-0.23587322742480699,-0.16953701945538294,-0.17024390809706652,-0.16953701945538294,-0.16953701945538294,-0.17024390809706652,-0.1548233024940748,-0.1548233024940748,-0.15508263516317822,-0.15508263516317822,-0.15411641385239128,-0.20026621097811934,-0.20003053837717494,-0.19970022550359426,-0.19974754563991237,-0.19974754563991237,-0.2154601445471755,-0.21727547323089977,-0.21079215650331334,-0.2152008118780722,-0.21105148917241678,-0.20987462489483275,-0.21013395756393624,-0.20987462489483275,-0.20987462489483275,-0.20987462489483275,-0.19920303518139298,-0.2006226392709349,-0.19780709116001002,-0.19943963586298333,-0.19693166863812578,0.317697046446468,0.3150471188126563,0.31805194746885346,0.31781534678726303,0.3151746999599106,-0.12411170234043477,-0.12418239120460313,-0.12034176975194193,-0.1210486583936255,-0.12444172387370661,-0.14750485755114678,-0.15431441129887893,-0.1637632963098686,-0.15714196586561308,-0.15528063260966582,-0.18574405459282334,-0.1826793286401803,-0.19067011380141377,-0.1897222692606952,-0.18600044375171765,-0.15073602719047338,-0.15099535985957685,-0.15028847121789335,-0.15099535985957685,-0.15099535985957685,-0.1947189048689847,-0.1947307349030642,-0.1947189048689847,-0.1947189048689847,-0.1947189048689847,0.12057900701116529,0.1208063268862966,0.12057900701116529,0.12057900701116529,0.118213000195262,0.19431922904200113,0.19405989637289764,0.19405989637289764,0.19431922904200113,0.19431922904200113,-0.1714238498502111,-0.17140018978205207,-0.17140018978205207,-0.17140018978205207,-0.1714238498502111,-0.19408954705595438,-0.19442078801018087,-0.19404222691963632,-0.19418418732859055,-0.19404222691963632,-0.07199198744910201,-0.07766749040418253,-0.1298625524625321,-0.10803977974036805,-0.06423660621219485,-0.3255676452379288,-0.32761762229881114,-0.33028163785401404,-0.3265351280530912,-0.3301402601256774,-0.11565034833433857,-0.10858146191750302,-0.11117478860853747,-0.11117478860853747,-0.11824367502537313,-0.23804233026018734,0.03654740771061108,-0.06829012335822822,-0.29846568492858927,0.22050498195060617,-0.08169425302826828,-0.08141149757159487,-0.08127011984325813,-0.08127011984325813,-0.08119943097908977,-0.14535592126182914,-0.14535592126182914,-0.14606280990351272,-0.14535592126182914,-0.14535592126182914,-0.3324965901625639,-0.3312713240589833,-0.33623993837238014,-0.3722877673653688,-0.3755156515163753,-0.09602208978998006,-0.09602208978998006,-0.09340510303078646,-0.09342876309894547,-0.09342876309894547,-0.2285696175284104,-0.22828662479114792,-0.22854595746025141,-0.22854595746025141,-0.22828662479114792,0.09248935359305377,-0.15269713264756304,0.07952692515246543,0.12179394520174439,0.07952692515246543,-0.04362695433569172,-0.04362695433569172,-0.04362695433569172,-0.04362695433569172,-0.04362695433569172,-0.19761489721165038,-0.19782783782508165,-0.19711803578031062,-0.1968577750305613,-0.19853763986985265,-0.1823251484012685,-0.1787670451246917,-0.18503677543309824,-0.1587872554181704,-0.17999391466867723,-0.06341714140450526,-0.04927936857083406,-0.023831377470225925,-0.06907225053797385,-0.07048602782134092,-0.16784389863188157,-0.16784389863188157,-0.16803254243681667,-0.1677613797336337,-0.16802071240273717,-0.18125382898533038,-0.18125382898533038,-0.18125382898533038,-0.18125382898533038,-0.1812774890534894,0.13015750546300178,0.12166901495662422,0.12613529387596614,0.1228520183645759,0.13063070682618247,-0.243636605964956,-0.243636605964956,-0.243636605964956,-0.243636605964956,-0.243636605964956,-0.021115469699620252,-0.012796031006625144,-0.01801052680807152,-0.0724430628355478,-0.004946362340541448,-0.3810914363355108,-0.36537596845550624,-0.3772351365658972,-0.3396156281930344,-0.3796011433818005,-0.1284079904458556,-0.12581466375482103,-0.1284079904458556,-0.1284079904458556,-0.12581466375482103,0.30647888266256346,0.2732670138263093,0.20790955777776315,0.2994099962457278,0.1962904544802439,0.3600273992858454,0.35908099655948406,0.35717473992570736,0.3549316738538288,0.35908099655948406,0.02768491157433042,0.028391800216013938,0.02768491157433042,0.028391800216013938,0.028391800216013938,-0.2496908444140974,-0.24061420099547648,-0.24580085437754554,-0.24424485836292473,-0.24580085437754554,0.04288736818344984,0.04262710743370047,0.04272174770633661,0.04177825838306273,0.04192021879201693,-0.27008626924257206,-0.27123633177590556,-0.2733174896932546,-0.27506833473702313,-0.2740509518061847,-0.2015472538257975,-0.20326310449907425,-0.2091106749686132,-0.20451273904858217,-0.2031924156349059,-0.00031975996089668587,-4.859725771367723e-05,-0.0013209968127441234,-0.0003079299268171789,-0.00031975996089668587,-0.1956274514862916,-0.1956274514862916,-0.1956274514862916,-0.1956274514862916,-0.1956274514862916,-0.0552591109635269,-0.059981759027387754,-0.05187470093122142,-0.060750681085464074,-0.05130919001787457,-0.20687989309489774,-0.20687989309489774,-0.20687989309489774,-0.20662056042579424,-0.20687989309489774,-0.20424991320666136,-0.20307155020193926,-0.20450924587576494,-0.2026820871579611,-0.20410888087835305,-0.40042603434050006,-0.35209827403691446,-0.35209827403691446,-0.38416759558177815,-0.3824944856293075,-0.1946337286236121,-0.1946337286236121,-0.19468104875993023,-0.1946337286236121,-0.19465738869177124,0.30486866565678344,-0.22587194925682216,-0.22327862256578757,-0.2232549624976285,-0.22584828918866312,-0.22584828918866312,0.03710968233219599,0.03710968233219599,0.039703009023230595,0.03710968233219599,0.03710968233219599,-0.1994425492660708,-0.1994425492660708,-0.1994425492660708,-0.1994425492660708,-0.1994425492660708,-0.20187509561293357,-0.2055057529803819,-0.20835841234051997,-0.20835841234051997,-0.20420908963486467,-0.2344053391884313,-0.24529731129077656,-0.2369986658794659,-0.24400064794525922,-0.2450379786216731,-0.19239184895467892,-0.19239184895467892,-0.19239184895467892,-0.19239184895467892,-0.19239184895467892,-0.18024364868141696,-0.15952069522129947,-0.1646836885352096,-0.18804728882267976,-0.18286063544061057,0.2789398925366478,0.3170737576937649,0.3292453071176766,0.28165161521691373,0.30835943022062534,-0.19849031973353456,-0.19849031973353456,-0.19849031973353456,-0.19849031973353456,-0.19849031973353456,0.5746099948273459,0.5746099948273459,0.5746099948273459,0.5746099948273459,0.5746099948273459,-0.09581127919686787,-0.09579944916278842,-0.09579944916278842,-0.09579944916278842,-0.0958231092309474,-0.20298062225188673,-0.20116529356816262,-0.20868594097216284,-0.20298062225188673,-0.20298062225188673,-0.17277844234895828,-0.17694908533489118,-0.17628778076397217,-0.17676044152995615,-0.1748991082740089,-0.19698358127247761,-0.19698358127247761,-0.19698358127247761,-0.19700724134063657,-0.19698358127247761,-0.2175130145333972,-0.20442899684145194,-0.19406588698779542,-0.19465738869177124,-0.1970825456780721,0.8892316268584601,0.8889722941893569,0.8892316268584601,0.8892316268584601,0.8889722941893569,-0.17511137359668272,-0.17511137359668272,-0.17511137359668272,-0.17511137359668272,-0.17511137359668272,-0.08994905625614291,-0.08994905625614291,-0.08994905625614291,-0.08994905625614291,-0.08994905625614291,-0.10955667493918204,-0.11173340120981311,-0.1097696155526133,-0.10939105446206884,-0.11040843739290727,-0.19636091359922161,-0.19636091359922161,-0.19636091359922161,-0.19636091359922161,-0.19636091359922161,-0.09458642961531345,-0.09458642961531345,-0.09458642961531345,-0.09458642961531345,-0.09458642961531345,-0.10447737463829908,-0.10421804196919558,-0.10447737463829908,-0.10421804196919558,-0.10421804196919558,-0.10069202854274988,-0.10309894600817894,-0.10950039773131294,-0.09395292637859703,-0.08087140774312875,-0.06757870235818102,-0.06802625833076115,-0.06545803643313038,-0.0651397300153591,-0.06802625833076115,0.2630275636462351,0.27645844783822265,0.2623206750045515,0.2623206750045515,0.2623206750045515,0.2128329987711509,0.2113955614196248,0.2061870801780905,0.20574045228615628,0.2125254178850835,0.49431842158507705,0.4728174701176492,0.48342644948273195,0.4974540736824775,0.48033811752164934,-0.14125444602448245,-0.1480867317597277,-0.13866111933344782,-0.1410178453428921,-0.148323332441318,-0.03047176188645733,-0.03047176188645733,-0.03047176188645733,-0.03047176188645733,-0.03047176188645733,-0.2032223333653412,-0.2032223333653412,-0.2032223333653412,-0.2032223333653412,-0.2032223333653412,-0.22139018721802037,-0.22139018721802037,-0.22164951988712372,-0.22139018721802037,-0.22139018721802037,0.4588120392696685,0.4441173406634363,0.40960968318333923,0.45373381009919733,0.4178665290370113,-0.2069026250824109,-0.2069026250824109,-0.2069026250824109,-0.2069026250824109,-0.2069026250824109,-0.3451251773662475,-0.34486584469714404,-0.3451251773662475,-0.3474591713881786,-0.3451251773662475,-0.13528285652741268,-0.15359715936743532,-0.14638689522226295,-0.1365795198729301,-0.13554287999657302,-0.17715079312679538,-0.177857681768479,-0.17715079312679538,-0.17715079312679538,-0.17927145905184608,-0.1937606721085439,-0.1937606721085439,-0.1937606721085439,-0.1937606721085439,-0.1937606721085439,0.14301073730290845,0.14301073730290845,0.14301073730290845,0.14301073730290845,0.14301073730290845,0.10489253331920002,0.09677542077626179,0.09573809009984793,0.1001467454746067,0.09807208412177906,-0.21601338380229623,-0.21601338380229623,-0.21601338380229623,-0.21601338380229623,-0.21601338380229623,-0.20771524143730524,-0.23624183503868565,-0.33219492260696476,-0.20764455257313702,-0.20764455257313702,-0.20953213494201253,-0.20953213494201253,-0.20953213494201253,-0.20953213494201253,-0.20953213494201253,0.12951738067926818,0.11663685770457277,0.12348108839247651,0.11682730361108003,0.11879371133105848,-0.29717646402486203,-0.2934381732557348,-0.29166366814380723,-0.29793358620595106,-0.32277665777293585,-0.14400466171603066,-0.14476178389711977,-0.1433888632035586,-0.14464255547567864,-0.1446898756119967,-0.1400989095284335,-0.1400989095284335,-0.1400989095284335,-0.1400989095284335,-0.1426685761513091,-0.1782773833457071,-0.17827767468601594,-0.1782773833457071,-0.17825401461785692,-0.1782773833457071,0.9142190317059541,0.9168123583969883,0.9733397896635141,0.900093088906362,0.9167886983288293,0.006111917300730905,0.013660407124108393,0.02035556967277763,0.005852584631627448,-0.030820521014873984,-0.10700028371992225,-0.10841406100328936,-0.10770717236160585,-0.10841406100328936,-0.10770717236160585,-0.2813255805377205,-0.2813255805377205,-0.2813255805377205,-0.2813255805377205,-0.28158491320682394,-0.14260963241636812,-0.1611827859212092,-0.11538236792803626,-0.14959482648599817,-0.13371344678857164,0.004681027201006241,0.007274353892040803,0.008830349906661566,0.0036436965245924035,0.0026063658481785637,-0.18552475291831746,-0.1864909742291044,-0.18578408558742096,-0.18552475291831746,-0.18578408558742096,-0.19385531238117998,-0.19385531238117998,-0.19385531238117998,-0.19385531238117998,-0.19385531238117998,-0.04217037624574413,-0.04217037624574413,-0.04217037624574413,-0.04217037624574413,-0.04217037624574413,-0.08052970344654406,-0.08052970344654406,-0.08052970344654406,-0.08052970344654406,-0.08052970344654406,-0.10174168303026106,-0.10171802296210199,-0.10197735563120548,-0.10197735563120548,-0.10145869029299862,-0.21326524479681622,-0.21325341476273674,-0.21326524479681622,-0.21325341476273674,-0.21333593366098455,-0.9329997114302683,-0.9322217134229582,-0.927035060040889,-0.934555707444889,-0.944669681539924],\"yaxis\":\"y\",\"type\":\"scattergl\"},{\"hovertemplate\":\"color=0<br>PC1=%{x}<br>PC2=%{y}<extra></extra>\",\"legendgroup\":\"0\",\"marker\":{\"color\":\"#EF553B\",\"symbol\":\"circle\"},\"mode\":\"markers\",\"name\":\"0\",\"showlegend\":true,\"x\":[2.5472397543477157,2.539024808326158,2.5451197682776368,2.5427347839487964,2.5348294532240976,2.1877131916031005,2.1835178365010397,2.1835178365010397,2.1835178365010397,2.1881327271133055,0.9235737766526687,0.9637411436502336,0.8496296046710923,0.9682620163122241,0.8491290599995182,1.640265582189243,1.5713277037275661,1.4734301385133697,1.5941926136468543,1.522039964218447,3.455306144235683,3.4292354933591165,3.3103760802758764,3.4123893707801005,3.515435925994473,0.22220644754155922,0.23630213995843588,0.2200698772780483,0.23187471299249385,0.1769806933322306,3.0985824415339476,3.1310440090951754,3.126274040437497,3.266723117580253,3.1383321803479354,0.6451637454872047,0.6464481959916415,0.6464481959916415,0.6445172096419403,0.647520791716443,4.091015296770624,3.5634023253059035,3.826942374505779,4.093398842825739,4.096402424900239,0.6533856373820088,0.6527156857086434,0.6564420370409103,0.6611444239512362,0.651964437219165,2.4942414978999117,2.4896266072876467,2.4938219623897058,2.4896266072876467,2.493049724872355,1.1809414584160058,1.1809414584160058,1.181060635718762,1.181060635718762,1.1851368135180664,1.7114356241128572,1.7114356241128572,1.7114356241128572,1.7114356241128572,1.7115548014156128,0.6314669547606766,0.6319129900967586,0.6319129900967586,0.631493454586553,0.631886490270883,0.5210158005781688,0.5210158005781688,0.5222075736057261,0.5210158005781688,0.5210158005781688,0.8212545775736447,0.8213022484947469,0.8198006144800248,0.8205871846782127,0.8247825397802726,2.103053893167487,2.0992780735756336,2.0988585380654268,2.0988585380654268,2.0988585380654268,0.5639317433125748,0.5088250791865669,0.6751691673489124,0.6377524747305011,0.5750627523439656,6.061380839942359,6.061380839942359,6.061380839942359,6.061380839942359,6.061380839942359,0.7666989696293003,1.7720071192678182,1.7711680482474068,1.7694899062065823,1.7673922286555526,1.7762024743698788,3.1636136207036953,3.1636136207036953,3.159418265601634,3.163194085193489,3.158998730091428,1.1035309632135737,1.1023257245320197,1.1083112333230543,1.104392135640857,1.103544285040198,1.2597216704116065,1.2644768447915595,1.2632850717640023,1.2597097526813312,1.2623582969952052,1.805948827531834,1.2767977868098626,1.2809931419119227,1.2798013688843657,1.3523141786469444,2.3582007786304393,2.371206379446826,2.640548176999083,2.6812431214890657,2.400573865161246,0.7378817687091038,0.7641264950462658,0.6706369097733869,0.746272478913224,0.6804932513866384,-0.19165040013069692,2.5370086761277753,2.5412040312298347,2.5382004491553323,2.5370086761277753,2.5370086761277753,2.4869533959946963,2.3295619302725084,2.6070211357511344,2.4515511586450076,2.6501480599593643,2.1413689612574727,1.7597714686431927,1.5769226700988501,2.4196171329553864,1.6193223915004369,3.279197089977557,2.7426611092888007,2.945607742653889,2.0089530905898703,2.6943298075010413,1.4756400292882297,1.4756400292882297,1.4756400292882297,1.4756400292882297,1.4756400292882297,0.7365166879661998,0.8423235436401553,0.8553291444565416,0.7365166879661998,0.8507142538442753,2.568089511786845,2.0658785397907087,1.9857362023388794,2.9247121564209886,2.240975562988513,1.790590284978001,1.7947856400800608,1.7947856400800608,1.790590284978001,1.790590284978001,2.2686794690200554,2.092290381477957,1.8439641820100754,2.2252515428830244,2.2023622339410824,1.0837602699349256,1.0799224467411328,1.0847756919589107,1.079564914832866,1.0835219153294142,0.765612001245641,1.0799214030952766,0.995029654662336,0.982012136115674,1.005911078101816,0.9916733705806879,0.9626030957182804,0.7198948406696408,0.7387756131222429,0.7535649410586016,0.7078998319761172,0.7415351213094278,0.7356763324308848,0.7356763324308848,0.7357955097336407,0.7359413306896451,0.7356763324308848,2.517578577622306,2.520582159696809,2.521773932724366,2.521773932724366,2.520582159696809,0.9330626125157891,0.9326430770055831,0.9330626125157891,0.9330626125157891,0.9352930595931821,2.388202281899157,2.388202281899157,2.3840069267970967,2.3840069267970967,2.3840069267970967,0.7576075627350931,0.7655787374290074,0.7618029178371529,0.8075322884496079,0.7232724844012611,2.4575432153305976,2.4576623926333543,2.4575432153305976,2.4575432153305976,2.4571236798203926,0.8867149552994468,0.8813519766754391,0.8911486650070181,0.8864766006939352,0.8832209594232019,0.45519604060078794,1.8021384923602086,1.8018381341527583,1.8021384923602086,1.8022576696629646,1.8022576696629646,2.060594782271719,2.061014317781925,2.060594782271719,2.060594782271719,2.0611334950846802,2.9772951846332267,2.981071004225081,2.9814905397352858,2.9814905397352858,2.9761034116056693,1.600198060569371,1.6081692352632848,1.6043934156714308,1.5990062875418136,1.6039738801612253,0.8978347697548579,0.8978347697548579,0.8982543052650637,0.8978347697548579,0.8978347697548579,3.542826540794738,3.534629711985403,3.2119870239255035,3.201651286408196,3.53593946261443,2.6399742721783825,2.6399742721783825,2.6399742721783825,2.6399742721783825,2.6399742721783825,4.96956298089516,4.297886629055339,3.480196461248783,3.379625415099536,3.570460922724054,3.4261099910746466,3.269839071920711,5.475971310029962,5.475971310029962,5.475971310029962,5.475971310029962,5.480166665132022,0.8987619267295434,0.920203936376081,0.9963678160595584,0.9211752361288897,1.0997389047010087,0.5915842950647171,0.5971756194610598,0.4921705375201643,0.4921639860979476,0.48561938710693137,0.48573856440968705,0.48561938710693137,0.48561938710693137,2.514042161247716,2.529942056773311,2.6657310854717364,2.65979120356567,2.488867326665524,1.6064356062777994,1.6064223563648614,1.6068551417880053,1.6068551417880053,1.6064356062777994,4.310276289394983,4.310302789220859,4.310302789220859,4.310276289394983,4.310302789220859,1.8710664084969673,1.9243310585077107,1.900481215219318,1.8819313371061235,1.8313166696829797,2.7478651082281838,2.7478651082281838,2.735279042922003,2.735279042922003,2.7394743980240635,1.2542198081889566,1.1563846575476895,1.1084826836012782,1.2358171893054921,1.1748795075209868,2.5818155103839535,2.5772006197716872,2.577620155281893,2.5764283822543357,2.5818155103839535,1.5603117546309757,1.5203719740593638,1.5157570834470975,1.5506624378962375,1.5603117546309757,1.0323606267264474,1.0313627350936756,1.0297106441388482,1.0251345568759551,1.044479429765429,1.583608464499249,1.5957135633117951,1.6389242585637427,1.617236689416865,1.6324942464813117,0.8053624637252226,0.6527481763247591,0.5375479755426045,0.6836946501156612,0.5381686359537893,1.8521443912343092,1.8560295902455444,1.8658557527507782,1.8684409729570948,1.8376364125596618,4.10152447860144,4.1602594500302805,3.9211242092128566,3.916928854110796,3.9211242092128566,1.4057484823205482,1.4044416082389715,1.404705887360869,1.4086369633410314,1.4018181254772482,1.8460496012262886,1.8915777444175728,2.2562228386750602,2.6325760555141904,2.1287408798240968,1.1584417305675654,0.8443288107260206,0.86842834561358,1.1595191561934883,0.9952159172715521,1.2577377118882662,0.9877336900076181,0.9342296583057678,1.0022223978148368,0.9609560191954715,3.070756372126279,3.0720149786568975,3.055233558248658,3.0469753920479055,3.0522041322003357,0.9665397843919008,0.9661202488816948,0.9661083311514191,0.9661202488816948,0.9665397843919008,5.570360714521417,5.610387136531479,5.586407184317256,5.6757304346112,5.572353235420154,1.1373232520455885,1.1399017282515342,1.1376569484933043,1.1299930262571207,1.1407622197819365,0.5944976816763539,0.5936657908773301,0.5924740178497727,0.5956894547039111,0.5958086320066669,2.4924000591141215,2.6106097040264893,2.311668370092408,2.6159968321561067,2.4663188712685775,2.108849552819526,2.1031171245569764,2.1413278801809295,2.099612683765841,2.112556280980288,1.247339465442553,1.247339465442553,1.247339465442553,1.2477590009527588,1.247339465442553,0.5807056379822616,0.5689818957223446,0.5559191212051416,0.5724341050808971,0.5378412401699543,0.5046816216843896,0.5146216368243343,0.5574957012970135,0.49568210548841907,0.502871382862738,1.0986407741760538,1.0874469824066133,1.0890582909443767,1.0932536460464366,1.0890582909443767,4.71453034864973,4.71453034864973,4.71453034864973,4.71453034864973,4.71453034864973,3.8627436742863135,3.862624496983558,3.8627436742863135,3.8627436742863135,3.862624496983558,2.9084732241097364,3.3692126624437244,2.836804516941803,2.8687234852957495,3.5325872562266714,1.9258804996857681,3.1709527803471724,1.8748909137905165,1.9921300643757474,2.124629193755706,2.9386801321098592,2.9393001681292477,2.9347714306245303,2.9404919411568056,2.93810839510169,1.3695262377862778,1.3694997379604017,1.3641391096566606,1.364112609830785,1.364112609830785,1.0140689437167687,1.0124576351790058,1.0124576351790058,1.0128771706892115,1.0124576351790058,1.5113989331026183,1.46849510411056,1.4541938277798743,1.4951666704222308,1.5304673015435337,1.3414639932325065,1.3518010885000082,1.3057013496619312,1.4265072648348467,1.5597525081489134,0.7000356131880505,0.6278422790448146,0.46468939786336355,0.5675626101812805,0.6031038791854249,1.173512188727259,1.1740642233668452,1.1739078743941769,1.1734883388839707,1.1734883388839707,1.641482725075351,1.6454155760662894,1.6467265263966022,1.6439854484332206,1.6432703846166865,2.1333550256631684,2.112417999891683,2.0994256489882344,2.115249333097991,2.1037005035679224,2.0658922805734883,1.9890427855331128,2.0684530290848904,2.060768079580853,2.0336517270809757,1.1161728851130206,1.087970925401355,1.1289130856460423,1.2015019799167006,1.1895711833397937,1.442965087938005,1.4395220977670269,1.4455059753746577,1.437375070738958,1.4471150469666083,1.7702344598017017,1.9502792793009656,1.803006091399667,1.915298427556724,1.7980565730016616,0.943109010158056,0.7737365614269449,0.7470102986757172,0.8363921928083415,1.9944289618331255,1.9946939600918854,1.9948484973433311,1.9944289618331255,1.9946939600918854,0.7862121978827533,0.7874039709103104,0.7904075529848136,0.7874039709103104,0.7862121978827533,1.163939105828201,1.164711343345552,1.1663226518833152,1.163939105828201,1.1651308788557586,0.7722118169363369,0.7821967620792398,0.7821967620792398,0.7704497677934716,0.7738060518751195,4.617791682401393,4.617791682401393,4.617791682401393,4.617791682401393,4.617791682401393,5.625388421864733,5.638617102470619,5.638497925167863,5.638497925167863,5.635041783387946,3.605847295514157,3.6058353777838805,3.605847295514157,3.60542776000395,3.605847295514157,2.565553383381213,2.565553383381213,2.565553383381213,2.565553383381213,2.565553383381213,0.9607629441857409,1.1736890450993342,0.8040694737810021,1.047814872188374,0.8225663522424441,2.411606841086867,2.4108676277647225,2.4092941733232878,2.412297755397791,2.4139903871419817,1.0008345545276607,1.006486680916038,0.9984510084725462,1.004499913112201,1.0092252647317808,1.7198233797850297,1.751705506587596,1.7224312618098776,1.740415116795716,1.755933885884863,6.4491089190621915,6.4226090931862,6.409359180248203,6.427909058361398,1.9601164857063427,1.9589769931936754,1.9487480604055425,1.958234998069148,1.9508195085276803,1.7498195328904023,2.1038858873152178,1.7522717726553128,1.9597648237671992,2.188082724306082,2.7616526241219814,2.753522510702354,2.6360714117645134,2.5065593968687407,2.799671416825015,0.675676805104669,0.6747555106809564,0.6715344496543608,0.6745819296301,0.674767428411232,1.1383092578367537,1.1434298056065137,1.1389264173086922,1.141829707511831,1.1449993391381044,1.0143124906347347,1.0138929551245288,1.0139644615061822,1.0138929551245288,1.0138929551245288,0.8688315114554797,0.8350704059236713,0.8955275149275054,0.7813988543007139,0.8484121156457645,1.7571494986585774,1.7529541435565177,1.7571494986585774,1.7571494986585774,1.7571494986585774,0.6624057983926647,0.6624057983926647,0.6628253339028708,0.6625603356441107,0.6628253339028708,2.5978660634936306,1.326673467569426,1.6706925859383523,2.4342472145132876,1.3770177287941472,1.622622707648249,1.6159287612729452,1.645716510786022,1.6378432465210928,1.6070148472767984,5.196140131631801,5.19773012118436,5.194594759117339,5.192871551298537,5.1927397713060195,1.2188001222687657,1.2176083492412082,1.2192196577789716,1.2180278847514148,1.2176083492412082,1.7665901091088527,1.7665901091088527,1.7927685050729176,1.7862239060819012,1.773134708099869,2.3601986915805773,2.3601986915805773,2.3601986915805773,2.3601986915805773,2.3606182270907827,2.3458271095479155,2.3497560281174903,2.3458006097220387,2.347018882575473,2.347018882575473,0.6985982206947491,0.6962397361917858,0.7011066024024525,0.6939781492418108,0.704003466036589,1.4444550346709046,1.4409726807198582,1.4461636262167297,1.4423628428730537,1.4411180701937447,1.1278915947329575,1.1260419315896824,1.1264614670998883,1.1264614670998883,1.1282491266412242,1.373596564870328,0.9612868284363051,1.0005544223824028,0.9351084324722403,1.2165261890859385,1.4784148449457744,1.479871616232091,1.4782816266795313,1.4805333927421285,1.4793416197145717,1.9068835688205688,1.9068835688205688,1.9068835688205688,1.9064640333103626,1.9064640333103626,2.2736281782203656,1.937261236364708,2.382525308529304,2.2754750620897073,2.403157070401484,3.7529278245858353,4.2709746244625535,5.069431065267361,3.705881081936854,4.650363365423673,0.9788493095417459,1.18981856994418,0.994722739392705,1.0631165303359986,1.1964359526447426,1.9142553138818486,1.9167580372397188,1.9166388599369633,1.911251731807346,1.9100599587797886,1.0799638177993924,1.079663459591942,1.0799638177993924,1.0790055694762248,1.0800829951021482,0.817055674181753,0.817320672440513,0.8131253173384527,0.812860319079693,0.8131253173384527,3.3796983486414094,3.421403817906844,3.379903365006654,3.432180646139169,3.401673731196886,1.385559224238637,1.400967690714625,1.3770493367317609,1.3675240272009,1.405043868513929,1.0002237223427335,0.9988467381887893,1.0052688468836015,1.0085790238801406,1.0039043215920467,2.3996610471105613,2.3728550561235986,2.4034270533434454,2.2424039317590667,2.2704353960403933,0.8769788125290205,0.8199776870697625,0.9363830395293407,0.8515692139889183,0.8966333007153531,2.8929182878075532,2.699159943615956,2.697349572842734,2.3151774666728353,2.4317767005271986,1.2813640952134666,1.1553842648489083,1.1721656852571485,1.24768207709423,1.2016523482743247,1.3296530594088838,0.9208758456604749,1.0991646036467195,0.8712470797344057,1.6611238532160821,1.8248162935016217,1.6527814420231817,2.0214588430485554,1.7266713697317273,3.2446398078391727,3.2404444527371123,3.2404444527371123,3.2404444527371123,3.2404444527371123,0.5516372187570345,0.5516372187570345,0.5516372187570345,0.5504454457294773,0.5516372187570345,0.6982238164755005,0.703610944605118,0.7048027176326754,0.6994155895030579,0.703610944605118,1.5116432479517652,1.5158386030538251,1.5116432479517652,1.5116432479517652,1.5158386030538251,3.5551213194497913,3.5429547896538165,3.549247822306907,3.5467306092456714,3.538759434551756,2.653928717533947,2.023553018943086,2.1950681675330106,2.282287778663113,2.5370005108226907,2.0302082004859856,1.799659715364858,1.9984084094347958,1.706910324798887,2.1044077129387633,1.2292242215824463,1.0958045589475525,0.979880861413044,1.52043727888064,1.2168628105861816],\"xaxis\":\"x\",\"y\":[0.5622380583458795,0.5695726794751796,0.5641308637986021,0.5662602699329151,0.5721660061662142,1.312006542826234,1.3145998695172694,1.3145998695172694,1.3145998695172694,1.3117472101571308,0.8465893743220343,0.7868016963596696,0.8420156038055808,0.7948297203096096,0.8390466715105099,0.4779488382650336,0.7164384368270689,0.13613018214118383,0.31928403279725204,0.09063867257544503,0.5461272372474583,0.5108469000312038,0.10459348836928348,0.438051936953234,0.4195836724024559,6.204708335408831,6.205340038831452,6.136537612712447,6.243247229537938,5.880596604286681,1.071109833710375,1.0502598396995508,1.054518651968177,0.9291202907253013,1.035619731471825,0.10259677877418658,0.11039621390086478,0.11039621390086478,0.126420424783887,0.1167582116760168,-2.855329376600091,-2.3679902405857565,-2.595156028943349,-2.8411916037664198,-2.85085381687429,0.597427881356487,0.5978294657748532,0.595166906921194,0.5910497637212134,0.5982562210226419,2.2445858349681114,2.2474384943282493,2.2448451676372145,2.2474384943282493,2.2375169485512756,1.079916477608719,1.079916477608719,1.0806233662504023,1.0806233662504023,1.0773231509176848,-0.827503565521548,-0.827503565521548,-0.827503565521548,-0.827503565521548,-0.8267966768798642,0.9864829964050925,0.9862000036678301,0.9862000036678301,0.9864593363369335,0.9862236637359894,0.8519002598523358,0.8519002598523358,0.8589691462691713,0.8519002598523358,0.8519002598523358,0.0992891017690665,0.09957185722574001,0.09066506034052708,0.0953305253756386,0.09273719868460403,2.2414001180260223,2.243734112047953,2.243993444717056,2.243993444717056,2.243993444717056,0.9775041003848521,0.8998912785988157,1.0285622380806834,0.9370773251786579,0.8873566797272113,2.0417884749613666,2.0417884749613666,2.0417884749613666,2.0417884749613666,2.0417884749613666,0.25127088951322224,0.5569002243322453,0.5574188896704521,0.558456220346866,0.5597528836923831,0.5543068976412108,1.6256628349289637,1.6256628349289637,1.6282561616199982,1.6259221675980673,1.628515494289102,0.47830391258755606,0.4736869330499975,0.5073809871692181,0.4783483193207867,0.4774787236050773,1.0686349586070971,1.0968398154102712,1.0897709289934356,1.068564269742929,1.0824654418950095,-1.6038734848672611,-1.280295320684481,-1.2828886473755154,-1.2899575337923512,-1.3269752011231035,-0.4901864224534174,-0.4982257351956245,-0.6647173087600438,-0.6898725776630792,-0.5163790220328666,0.10517676158744937,0.09597879921639396,0.14596310000231896,0.09999010820538022,0.14690277179445738,4.269084816501108,1.077025874366686,1.0744325476756518,1.0840947607835216,1.077025874366686,1.077025874366686,-1.3490456622162013,-1.2509081443674654,-1.482174845033618,-1.3502325203743895,-1.4735655059332708,-0.23850797058624917,0.1021970109038286,0.2654514812011575,-0.4869386862560976,0.22759537214670447,-1.1927430335858737,-0.8405805246678288,-0.9676868722682431,-0.38665424208504046,-0.8122052257469361,1.2116510469370247,1.2116510469370247,1.2116510469370247,1.2116510469370247,1.2116510469370247,-0.26598808077359576,-0.3313917799214876,-0.3394310926636948,-0.26598808077359576,-0.33657843330355675,-1.9540166351005654,-1.5758774061200291,-1.469196168622383,-2.2109507474615566,-1.525839297197789,-0.2217903056164609,-0.22438363230749556,-0.22438363230749556,-0.2217903056164609,-0.2217903056164609,0.15540070148599325,0.23842702002956404,0.4779431098420464,0.09626258807029031,0.2987724495027903,1.505082319275357,1.5097963118914424,1.5083574298146711,1.5076756459663916,1.50366854199199,0.7531564298253105,0.5582037751726483,0.7091871630182542,0.7171557868962929,0.7024681736897233,0.7112618243710817,0.7291606162770317,-0.07568406747765383,-0.08894162589444382,-0.0957944812284152,-0.058902758366140485,-0.16165265934429457,0.7435435977074011,0.7435435977074011,0.7442504863490845,0.7433069970258107,0.7435435977074011,0.7224385087565606,0.7127762956486903,0.7198451820655255,0.7198451820655255,0.7127762956486903,-0.2696287590392785,-0.2693694263701751,-0.2696287590392785,-0.2696287590392785,-0.27173543318607846,0.8869303813926521,0.8869303813926521,0.8895237080836866,0.8895237080836866,0.8895237080836866,0.375283479634003,0.3703561589210375,0.3726901529429685,0.3444228920106917,0.38870187407634055,0.6174414912868564,0.6181483799285399,0.6174414912868564,0.6174414912868564,0.6177008239559598,0.40831886498569747,0.3765088761099372,0.4071393155780301,0.4069050877023303,0.3628646638210693,1.1607681129432772,-0.10438261488744933,-0.10341639357666242,-0.10438261488744933,-0.10367572624576583,-0.10367572624576583,0.4166955221847239,0.4164361895156204,0.4166955221847239,0.4166955221847239,0.41714307815730395,1.1915383498690766,1.189204355847146,1.1889450231780423,1.1889450231780423,1.184469463452241,-0.4831492369108835,-0.4880765576238494,-0.4857425636019182,-0.4902181233277192,-0.48548323093281476,0.18885052901637156,0.18885052901637156,0.18859119634726815,0.18885052901637156,0.18885052901637156,1.320894851869214,1.3270608488522628,1.501991334587563,1.532160977319125,1.2945121116545943,1.0051391963861527,1.0051391963861527,1.0051391963861527,1.0051391963861527,1.0051391963861527,-3.298468334037121,-2.8832767308024865,2.4042116519315133,2.502540712623906,2.3802581249913395,2.579984079344969,2.5817440954491007,3.0365215599354873,3.0365215599354873,3.0365215599354873,3.0365215599354873,3.033928233244454,0.5548582614300519,0.5376731692494153,0.4723217467808624,0.5377279140309005,0.38083475977440256,0.6643620826253558,0.655627867682899,0.6791263350276869,0.805770017169128,0.8072224050813176,0.8079292937230014,0.8072224050813176,0.8072224050813176,-0.8322350127888393,-0.8464310536842592,-0.9664010504316117,-0.9623653876635219,-0.809757948037758,1.5819261955140256,1.5819380255481048,1.5816668628449218,1.5816668628449218,1.5819261955140256,-1.3843209783942483,-1.3843446384624072,-1.3843446384624072,-1.3843209783942483,-1.3843446384624072,0.233955781364688,0.18639904436503127,0.20769310570816124,0.22425515341948443,0.2694458836032376,-0.06478315523714774,-0.06478315523714774,-0.057003175164044156,-0.057003175164044156,-0.059596501855078705,0.4416465069499895,0.5579369655717384,0.5718475706888401,0.44099788637005444,0.4954867319999992,1.2360459757830848,1.2388986351432225,1.2386393024741191,1.2315704160572836,1.2360459757830848,1.0710696681331133,1.0957581382317625,1.0986107975919002,1.0770343195224927,1.0710696681331133,0.15734521525269093,0.15125567243683483,0.15971122206859423,0.16494937793819966,0.14767752818210547,0.9581357228540195,1.0075116338868826,0.9080970094201339,1.0785706717799803,1.0168010868024078,0.9812787662540728,0.9537815450552052,1.0173436209116293,1.0787776088033265,1.040375018813469,0.6268795107083732,0.6270984898343143,0.6205149643502164,0.6144037001720299,0.6381041218742252,0.9105029219683604,0.8741963482938762,1.0220159696828466,1.0246092963738813,1.0220159696828466,1.4929245478722797,1.4929389271339792,1.500835915936381,1.490345600442945,1.4952812738817238,0.7571360504126851,0.7097703345567218,0.36902641285269777,0.0493782821469836,0.506134794099035,0.0919061109326387,0.28685316873281147,0.26493121081145193,0.09280122287779888,0.19281017928204247,0.5622323371411131,0.796387667008628,0.8357518407749761,0.7786178866027751,0.8190267645421966,-1.0183132535852955,-1.019091251592606,-1.0087179448284678,-1.0043937796895446,-1.0076331648545862,0.49396082877978365,0.49422016144888703,0.49414947258471886,0.49422016144888703,0.49396082877978365,1.4927264387872645,1.6755354357943906,1.454082017963242,1.7307165253263315,1.4340168072873927,-0.25629108005886064,-0.25908122005977413,-0.25431179186214675,-0.24551723867439623,-0.2567250647546484,0.5704429954955385,0.5928055440855537,0.585736657668718,0.577511881912374,0.5782187705540576,-1.7530584577254846,-1.8354694458304892,-1.55916243494491,-1.830993886104688,-1.7147739641885456,0.24566827146185177,0.2116669277968727,0.21848897129425507,0.24583601548796757,0.24017670133991478,-1.082651571820711,-1.082651571820711,-1.082651571820711,-1.0829109044898149,-1.082651571820711,0.6710042051402298,0.6658148487721769,0.6707672742785463,0.6768977471639827,0.6569641484941898,2.4891368686245707,2.4931397675843883,2.8491105107661605,2.3698107018967183,2.3684889337577975,0.1559082138646622,0.14721642708216365,0.15402598082989585,0.15143265413886126,0.15402598082989585,-2.6185555774004983,-2.6185555774004983,-2.6185555774004983,-2.6185555774004983,-2.6185555774004983,2.2199336763592807,2.2192267877175986,2.2199336763592807,2.2199336763592807,2.2192267877175986,-0.6465626171934712,-1.060368469085699,-0.5833873218057649,-0.6110725149549213,-1.1917115566363938,0.9321517618954199,-0.17961210891003615,0.9764095405338659,0.8730015914978368,0.754701250702671,-0.7885525065240316,-0.8123524924655731,-0.8392142608495484,-0.8052836060487375,-0.8194213788824085,0.8057618937023574,0.8057855537705166,0.8012863339765565,0.8013099940447155,0.8013099940447155,1.3874448047684167,1.3806352510206845,1.3806352510206845,1.3803759183515811,1.3806352510206845,0.455881611313442,0.2014017003073606,0.11657506330533332,0.3870791851944371,0.5689837939828118,-0.1456495594352115,-0.1604106697011337,-0.11993093224761878,-0.14829424875140274,-0.19746760237132532,1.4574282157371743,1.4738294899771993,1.3926094438521488,1.3555617919745777,1.3252876522703982,0.672829690306091,0.6724520572961923,0.6725916516983304,0.672850984367434,0.672850984367434,1.097298598388483,1.1206259235640408,1.12840169862256,1.112143259863838,1.1079019280137365,0.6479940630814573,0.6609252064343917,0.6689526891425193,0.651416783769555,0.6662883822470077,0.9908559206505594,1.0594701183117559,0.9908744822634777,0.9977359020295973,1.017336635375759,-0.7041126571431129,-0.6872446594033724,-0.722870187935478,-0.7677308486801151,-0.7344080659888724,-0.9747283490152419,-0.9702042196250465,-0.9719545240716181,-0.9771521836383084,-0.9794095464270255,-0.6439720608297922,-0.8062212132446798,-0.6736928187601218,-0.7722230814328063,-0.6618980277919031,0.5450351901295213,0.6978027147665323,0.7201196945063669,0.6684569936188252,0.9305159331957712,0.9302793325141813,0.9302566005266678,0.9305159331957712,0.9302793325141813,0.8116184767126481,0.8186873631294834,0.8090251500216132,0.8186873631294834,0.8116184767126481,0.40308525273638623,0.41041347182232524,0.41722302557005747,0.40308525273638623,0.4101541391532217,0.18013580845758778,0.17396369093292546,0.17396369093292546,0.18122500566782226,0.1791503443149946,0.4597502007570791,0.4597502007570791,0.4597502007570791,0.4597502007570791,0.4597502007570791,3.9800328938755403,4.058497533102416,4.057790644460732,4.057790644460732,4.037290873851908,-3.0513394391813744,-3.051410128045543,-3.0513394391813744,-3.051080106512271,-3.0513394391813744,2.2540601658524557,2.2540601658524557,2.2540601658524557,2.2540601658524557,2.2540601658524557,-0.021641750591817777,-0.2117503982496494,0.1182602324325454,-0.09936507449424185,0.10174550485754026,2.0249687069946414,2.048061804294499,2.0662066811025723,2.056544467994702,2.0391064798283125,1.4206323530333242,1.424871312077535,1.4064945801996533,1.41851222770547,1.415445699651255,-0.2097585941408004,-0.21299653063851917,-0.21902009685123042,-0.11235060082118105,-0.1851685409437569,3.666356389888458,3.690016458047491,3.7018464921270082,3.685284444415684,1.5000053864826894,1.5010227694135279,1.510155555722915,1.501685251321981,1.5081908419850685,-1.0362792996941332,-1.5519728212269417,-1.342976770708801,-1.29162151001816,-1.5184321189396794,1.2911126936754331,1.2463404521361983,1.4366308439203603,1.4746940403292839,1.217813858534818,0.7949004336028898,0.7944892229780355,0.7974464401576061,0.7947255323193173,0.7945599118422041,1.1535215153785405,1.1761275726507143,1.1622558873729674,1.1959228274237448,1.1567185033431076,-1.3178524167759282,-1.3175930841068246,-1.3171689509218145,-1.3175930841068246,-1.3175930841068246,1.0392619628945896,1.1156075931843885,1.1943515828381104,0.9914380953863747,0.9627926737266074,1.2660471750310331,1.2686405017220677,1.2660471750310331,1.2660471750310331,1.2660471750310331,1.0734627093341849,1.0734627093341849,1.0732033766650815,1.0734399773466718,1.0732033766650815,-2.3234107493400606,-1.5376327619565857,-1.7502855506214205,-2.2222710083897117,-1.5687526822490006,0.7981663867668539,0.7955694905126643,0.7769441255894077,0.7769118515625726,0.8114171362374277,-1.1631161437132749,-1.1645357478028173,-1.1628888238381436,-1.1532173299238149,-1.1612326190670113,-0.9575349381754723,-0.964603824592308,-0.9577942708445759,-0.9648631572614114,-0.964603824592308,0.9875534356789035,0.9875534356789035,0.9817438840301438,0.9831962719423336,0.9861010477667135,1.851452856494392,1.851452856494392,1.851452856494392,1.851452856494392,1.851193523825288,2.436448292155217,2.4503587451137565,2.4364719522233758,2.443517178572052,2.443517178572052,1.1785122488054331,1.180617994871587,1.1832531677362246,1.1896177260710041,1.1818191843849823,-0.5803420414554632,-0.6040715877897244,-0.574547885316128,-0.5931133571420854,-0.6001349234226029,1.4686899000299085,1.4604665689988094,1.4602072363297056,1.4602072363297056,1.4708105659549588,-0.6393441689829146,-0.54784373051495,-0.5565580579880894,-0.5420341788661902,-0.6044868590903567,1.9716494253817693,1.9784817111170148,1.9799013152065568,1.986023798897031,1.978954912480195,-1.2652011790366688,-1.2652011790366688,-1.2652011790366688,-1.2649418463675657,-1.2649418463675657,0.8523869541881307,1.0160855268613591,1.0361550351431137,0.9825507654362579,0.7996069388138368,1.6921782668949603,1.2615855853170794,0.7633772781008381,1.658253438893839,1.155021259814891,0.316479066913354,0.3639239197932328,0.1858507776106613,0.14638368432596208,0.49756320671436566,1.4489782220377045,1.4638228835130596,1.4631159948713757,1.4586404351455746,1.4515715487287395,0.10790237002078658,0.1088685913315735,0.10790237002078658,0.10771414671730989,0.10860925866247009,0.633151105162455,0.6329145044808647,0.6355078311718994,0.6357444318534896,0.6355078311718994,-1.8454479612716272,-1.8718781977327517,-1.8469796934957607,-1.879398424635293,-1.8597602511490574,-0.766968080695665,-0.7827371639241683,-0.7624883159552793,-0.7612836617542081,-0.7860373792568863,0.8689075086356558,0.8587508069023366,0.8993747004325262,0.9224446782614214,0.8981531170975188,7.255766000200049,6.652883171363642,7.071684929223102,6.323191475295088,6.419357744653197,-0.7032817116883989,-0.6523889050783185,-0.7574725485790439,-0.519088540790296,-0.7219824463404944,-2.4038720509183156,-2.2297246684613716,-2.2292607479046502,-1.8868902808369805,-1.9909945807367275,1.2669339025380744,1.344026814627428,1.3336535078632898,1.286973627424667,1.3162071096677312,-0.18685788673839981,0.058193757510934786,-0.044223062570206556,0.08867485596305572,0.511884765848813,1.480062872286187,0.46240256093096405,2.6464291310640617,0.9006735187747715,0.12718372259020666,0.12977704928124129,0.12977704928124129,0.12977704928124129,0.12977704928124129,0.8127494436459578,0.8127494436459578,0.8127494436459578,0.8056805572291221,0.8127494436459578,1.0138985140733843,1.0183740737991853,1.0254429602160207,1.0209674004902198,1.0183740737991853,1.6689438719644192,1.6663505452733844,1.6689438719644192,1.6689438719644192,1.6663505452733844,0.10738343500699268,0.11490408241099277,0.11101409237444061,0.11257008838906139,0.11749740910202712,-0.20575327478030644,-0.06705861725691743,0.15498661894531754,0.11889219018399247,0.007923387221924186,-0.5313771563504771,-0.3255345633668886,-0.5029850745596374,-0.2427243248102724,-0.59762534719577,1.2002800348178637,1.3077688804018324,1.2487302166153837,1.0710530858141267,1.2713701471319836],\"yaxis\":\"y\",\"type\":\"scattergl\"},{\"hovertemplate\":\"color=1<br>PC1=%{x}<br>PC2=%{y}<extra></extra>\",\"legendgroup\":\"1\",\"marker\":{\"color\":\"#00cc96\",\"symbol\":\"circle\"},\"mode\":\"markers\",\"name\":\"1\",\"showlegend\":true,\"x\":[10.130625538379352,10.118268236907486,10.124442696336594,10.141225468729749,10.13354051922571,15.088261641712515,15.061761815836523,15.109461502413305,15.09886157206291,15.088261641712515,12.581655922730736,12.600819318968798,12.574957844270804,12.589473325701393,12.59486045383101,14.58901457468677,14.66631157278253,14.85166877942489,14.90581627212582,14.945840118736141,7.5559246591339235,7.554613708803612,7.554136999592588,7.556401368344948,7.554208505974241,7.862553915792018,7.862553915792018,7.862553915792018,7.862553915792018,7.862553915792018,13.20379523247285,13.202817664545194,13.199075497238667,13.199027826317563,13.203115921847143,9.462368759691302,6.354030164574986,11.346083200516278,7.851559678214052,7.848313855139718,7.8520223924886325,7.845244337041913,7.845244337041913,5.644350523852441,5.6465591111506654,5.646425892884423,5.649870870248302,5.645895896366903,15.131936346238827,15.131936346238827,15.066490356328664,15.45916629578964,15.328274315969315,5.4337205779161035,10.195373607945378,12.56736054914709,9.349103650356799,7.159304252538768,7.6540888535669955,7.659475981696614,7.6540888535669955,7.6540888535669955,7.6540888535669955,6.931811671538896,7.268631852731258,6.0088335490856775,7.1835329776625025,6.214405949086623,8.246577755300324,8.244790095758988,8.239609307886544,8.242735999685168,8.23794475806933,9.286455487670874,9.286455487670874,9.286455487670874,9.286455487670874,9.286455487670874,14.100660106983648,14.100660106983648,14.100660106983648,14.100660106983648,14.100660106983648,7.01358399956556,7.018375241181398,7.0189711276951785,7.019471986411811,7.018375241181398,7.900935222128736,11.65142520060276,15.67537308125336,15.67537308125336,15.67537308125336,15.679568436355417,15.67537308125336,6.234769061916793,6.230573706814732,6.234769061916793,6.230573706814732,6.230573706814732],\"xaxis\":\"x\",\"y\":[-0.9376188157383908,-0.9277381880543741,-0.933250983935429,-0.9470828430020043,-0.9402214232358846,0.5388508179618271,0.5625108861208602,0.5199227634346011,0.529386790698214,0.5388508179618271,-4.020192542963796,-3.8790490425027815,-4.032443877748117,-3.918869034312762,-3.9143934745869604,-0.6503049451602778,-0.70938265923211,-0.892118581683348,-0.9239398357328223,-0.9578040940955,0.9144828789350878,0.9067071038765679,0.9038795493098345,0.9173104335018221,0.9043036824948439,4.312098428619395,4.312098428619395,4.312098428619395,4.312098428619395,4.312098428619395,-3.7833627386588886,-3.7616834186423977,-3.783879721991262,-3.784162477447935,-3.787392003916485,-6.075661887466043,-4.154266142078531,-7.240065571740566,-5.536187054128987,-5.534326261470235,-5.521371492044516,-5.531700921985229,-5.531700921985229,-4.1288800861976505,-4.13783249726075,-4.129580607435963,-4.132656416296636,-4.129107406072782,-1.6889119707047708,-1.6889119707047708,-1.6743880915828717,-1.7615313663142664,-1.7324836080704684,-3.0965101970873126,-4.379245147699609,-5.83766517438641,-3.8483242696937925,3.032266563226369,0.5783157976015669,0.5827913573273676,0.5783157976015669,0.5783157976015669,0.5783157976015669,-2.5512672672561743,-2.751664516122104,-1.9807353952285687,-2.7068668687182496,-2.107808403089263,1.969689484223697,1.9590861545984435,1.9645250568719332,1.9649866046227638,1.964045488105381,3.8612348073297795,3.8612348073297795,3.8612348073297795,3.8612348073297795,3.8612348073297795,2.286830867533426,2.286830867533426,2.286830867533426,2.286830867533426,2.286830867533426,0.8627155957136456,0.863656712231028,0.8671911554394461,0.842684280856221,0.863656712231028,-1.293284837603647,-4.076875654756188,-1.9914808621311944,-1.9914808621311944,-1.9914808621311944,-1.9940741888222295,-1.9914808621311944,-4.3610724554802385,-4.358479128789202,-4.3610724554802385,-4.358479128789202,-4.358479128789202],\"yaxis\":\"y\",\"type\":\"scattergl\"}],                        {\"template\":{\"data\":{\"bar\":[{\"error_x\":{\"color\":\"#2a3f5f\"},\"error_y\":{\"color\":\"#2a3f5f\"},\"marker\":{\"line\":{\"color\":\"#E5ECF6\",\"width\":0.5},\"pattern\":{\"fillmode\":\"overlay\",\"size\":10,\"solidity\":0.2}},\"type\":\"bar\"}],\"barpolar\":[{\"marker\":{\"line\":{\"color\":\"#E5ECF6\",\"width\":0.5},\"pattern\":{\"fillmode\":\"overlay\",\"size\":10,\"solidity\":0.2}},\"type\":\"barpolar\"}],\"carpet\":[{\"aaxis\":{\"endlinecolor\":\"#2a3f5f\",\"gridcolor\":\"white\",\"linecolor\":\"white\",\"minorgridcolor\":\"white\",\"startlinecolor\":\"#2a3f5f\"},\"baxis\":{\"endlinecolor\":\"#2a3f5f\",\"gridcolor\":\"white\",\"linecolor\":\"white\",\"minorgridcolor\":\"white\",\"startlinecolor\":\"#2a3f5f\"},\"type\":\"carpet\"}],\"choropleth\":[{\"colorbar\":{\"outlinewidth\":0,\"ticks\":\"\"},\"type\":\"choropleth\"}],\"contour\":[{\"colorbar\":{\"outlinewidth\":0,\"ticks\":\"\"},\"colorscale\":[[0.0,\"#0d0887\"],[0.1111111111111111,\"#46039f\"],[0.2222222222222222,\"#7201a8\"],[0.3333333333333333,\"#9c179e\"],[0.4444444444444444,\"#bd3786\"],[0.5555555555555556,\"#d8576b\"],[0.6666666666666666,\"#ed7953\"],[0.7777777777777778,\"#fb9f3a\"],[0.8888888888888888,\"#fdca26\"],[1.0,\"#f0f921\"]],\"type\":\"contour\"}],\"contourcarpet\":[{\"colorbar\":{\"outlinewidth\":0,\"ticks\":\"\"},\"type\":\"contourcarpet\"}],\"heatmap\":[{\"colorbar\":{\"outlinewidth\":0,\"ticks\":\"\"},\"colorscale\":[[0.0,\"#0d0887\"],[0.1111111111111111,\"#46039f\"],[0.2222222222222222,\"#7201a8\"],[0.3333333333333333,\"#9c179e\"],[0.4444444444444444,\"#bd3786\"],[0.5555555555555556,\"#d8576b\"],[0.6666666666666666,\"#ed7953\"],[0.7777777777777778,\"#fb9f3a\"],[0.8888888888888888,\"#fdca26\"],[1.0,\"#f0f921\"]],\"type\":\"heatmap\"}],\"heatmapgl\":[{\"colorbar\":{\"outlinewidth\":0,\"ticks\":\"\"},\"colorscale\":[[0.0,\"#0d0887\"],[0.1111111111111111,\"#46039f\"],[0.2222222222222222,\"#7201a8\"],[0.3333333333333333,\"#9c179e\"],[0.4444444444444444,\"#bd3786\"],[0.5555555555555556,\"#d8576b\"],[0.6666666666666666,\"#ed7953\"],[0.7777777777777778,\"#fb9f3a\"],[0.8888888888888888,\"#fdca26\"],[1.0,\"#f0f921\"]],\"type\":\"heatmapgl\"}],\"histogram\":[{\"marker\":{\"pattern\":{\"fillmode\":\"overlay\",\"size\":10,\"solidity\":0.2}},\"type\":\"histogram\"}],\"histogram2d\":[{\"colorbar\":{\"outlinewidth\":0,\"ticks\":\"\"},\"colorscale\":[[0.0,\"#0d0887\"],[0.1111111111111111,\"#46039f\"],[0.2222222222222222,\"#7201a8\"],[0.3333333333333333,\"#9c179e\"],[0.4444444444444444,\"#bd3786\"],[0.5555555555555556,\"#d8576b\"],[0.6666666666666666,\"#ed7953\"],[0.7777777777777778,\"#fb9f3a\"],[0.8888888888888888,\"#fdca26\"],[1.0,\"#f0f921\"]],\"type\":\"histogram2d\"}],\"histogram2dcontour\":[{\"colorbar\":{\"outlinewidth\":0,\"ticks\":\"\"},\"colorscale\":[[0.0,\"#0d0887\"],[0.1111111111111111,\"#46039f\"],[0.2222222222222222,\"#7201a8\"],[0.3333333333333333,\"#9c179e\"],[0.4444444444444444,\"#bd3786\"],[0.5555555555555556,\"#d8576b\"],[0.6666666666666666,\"#ed7953\"],[0.7777777777777778,\"#fb9f3a\"],[0.8888888888888888,\"#fdca26\"],[1.0,\"#f0f921\"]],\"type\":\"histogram2dcontour\"}],\"mesh3d\":[{\"colorbar\":{\"outlinewidth\":0,\"ticks\":\"\"},\"type\":\"mesh3d\"}],\"parcoords\":[{\"line\":{\"colorbar\":{\"outlinewidth\":0,\"ticks\":\"\"}},\"type\":\"parcoords\"}],\"pie\":[{\"automargin\":true,\"type\":\"pie\"}],\"scatter\":[{\"marker\":{\"colorbar\":{\"outlinewidth\":0,\"ticks\":\"\"}},\"type\":\"scatter\"}],\"scatter3d\":[{\"line\":{\"colorbar\":{\"outlinewidth\":0,\"ticks\":\"\"}},\"marker\":{\"colorbar\":{\"outlinewidth\":0,\"ticks\":\"\"}},\"type\":\"scatter3d\"}],\"scattercarpet\":[{\"marker\":{\"colorbar\":{\"outlinewidth\":0,\"ticks\":\"\"}},\"type\":\"scattercarpet\"}],\"scattergeo\":[{\"marker\":{\"colorbar\":{\"outlinewidth\":0,\"ticks\":\"\"}},\"type\":\"scattergeo\"}],\"scattergl\":[{\"marker\":{\"colorbar\":{\"outlinewidth\":0,\"ticks\":\"\"}},\"type\":\"scattergl\"}],\"scattermapbox\":[{\"marker\":{\"colorbar\":{\"outlinewidth\":0,\"ticks\":\"\"}},\"type\":\"scattermapbox\"}],\"scatterpolar\":[{\"marker\":{\"colorbar\":{\"outlinewidth\":0,\"ticks\":\"\"}},\"type\":\"scatterpolar\"}],\"scatterpolargl\":[{\"marker\":{\"colorbar\":{\"outlinewidth\":0,\"ticks\":\"\"}},\"type\":\"scatterpolargl\"}],\"scatterternary\":[{\"marker\":{\"colorbar\":{\"outlinewidth\":0,\"ticks\":\"\"}},\"type\":\"scatterternary\"}],\"surface\":[{\"colorbar\":{\"outlinewidth\":0,\"ticks\":\"\"},\"colorscale\":[[0.0,\"#0d0887\"],[0.1111111111111111,\"#46039f\"],[0.2222222222222222,\"#7201a8\"],[0.3333333333333333,\"#9c179e\"],[0.4444444444444444,\"#bd3786\"],[0.5555555555555556,\"#d8576b\"],[0.6666666666666666,\"#ed7953\"],[0.7777777777777778,\"#fb9f3a\"],[0.8888888888888888,\"#fdca26\"],[1.0,\"#f0f921\"]],\"type\":\"surface\"}],\"table\":[{\"cells\":{\"fill\":{\"color\":\"#EBF0F8\"},\"line\":{\"color\":\"white\"}},\"header\":{\"fill\":{\"color\":\"#C8D4E3\"},\"line\":{\"color\":\"white\"}},\"type\":\"table\"}]},\"layout\":{\"annotationdefaults\":{\"arrowcolor\":\"#2a3f5f\",\"arrowhead\":0,\"arrowwidth\":1},\"autotypenumbers\":\"strict\",\"coloraxis\":{\"colorbar\":{\"outlinewidth\":0,\"ticks\":\"\"}},\"colorscale\":{\"diverging\":[[0,\"#8e0152\"],[0.1,\"#c51b7d\"],[0.2,\"#de77ae\"],[0.3,\"#f1b6da\"],[0.4,\"#fde0ef\"],[0.5,\"#f7f7f7\"],[0.6,\"#e6f5d0\"],[0.7,\"#b8e186\"],[0.8,\"#7fbc41\"],[0.9,\"#4d9221\"],[1,\"#276419\"]],\"sequential\":[[0.0,\"#0d0887\"],[0.1111111111111111,\"#46039f\"],[0.2222222222222222,\"#7201a8\"],[0.3333333333333333,\"#9c179e\"],[0.4444444444444444,\"#bd3786\"],[0.5555555555555556,\"#d8576b\"],[0.6666666666666666,\"#ed7953\"],[0.7777777777777778,\"#fb9f3a\"],[0.8888888888888888,\"#fdca26\"],[1.0,\"#f0f921\"]],\"sequentialminus\":[[0.0,\"#0d0887\"],[0.1111111111111111,\"#46039f\"],[0.2222222222222222,\"#7201a8\"],[0.3333333333333333,\"#9c179e\"],[0.4444444444444444,\"#bd3786\"],[0.5555555555555556,\"#d8576b\"],[0.6666666666666666,\"#ed7953\"],[0.7777777777777778,\"#fb9f3a\"],[0.8888888888888888,\"#fdca26\"],[1.0,\"#f0f921\"]]},\"colorway\":[\"#636efa\",\"#EF553B\",\"#00cc96\",\"#ab63fa\",\"#FFA15A\",\"#19d3f3\",\"#FF6692\",\"#B6E880\",\"#FF97FF\",\"#FECB52\"],\"font\":{\"color\":\"#2a3f5f\"},\"geo\":{\"bgcolor\":\"white\",\"lakecolor\":\"white\",\"landcolor\":\"#E5ECF6\",\"showlakes\":true,\"showland\":true,\"subunitcolor\":\"white\"},\"hoverlabel\":{\"align\":\"left\"},\"hovermode\":\"closest\",\"mapbox\":{\"style\":\"light\"},\"paper_bgcolor\":\"white\",\"plot_bgcolor\":\"#E5ECF6\",\"polar\":{\"angularaxis\":{\"gridcolor\":\"white\",\"linecolor\":\"white\",\"ticks\":\"\"},\"bgcolor\":\"#E5ECF6\",\"radialaxis\":{\"gridcolor\":\"white\",\"linecolor\":\"white\",\"ticks\":\"\"}},\"scene\":{\"xaxis\":{\"backgroundcolor\":\"#E5ECF6\",\"gridcolor\":\"white\",\"gridwidth\":2,\"linecolor\":\"white\",\"showbackground\":true,\"ticks\":\"\",\"zerolinecolor\":\"white\"},\"yaxis\":{\"backgroundcolor\":\"#E5ECF6\",\"gridcolor\":\"white\",\"gridwidth\":2,\"linecolor\":\"white\",\"showbackground\":true,\"ticks\":\"\",\"zerolinecolor\":\"white\"},\"zaxis\":{\"backgroundcolor\":\"#E5ECF6\",\"gridcolor\":\"white\",\"gridwidth\":2,\"linecolor\":\"white\",\"showbackground\":true,\"ticks\":\"\",\"zerolinecolor\":\"white\"}},\"shapedefaults\":{\"line\":{\"color\":\"#2a3f5f\"}},\"ternary\":{\"aaxis\":{\"gridcolor\":\"white\",\"linecolor\":\"white\",\"ticks\":\"\"},\"baxis\":{\"gridcolor\":\"white\",\"linecolor\":\"white\",\"ticks\":\"\"},\"bgcolor\":\"#E5ECF6\",\"caxis\":{\"gridcolor\":\"white\",\"linecolor\":\"white\",\"ticks\":\"\"}},\"title\":{\"x\":0.05},\"xaxis\":{\"automargin\":true,\"gridcolor\":\"white\",\"linecolor\":\"white\",\"ticks\":\"\",\"title\":{\"standoff\":15},\"zerolinecolor\":\"white\",\"zerolinewidth\":2},\"yaxis\":{\"automargin\":true,\"gridcolor\":\"white\",\"linecolor\":\"white\",\"ticks\":\"\",\"title\":{\"standoff\":15},\"zerolinecolor\":\"white\",\"zerolinewidth\":2}}},\"xaxis\":{\"anchor\":\"y\",\"domain\":[0.0,1.0],\"title\":{\"text\":\"PC1\"}},\"yaxis\":{\"anchor\":\"x\",\"domain\":[0.0,1.0],\"title\":{\"text\":\"PC2\"}},\"legend\":{\"title\":{\"text\":\"color\"},\"tracegroupgap\":0},\"title\":{\"text\":\"PCA representation\"}},                        {\"responsive\": true}                    ).then(function(){\n",
              "                            \n",
              "var gd = document.getElementById('d49f14e6-ea69-4eca-9ad0-ae187a2994a0');\n",
              "var x = new MutationObserver(function (mutations, observer) {{\n",
              "        var display = window.getComputedStyle(gd).display;\n",
              "        if (!display || display === 'none') {{\n",
              "            console.log([gd, 'removed!']);\n",
              "            Plotly.purge(gd);\n",
              "            observer.disconnect();\n",
              "        }}\n",
              "}});\n",
              "\n",
              "// Listen for the removal of the full notebook cells\n",
              "var notebookContainer = gd.closest('#notebook-container');\n",
              "if (notebookContainer) {{\n",
              "    x.observe(notebookContainer, {childList: true});\n",
              "}}\n",
              "\n",
              "// Listen for the clearing of the current output cell\n",
              "var outputEl = gd.closest('.output');\n",
              "if (outputEl) {{\n",
              "    x.observe(outputEl, {childList: true});\n",
              "}}\n",
              "\n",
              "                        })                };                            </script>        </div>\n",
              "</body>\n",
              "</html>"
            ]
          },
          "metadata": {}
        }
      ]
    }
  ]
}